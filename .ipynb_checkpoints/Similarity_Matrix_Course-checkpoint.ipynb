{
 "cells": [
  {
   "cell_type": "markdown",
   "metadata": {},
   "source": [
    "The below code is used for generating the corpus from the words of course description. \n",
    "\n",
    "The code used below is referenced from the site\n",
    "\n",
    "https://www.oreilly.com/learning/how-do-i-compare-document-similarity-using-python\n",
    "\n",
    "https://radimrehurek.com/gensim/tut3.html\n",
    "\n"
   ]
  },
  {
   "cell_type": "code",
   "execution_count": null,
   "metadata": {
    "collapsed": true
   },
   "outputs": [],
   "source": []
  },
  {
   "cell_type": "markdown",
   "metadata": {},
   "source": [
    "### import the libraries"
   ]
  },
  {
   "cell_type": "code",
   "execution_count": 2,
   "metadata": {
    "collapsed": true
   },
   "outputs": [],
   "source": [
    "import numpy as np\n",
    "import math\n",
    "import matplotlib.pyplot as plt \n",
    "import pandas as pd\n",
    "\n",
    "%matplotlib inline "
   ]
  },
  {
   "cell_type": "code",
   "execution_count": 3,
   "metadata": {
    "collapsed": true
   },
   "outputs": [],
   "source": [
    "import gensim\n",
    "from nltk.tokenize import word_tokenize"
   ]
  },
  {
   "cell_type": "markdown",
   "metadata": {},
   "source": [
    "### Read the dataset from the csv file into a pandas dataframe. "
   ]
  },
  {
   "cell_type": "code",
   "execution_count": 45,
   "metadata": {},
   "outputs": [],
   "source": [
    "dataset = pd.read_csv(\"data/data.csv\",engine='python')"
   ]
  },
  {
   "cell_type": "code",
   "execution_count": 46,
   "metadata": {},
   "outputs": [
    {
     "data": {
      "text/plain": [
       "0    Data visualization is crucial to conveying inf...\n",
       "1    This course examines the construction of a dat...\n",
       "2    This course meets the first 8 weeks of the sem...\n",
       "3    This course meets the last 8 weeks of the seme...\n",
       "4    2 or 4 credits: Provides an introduction to a ...\n",
       "Name: Description, dtype: object"
      ]
     },
     "execution_count": 46,
     "metadata": {},
     "output_type": "execute_result"
    }
   ],
   "source": [
    "dataset['Description'].head()"
   ]
  },
  {
   "cell_type": "code",
   "execution_count": 218,
   "metadata": {
    "collapsed": true
   },
   "outputs": [],
   "source": [
    "no_of_nodes = 30"
   ]
  },
  {
   "cell_type": "markdown",
   "metadata": {},
   "source": [
    "The below code simply extract the data from description columns\n",
    "\n",
    "These are the documents for us. \n",
    "\n",
    "For demo purpose used only the 2 rows. \n",
    "\n",
    "storing the course description into a list. \n"
   ]
  },
  {
   "cell_type": "code",
   "execution_count": 219,
   "metadata": {},
   "outputs": [],
   "source": [
    "cnt = 0 \n",
    "text_list= []\n",
    "for text in dataset[\"Description\"]:\n",
    "    #print (text)\n",
    "    text_list.append(text)\n",
    "    cnt+=1\n",
    "    if cnt > 2: \n",
    "        break"
   ]
  },
  {
   "cell_type": "code",
   "execution_count": null,
   "metadata": {
    "collapsed": true
   },
   "outputs": [],
   "source": []
  },
  {
   "cell_type": "markdown",
   "metadata": {},
   "source": [
    "From the above text_list, \n",
    "break extract the words and store it in a list for each document. \n"
   ]
  },
  {
   "cell_type": "code",
   "execution_count": 220,
   "metadata": {},
   "outputs": [
    {
     "name": "stdout",
     "output_type": "stream",
     "text": [
      "Data visualization is crucial to conveying information drawn from models, observations or investigations. This course will provide an overview of historical and modern techniques for visualizing data, drawing on quantitative, statistical, and network-focused datasets. Topics will include construction of communicative visualizations, the modern software ecosystem of visualization, and techniques for aggregation and interpretation of data through visualization.Particular attention will be paid to the Python ecosystem and multi-dimensional quantitative datasets. Variety of newly developed and special topics courses on different aspects of the information sciences intended to augment the existing curriculum, offered as sections of IS 590. Course Information: Additional fees may apply. See Class Schedule. 1 to 4 graduate hours. No professional credit. May be repeated. Class Schedule Information: Class materials fee or field trip fee may be required.\n",
      "This course examines the construction of a data warehouse and business intelligence system. It will review the roles and requirements of building the system, including data modelling and business intelligence product design. This course will explore real-world case studies of data warehouse and business intelligence projects leading to a final project to design a solution for a business case. Variety of newly developed and special topics courses on different aspects of the information sciences intended to augment the existing curriculum, offered as sections of IS 590. Course Information: Additional fees may apply. See Class Schedule. 1 to 4 graduate hours. No professional credit. May be repeated. Class Schedule Information: Class materials fee or field trip fee may be required.\n",
      "This course meets the first 8 weeks of the semester. The opening night of any exhibition is the culmination of many months and sometimes years of planning centered around an initial core idea for a show. After that idea has gelled into a working concept, it is handed to Design and Installation Specialists to see what is really possible. Can we have all the art suspended from wires? Can the ceiling support a replica of a sea mine? Can we devise a secure vitrine for this priceless manuscript? Does this meet ADA restrictions? How will everything fit together? Can we get that look? This course will address how exhibitions attains a specific look? This is not a course on developing or curating the information, but rather a course on presenting that information in the most compelling way. We will look at the planning, fabricating, painting, building, and installing are large parts of our work. We also have to consider that nothing, with few exceptions, is permanent. Our work needs to be se Variety of newly developed and special topics courses on different aspects of the information sciences intended to augment the existing curriculum, offered as sections of IS 590. Course Information: Additional fees may apply. See Class Schedule. 1 to 4 graduate hours. No professional credit. May be repeated. Class Schedule Information: Class materials fee or field trip fee may be required.\n"
     ]
    }
   ],
   "source": [
    "wordlist = []\n",
    "for text in text_list:\n",
    "    words =[]\n",
    "    print(text)\n",
    "    for word in word_tokenize(text):\n",
    "        words.append(word)\n",
    "    wordlist.append(words)\n",
    "    #print(wordlist)  "
   ]
  },
  {
   "cell_type": "code",
   "execution_count": 221,
   "metadata": {},
   "outputs": [
    {
     "name": "stdout",
     "output_type": "stream",
     "text": [
      "Data visualization is crucial to conveying information drawn from models, observations or investigations. This course will provide an overview of historical and modern techniques for visualizing data, drawing on quantitative, statistical, and network-focused datasets. Topics will include construction of communicative visualizations, the modern software ecosystem of visualization, and techniques for aggregation and interpretation of data through visualization.Particular attention will be paid to the Python ecosystem and multi-dimensional quantitative datasets. Variety of newly developed and special topics courses on different aspects of the information sciences intended to augment the existing curriculum, offered as sections of IS 590. Course Information: Additional fees may apply. See Class Schedule. 1 to 4 graduate hours. No professional credit. May be repeated. Class Schedule Information: Class materials fee or field trip fee may be required.\n",
      "This course examines the construction of a data warehouse and business intelligence system. It will review the roles and requirements of building the system, including data modelling and business intelligence product design. This course will explore real-world case studies of data warehouse and business intelligence projects leading to a final project to design a solution for a business case. Variety of newly developed and special topics courses on different aspects of the information sciences intended to augment the existing curriculum, offered as sections of IS 590. Course Information: Additional fees may apply. See Class Schedule. 1 to 4 graduate hours. No professional credit. May be repeated. Class Schedule Information: Class materials fee or field trip fee may be required.\n",
      "This course meets the first 8 weeks of the semester. The opening night of any exhibition is the culmination of many months and sometimes years of planning centered around an initial core idea for a show. After that idea has gelled into a working concept, it is handed to Design and Installation Specialists to see what is really possible. Can we have all the art suspended from wires? Can the ceiling support a replica of a sea mine? Can we devise a secure vitrine for this priceless manuscript? Does this meet ADA restrictions? How will everything fit together? Can we get that look? This course will address how exhibitions attains a specific look? This is not a course on developing or curating the information, but rather a course on presenting that information in the most compelling way. We will look at the planning, fabricating, painting, building, and installing are large parts of our work. We also have to consider that nothing, with few exceptions, is permanent. Our work needs to be se Variety of newly developed and special topics courses on different aspects of the information sciences intended to augment the existing curriculum, offered as sections of IS 590. Course Information: Additional fees may apply. See Class Schedule. 1 to 4 graduate hours. No professional credit. May be repeated. Class Schedule Information: Class materials fee or field trip fee may be required.\n",
      "This course meets the last 8 weeks of the semester. The opening night of any exhibition is the culmination of many months and sometimes years of planning centered around an initial core idea for a show. After that idea has gelled into a working concept, it is handed to Design and Installation Specialists to see what is really possible. Can we have all the art suspended from wires? Can the ceiling support a replica of a sea mine? Can we devise a secure vitrine for this priceless manuscript? Does this meet ADA restrictions? How will everything fit together? Can we get that look? This course will address how exhibitions attains a specific look? This is not a course on developing or curating the information, but rather a course on presenting that information in the most compelling way. We will look at the planning, fabricating, painting, building, and installing are large parts of our work. We also have to consider that nothing, with few exceptions, is permanent. Our work needs to be sec Variety of newly developed and special topics courses on different aspects of the information sciences intended to augment the existing curriculum, offered as sections of IS 590. Course Information: Additional fees may apply. See Class Schedule. 1 to 4 graduate hours. No professional credit. May be repeated. Class Schedule Information: Class materials fee or field trip fee may be required.\n",
      "2 or 4 credits: Provides an introduction to a wide variety of online learning methods, including videos, multimedia tutorials, webinars, and online courses (including synchronous, asynchronous, and hybrid models) with a focus on their use in libraries and information centers. The course will prepare students to develop patron-oriented e-learning resources and to lead online courses following best practices. Variety of newly developed and special topics courses on different aspects of the information sciences intended to augment the existing curriculum, offered as sections of IS 590. Course Information: Additional fees may apply. See Class Schedule. 1 to 4 graduate hours. No professional credit. May be repeated. Class Schedule Information: Class materials fee or field trip fee may be required.\n",
      "This course will introduce students to major ethical theories and their application to the design, management, and use of information and information technologies. Some of the topics and issues considered include: professional ethics, intellectual property, privacy, data mining, and information access. Variety of newly developed and special topics courses on different aspects of the information sciences intended to augment the existing curriculum, offered as sections of IS 590. Course Information: Additional fees may apply. See Class Schedule. 1 to 4 graduate hours. No professional credit. May be repeated. Class Schedule Information: Class materials fee or field trip fee may be required.\n",
      "2 or 4 credits: Prerequisite: IS 504 or consent of instructor: This is a hybrid course that meets with IS 590 GEO. Provides a basic knowledge of U.S. genealogical and family history research, and explores ways in which librarians can best serve researchers in this field. This course will familiarize you with how to gather the major sources used in family history research, as well as how to properly analyze, organize, and document them. A variety of sources, both print and digital, will be covered including vital, census, church, military and land records. In addition to readings and lectures, students will complete a series of assignments in order to acquire research skills. Note: Students enrolled for 4 hours of credit will be required to complete a compiled genealogy and some personal monetary expenses should be expected of students completing this project (e.g., expenses incurred for ordering records, etc.). Acquiring the necessary documents could cost approximately $100.00 to $200. Variety of newly developed and special topics courses on different aspects of the information sciences intended to augment the existing curriculum, offered as sections of IS 590. Course Information: Additional fees may apply. See Class Schedule. 1 to 4 graduate hours. No professional credit. May be repeated. Class Schedule Information: Class materials fee or field trip fee may be required.\n",
      "2 or 4 credits: Prerequisite: IS 504 or consent of instructor: This is a hybrid course that meets with IS 590 GE. Provides a basic knowledge of U.S. genealogical and family history research, and explores ways in which librarians can best serve researchers in this field. This course will familiarize you with how to gather the major sources used in family history research, as well as how to properly analyze, organize, and document them. A variety of sources, both print and digital, will be covered including vital, census, church, military and land records. In addition to readings and lectures, students will complete a series of assignments in order to acquire research skills. Note: Students enrolled for 4 hours of credit will be required to complete a compiled genealogy and some personal monetary expenses should be expected of students completing this project (e.g., expenses incurred for ordering records, etc.). Acquiring the necessary documents could cost approximately $100.00 to $200.0 Variety of newly developed and special topics courses on different aspects of the information sciences intended to augment the existing curriculum, offered as sections of IS 590. Course Information: Additional fees may apply. See Class Schedule. 1 to 4 graduate hours. No professional credit. May be repeated. Class Schedule Information: Class materials fee or field trip fee may be required.\n",
      "The course will examine the current state of global health informatics from both a local and global perspective, including opportunities and challenges. Focus will be placed on the transition from paper-based records to electronic systems, with a particular emphasis on large international open-source initiatives and use of mobile devices. Guest speakers will share their experiences with WHO, international education based on mobile devices, and regulatory issues. Meets with IS 490 GHU Variety of newly developed and special topics courses on different aspects of the information sciences intended to augment the existing curriculum, offered as sections of IS 590. Course Information: Additional fees may apply. See Class Schedule. 1 to 4 graduate hours. No professional credit. May be repeated. Class Schedule Information: Class materials fee or field trip fee may be required.\n",
      "[Expanded title: Local, Regional and Global Intersections in Library and Information Science]. Required course for joint African Studies/LIS Master's degree. This course explores traditions and trends in library and information science (LIS) from a global perspective incorporating local and regional intersections. Participants consider diverse information contexts emphasizing IS subfields including archives, community informatics, data curation, information policy, IS education, and youth services. Variety of newly developed and special topics courses on different aspects of the information sciences intended to augment the existing curriculum, offered as sections of IS 590. Course Information: Additional fees may apply. See Class Schedule. 1 to 4 graduate hours. No professional credit. May be repeated. Class Schedule Information: Class materials fee or field trip fee may be required.\n",
      "This course covers information and knowledge in the workplace, building effective knowledge management strategies, and examining technologies for knowledge management, specifically Microsoft SharePoint. Some topics covered will include knowledge management objectives, business process analysis and improvement, information governance and standards, and strategic planning. The course prepares students on how to build a successful knowledge process for an organization. Emphasis will be on case studies, projects, and hands-on learning. Variety of newly developed and special topics courses on different aspects of the information sciences intended to augment the existing curriculum, offered as sections of IS 590. Course Information: Additional fees may apply. See Class Schedule. 1 to 4 graduate hours. No professional credit. May be repeated. Class Schedule Information: Class materials fee or field trip fee may be required.\n",
      "Examines all aspects of non-profit marketing, including the basic principles of marketing, and their application to a wide variety of settings, particularly non-profits, and applying the principles in an evaluation of an information service provider, carrying out basic market research for this provider, and writing a basic marketing plan. The goals of this course are: to provide a theoretical foundation that can be applied to many different organizational settings, particularly non-profits; to apply these theoretical concepts to a real-world situation comparable to the settings in which you will be employed; to develop team and leadership organization, communication and planning skills. Variety of newly developed and special topics courses on different aspects of the information sciences intended to augment the existing curriculum, offered as sections of IS 590. Course Information: Additional fees may apply. See Class Schedule. 1 to 4 graduate hours. No professional credit. May be repeated. Class Schedule Information: Class materials fee or field trip fee may be required.\n",
      "Prerequisites are LIS542 or equivalent (e.g. intro probability/stats STAT 100, CS361, or ECON 202) and LIS490IDS/CS398IDS/STAT430IDS or CS101 or equivalent; or consent of the instructor . Linear Algebra recommended at the level of MATH 125 or higher; Calculus recommended at the level of MATH 220. A dramatic increase in computing power has enabled new areas of data science to develop in statistical modeling and analysis. These areas cover predictive and descriptive learning bridge ideas and theory in statistics, computer science and artificial intelligence. We will cover many of these new methods including predictive learning such as estimating models from data to predict future outcomes, notably regression and classification models. Regression topics include linear regression with recent advances to deal with large numbers of variables, smoothing techniques, additive models, and local regression. Classification topics include discriminant analysis, logistic regression, support vector m Variety of newly developed and special topics courses on different aspects of the information sciences intended to augment the existing curriculum, offered as sections of IS 590. Course Information: Additional fees may apply. See Class Schedule. 1 to 4 graduate hours. No professional credit. May be repeated. Class Schedule Information: Class materials fee or field trip fee may be required.\n",
      "Introduces the theory and practice of oral history to graduate students in history, communication, library and information science and related fields through reading, discussion and practice with field work and interviewing. Over the last fifty years, oral history has moved from a controversial (and sometimes despised) technique on the margins of the discipline history, to one of the most important forms of historical knowledge production and dissemination in the academic and non-academic worlds. Yet its goals and relations to the communities it touches are often less than clear. Examines oral historical works, some canonical, some experimental, produced by historians, anthropologists, folklorists, sociologists and political activists. Up for discussion are questions of orality and literacy, privileged versus marginal histories, the problem of memory, problems of listening and learning how to ask, and debates about audience and presentation. Readings will cross continents (the Americas Variety of newly developed and special topics courses on different aspects of the information sciences intended to augment the existing curriculum, offered as sections of IS 590. Course Information: Additional fees may apply. See Class Schedule. 1 to 4 graduate hours. No professional credit. May be repeated. Class Schedule Information: Class materials fee or field trip fee may be required.\n",
      "[Expanded Title: Print Culture and the Material Book in the Age of Print] The course may be taken as 2 or 4 credits. 2 credit students need only attend the first 8 weeks. 4 credit students will write a research paper and lead a seminar session. This course will explore the approximate 500 year history of the printed book in the West from Gutenberg to our digital contemporary with the aim of better understanding the shifting power and purpose of the printing press historically. We will read the work of book historians and bibliographers, examine the role of the printed book in specific epochs such as the Reformation and Scientific Revolution, and examine how print has been used for censorship and propaganda, as well as for the production of knowledge. Particular attention will be paid to the types of material books found in research libraries and university special collections. Variety of newly developed and special topics courses on different aspects of the information sciences intended to augment the existing curriculum, offered as sections of IS 590. Course Information: Additional fees may apply. See Class Schedule. 1 to 4 graduate hours. No professional credit. May be repeated. Class Schedule Information: Class materials fee or field trip fee may be required.\n",
      "[Expanded Title: Preservation and Conservation for Special Collections Care] This course is meant to build on previous coursework in Preservation, Special Collections and/or Rare Book Curation, will focus on the physical structure and chemical composition of book, paper, and photographic materials. Students will learn how historic and modern library and archives materials are produced, how they age and potentially deteriorate, and different approaches for their physical care. Class work will be split between traditional lectures and readings as well as hands-on projects in book construction and minimally invasive treatments and stabilization mechanisms. The goal will be to educate students to a level at which they can effectively communicate with conservation and preservation professionals, as well as set educated priorities and expectations for the care of their collections. An additional course materials fee will be assessed to the student's tuition & fees bill. Variety of newly developed and special topics courses on different aspects of the information sciences intended to augment the existing curriculum, offered as sections of IS 590. Course Information: Additional fees may apply. See Class Schedule. 1 to 4 graduate hours. No professional credit. May be repeated. Class Schedule Information: Class materials fee or field trip fee may be required.\n",
      "The course may be taken as 2 or 4 credits. 2 credit students need only attend the first 8 weeks. 4 credit students will attend the entire semester and develop a significant document and presentation, such as a grant application or budget request. This course will identify the varieties of means and media used in professional communication, analyze the qualities that make those means successful and offer many opportunities to practice using them. The majority of job postings in libraries and other information organizations list amongst their required qualifications excellent oral and written communication skills. How do we develop these skills and demonstrate them to potential employers as well as deploy them in our working lives? The course will touch briefly on the forms usually associated with business communication such as the resume and the effective email message. It will also discuss visual means of communication such as the slide deck, the poster and the data visualisation and Variety of newly developed and special topics courses on different aspects of the information sciences intended to augment the existing curriculum, offered as sections of IS 590. Course Information: Additional fees may apply. See Class Schedule. 1 to 4 graduate hours. No professional credit. May be repeated. Class Schedule Information: Class materials fee or field trip fee may be required.\n",
      "All other students need department approval. Email ischool-advising@illinois.edu. Building on the fundamentals introduced in LIS 452, this course adds skills, data structures, tools, and patterns needed for developing and modifying software to solve more complex problems and to improve code maintainability and reliability. These skills are relevant to many types of programming, but many scenarios used will involve data analysis, conversion, validation, and processing pipelines. The course helps prepare students for work on larger projects with multiple developers. Includes test-driven design, more OOP design concepts, refactoring, profiling, introductory parallel processing, and more. Primarily uses the Python language. Prerequisite: LIS452; or equivalent programming knowledge, with consent of instructor. Variety of newly developed and special topics courses on different aspects of the information sciences intended to augment the existing curriculum, offered as sections of IS 590. Course Information: Additional fees may apply. See Class Schedule. 1 to 4 graduate hours. No professional credit. May be repeated. Class Schedule Information: Class materials fee or field trip fee may be required.\n",
      "All students need instructor approval, obtained by going through the Programming Skills Assessment here: https://courses.ischool.illinois.edu/course/view.php?id=3176\n",
      "\n",
      "[Programming for Analytics and Data Processing]\n",
      "Building on the fundamentals introduced in LIS 452, this course adds skills, data structures, tools, and patterns needed for developing and modifying software to solve more complex problems and to improve code maintainability and reliability. These skills are relevant to many types of programming, but many scenarios used will involve data analysis, conversion, validation, and processing pipelines. The course helps prepare students for work on larger projects with multiple developers. Includes test-driven design, more OOP design concepts, refactoring, profiling, introductory parallel processing, and more. Primarily uses the Python language.\n",
      "\n",
      "Prerequisite: LIS452; or equivalent programming knowledge\n",
      "Building on the fundamentals introduced in LIS 452, this course adds skills, data structures, tools, and patterns needed for developing and modifying software to solve more complex problems and to improve code maintainability and reliability. These skills are relevant to many types of programming, but many scenarios used will involve data analysis, conversion, validation, and processing pipelines. The course helps prepare students for work on larger projects with multiple developers. Includes test-driven design, more OOP design concepts, refactoring, profiling, introductory parallel processing, and more. Primarily uses the Python language.\n",
      "Survey of strategies of qualitative inquiry, considering methods of collecting, analyzing, interpreting, and reporting data. Variety of newly developed and special topics courses on different aspects of the information sciences intended to augment the existing curriculum, offered as sections of IS 590. Course Information: Additional fees may apply. See Class Schedule. 1 to 4 graduate hours. No professional credit. May be repeated. Class Schedule Information: Class materials fee or field trip fee may be required.\n",
      "[Expanded Title: Topics in Self-Organizing Information Systems.] Variety of newly developed and special topics courses on different aspects of the information sciences intended to augment the existing curriculum, offered as sections of IS 590. Course Information: Additional fees may apply. See Class Schedule. 1 to 4 graduate hours. No professional credit. May be repeated. Class Schedule Information: Class materials fee or field trip fee may be required.\n",
      "[Expanded Title: Collection Development for Special Collections] Focuses on the issues and practices related to collection development for special collections libraries. The selection and acquisition of printed, manuscript, and digital materials for special collections libraries is a large subject, but it is a subject that is treated only sparsely in the professional literature. Students will gain an understanding of the nature and makeup of a collection in a rare books and manuscripts library, as well as an overview of the practices and procedures used by acquisitions librarians and development officers involved in the purchase or solicitation of materials for the collection. Attention will also be paid to the legal and ethical considerations that arise in making collection decisions in a special collections library. Variety of newly developed and special topics courses on different aspects of the information sciences intended to augment the existing curriculum, offered as sections of IS 590. Course Information: Additional fees may apply. See Class Schedule. 1 to 4 graduate hours. No professional credit. May be repeated. Class Schedule Information: Class materials fee or field trip fee may be required.\n",
      "Supervised field experience of professional-level duties in an approved library or information center. Course Information: 2 graduate hours. No professional credit. Approved for S/U grading only. A maximum of 2 hours may be applied toward a degree program. Prerequisite: Completion of 14 graduate hours of information sciences courses; submission of Practicum forms.\n",
      "This course introduces students to the knowledge discovery process and methods used to mine patterns from a collection of text. We will critically review text mining methods developed in the knowledge discovery and databases, information science, and computational linguistics communities. Students will develop proficiency with modeling text through individual projects. Variety of newly developed and special topics courses on different aspects of the information sciences intended to augment the existing curriculum, offered as sections of IS 590. Course Information: Additional fees may apply. See Class Schedule. 1 to 4 graduate hours. No professional credit. May be repeated. Class Schedule Information: Class materials fee or field trip fee may be required.\n",
      "Supervised field experience of professional-level duties in an approved library or information center. Course Information: 2 graduate hours. No professional credit. Approved for S/U grading only. A maximum of 2 hours may be applied toward a degree program. Prerequisite: Completion of 14 graduate hours of information sciences courses; submission of Practicum forms.\n",
      "Required core course for MS/LIS students. Explores major issues in the library and information science professions as they involve their communities of users and sponsors. Analyzes specific situations that reflect the professional agenda of these fields, including intellectual freedom, community service, professional ethics, social responsibilities, intellectual property, literacy, historical and international models, the socio-cultural role of libraries and information agencies and professionalism in general, focusing in particular on the interrelationships among these issues. Course Information: 2 or 4 graduate hours. No professional credit. Prerequisite: Required M.S. in library and information science degree core course.\n",
      "Required core course for MS/LIS students. Explores major issues in the library and information science professions as they involve their communities of users and sponsors. Analyzes specific situations that reflect the professional agenda of these fields, including intellectual freedom, community service, professional ethics, social responsibilities, intellectual property, literacy, historical and international models, the socio-cultural role of libraries and information agencies and professionalism in general, focusing in particular on the interrelationships among these issues. Course Information: 2 or 4 graduate hours. No professional credit. Prerequisite: Required M.S. in library and information science degree core course.\n",
      "Explores reference and information services in a variety of settings, introduces widely used print and online sources, and develops question negotiation skills and search strategies. Course Information: 4 graduate hours. No professional credit.\n",
      "Explores reference and information services in a variety of settings, introduces widely used print and online sources, and develops question negotiation skills and search strategies. Course Information: 4 graduate hours. No professional credit.\n"
     ]
    }
   ],
   "source": [
    "for text in dataset['Description'][:no_of_nodes]:\n",
    "    print(text)"
   ]
  },
  {
   "cell_type": "markdown",
   "metadata": {},
   "source": [
    "Extract the text for each of the rows from the data frame.\n",
    "\n",
    "once done generate the list of words from that. \n",
    "\n",
    "store the words corresponding to the course description into a list of list structure. \n"
   ]
  },
  {
   "cell_type": "code",
   "execution_count": 222,
   "metadata": {},
   "outputs": [],
   "source": [
    "### The above earlier two steps are done in one go in this code\n",
    "gen_word_token_docs = [[ w.lower() for w in word_tokenize(str(text))] for text in dataset['Description'][:no_of_nodes]]"
   ]
  },
  {
   "cell_type": "code",
   "execution_count": 223,
   "metadata": {
    "collapsed": true
   },
   "outputs": [],
   "source": [
    "### The below code is generating the dictionary for us. \n",
    "### so for every word we have an index\n",
    "\n",
    "word_dictionary = gensim.corpora.Dictionary(gen_word_token_docs)"
   ]
  },
  {
   "cell_type": "code",
   "execution_count": 224,
   "metadata": {},
   "outputs": [
    {
     "name": "stdout",
     "output_type": "stream",
     "text": [
      "apply\n",
      "20\n"
     ]
    }
   ],
   "source": [
    "print(word_dictionary[10])\n",
    "print(word_dictionary.token2id['course'])"
   ]
  },
  {
   "cell_type": "code",
   "execution_count": 225,
   "metadata": {},
   "outputs": [
    {
     "name": "stdout",
     "output_type": "stream",
     "text": [
      "Number of words in dictionary: 820\n"
     ]
    }
   ],
   "source": [
    "print(\"Number of words in dictionary:\",len(word_dictionary))\n",
    "#for i in range(len(word_dictionary)):\n",
    "    #print(i, word_dictionary[i])"
   ]
  },
  {
   "cell_type": "code",
   "execution_count": 226,
   "metadata": {
    "collapsed": true
   },
   "outputs": [],
   "source": [
    "### In this case we are generating our corpus from the word dictionary \n",
    "### This gives us the frequency distribution of the words. \n",
    "### It will have the index of the word and the no of times it appeared in course description for the course. \n",
    "\n",
    "### For example word :course\" has index of 5 and it appeared 1 in the course 1, \n",
    "### whereas it also appeared 1 time in the second course too, but not in course 3. \n",
    "corpus = [word_dictionary.doc2bow(gen_doc) for gen_doc in gen_word_token_docs]\n",
    "\n",
    "#corpus"
   ]
  },
  {
   "cell_type": "code",
   "execution_count": 227,
   "metadata": {
    "collapsed": true
   },
   "outputs": [],
   "source": [
    "### This code generates the tf-idf for the corpus. \n",
    "### the value is calculated as a log of the term frequency and how rare is the word across documents. \n",
    "### tf-idf = tf * log(N/D)\n",
    "\n",
    "tf_idf = gensim.models.TfidfModel(corpus)"
   ]
  },
  {
   "cell_type": "code",
   "execution_count": 228,
   "metadata": {},
   "outputs": [
    {
     "name": "stdout",
     "output_type": "stream",
     "text": [
      "2893\n"
     ]
    }
   ],
   "source": [
    "s=0\n",
    "for i in corpus:\n",
    "    s += len(i)\n",
    "print(s)"
   ]
  },
  {
   "cell_type": "code",
   "execution_count": 229,
   "metadata": {
    "collapsed": true
   },
   "outputs": [],
   "source": [
    "### This creates the similarities between the documents \n",
    "sims = gensim.similarities.Similarity('data/',tf_idf[corpus],\n",
    "                                      num_features=len(word_dictionary))\n",
    "sims.save(\"data/similarity_docs.index\")"
   ]
  },
  {
   "cell_type": "code",
   "execution_count": 230,
   "metadata": {},
   "outputs": [
    {
     "name": "stdout",
     "output_type": "stream",
     "text": [
      "['data', 'visualization', 'is', 'crucial', 'to', 'conveying', 'information', 'drawn', 'from', 'models', ',', 'observations', 'or', 'investigations', '.', 'this', 'course', 'will', 'provide', 'an', 'overview', 'of', 'historical', 'and', 'modern', 'techniques', 'for', 'visualizing', 'data', ',', 'drawing', 'on', 'quantitative', ',', 'statistical', ',', 'and', 'network-focused', 'datasets', '.', 'topics', 'will', 'include', 'construction', 'of', 'communicative', 'visualizations', ',', 'the', 'modern', 'software', 'ecosystem', 'of', 'visualization', ',', 'and', 'techniques', 'for', 'aggregation', 'and', 'interpretation', 'of', 'data', 'through', 'visualization.particular', 'attention', 'will', 'be', 'paid', 'to', 'the', 'python', 'ecosystem', 'and', 'multi-dimensional', 'quantitative', 'datasets', '.', 'variety', 'of', 'newly', 'developed', 'and', 'special', 'topics', 'courses', 'on', 'different', 'aspects', 'of', 'the', 'information', 'sciences', 'intended', 'to', 'augment', 'the', 'existing', 'curriculum', ',', 'offered', 'as', 'sections', 'of', 'is', '590', '.', 'course', 'information', ':', 'additional', 'fees', 'may', 'apply', '.', 'see', 'class', 'schedule', '.', '1', 'to', '4', 'graduate', 'hours', '.', 'no', 'professional', 'credit', '.', 'may', 'be', 'repeated', '.', 'class', 'schedule', 'information', ':', 'class', 'materials', 'fee', 'or', 'field', 'trip', 'fee', 'may', 'be', 'required', '.']\n"
     ]
    }
   ],
   "source": [
    "### Below code is for getting the similarity between the query and the stored documents\n",
    "\n",
    "### first we create the word tokes from the course description. \n",
    "### In this case I have chosen the first course from the data set\n",
    "### I expect the similarity of 1 between this query and the documents and rest less than 1. \n",
    "\n",
    "\n",
    "query_doc = [w.lower() for w in word_tokenize(dataset[\"Description\"][0])]\n",
    "print(query_doc)"
   ]
  },
  {
   "cell_type": "code",
   "execution_count": 231,
   "metadata": {},
   "outputs": [
    {
     "name": "stdout",
     "output_type": "stream",
     "text": [
      "[(0, 7), (1, 10), (2, 1), (3, 1), (4, 1), (5, 2), (6, 1), (7, 1), (8, 1), (9, 6), (10, 1), (11, 1), (12, 1), (13, 1), (14, 1), (15, 3), (16, 3), (17, 1), (18, 1), (19, 1), (20, 2), (21, 1), (22, 1), (23, 1), (24, 1), (25, 3), (26, 2), (27, 1), (28, 1), (29, 1), (30, 1), (31, 2), (32, 1), (33, 2), (34, 1), (35, 1), (36, 2), (37, 1), (38, 1), (39, 1), (40, 1), (41, 1), (42, 4), (43, 1), (44, 1), (45, 1), (46, 2), (47, 1), (48, 3), (49, 1), (50, 2), (51, 1), (52, 1), (53, 1), (54, 1), (55, 1), (56, 7), (57, 1), (58, 2), (59, 2), (60, 1), (61, 1), (62, 1), (63, 1), (64, 1), (65, 2), (66, 1), (67, 1), (68, 2), (69, 1), (70, 1), (71, 1), (72, 1), (73, 1), (74, 1), (75, 2), (76, 4), (77, 1), (78, 1), (79, 4), (80, 2), (81, 1), (82, 1), (83, 2), (84, 1), (85, 1), (86, 1), (87, 3)]\n"
     ]
    }
   ],
   "source": [
    "### we need to perform the same operation on the query as we did for the documents. \n",
    "\n",
    "query_doc_bow = word_dictionary.doc2bow(query_doc)\n",
    "print(query_doc_bow)"
   ]
  },
  {
   "cell_type": "code",
   "execution_count": 232,
   "metadata": {},
   "outputs": [
    {
     "name": "stdout",
     "output_type": "stream",
     "text": [
      "[(0, 0.021815751590713559), (2, 0.014010273245179365), (3, 0.0064641304653313848), (4, 0.014010273245179365), (5, 0.0030627919086074723), (6, 0.014010273245179365), (7, 0.15363839271705526), (8, 0.049626354283410397), (9, 0.018699215649183053), (10, 0.014010273245179365), (11, 0.010079807997598989), (12, 0.014010273245179365), (13, 0.10401203843364488), (14, 0.014010273245179365), (15, 0.030239423992796964), (16, 0.042030819735538093), (17, 0.15363839271705526), (18, 0.10401203843364488), (19, 0.15363839271705526), (21, 0.010079807997598989), (22, 0.0031165359415305086), (23, 0.15363839271705526), (24, 0.014010273245179365), (25, 0.1488790628502312), (26, 0.30727678543411052), (27, 0.014010273245179365), (28, 0.014010273245179365), (29, 0.15363839271705526), (30, 0.15363839271705526), (31, 0.30727678543411052), (32, 0.014010273245179365), (33, 0.02802054649035873), (34, 0.014010273245179365), (35, 0.010079807997598989), (36, 0.036631221609456865), (37, 0.054385684150234481), (38, 0.0031165359415305086), (39, 0.091016905759691347), (40, 0.0031165359415305086), (41, 0.091016905759691347), (42, 0.012466143766122035), (43, 0.014010273245179365), (44, 0.15363839271705526), (45, 0.15363839271705526), (46, 0.02802054649035873), (47, 0.014010273245179365), (48, 0.030239423992796964), (49, 0.080937097762092347), (50, 0.24465529847674664), (51, 0.15363839271705526), (52, 0.15363839271705526), (53, 0.014010273245179365), (54, 0.0031165359415305086), (55, 0.15363839271705526), (57, 0.014010273245179365), (58, 0.01292826093066277), (59, 0.0095186597336481722), (60, 0.12232764923837332), (61, 0.10401203843364488), (62, 0.0031165359415305086), (63, 0.12232764923837332), (64, 0.091016905759691347), (65, 0.30727678543411052), (66, 0.014010273245179365), (67, 0.010079807997598989), (68, 0.02802054649035873), (69, 0.010079807997598989), (70, 0.014010273245179365), (71, 0.014010273245179365), (72, 0.091016905759691347), (73, 0.014010273245179365), (74, 0.12232764923837332), (75, 0.24465529847674664), (76, 0.025856521861325539), (77, 0.025656892216021361), (78, 0.091016905759691347), (79, 0.040319231990395957), (80, 0.02802054649035873), (81, 0.014010273245179365), (82, 0.010079807997598989), (83, 0.30727678543411052), (84, 0.15363839271705526), (85, 0.15363839271705526), (86, 0.15363839271705526), (87, 0.048335005846452117)]\n"
     ]
    }
   ],
   "source": [
    "## calculate the tf-idf for the words in the query. \n",
    "\n",
    "query_doc_tf_idf = tf_idf[query_doc_bow]\n",
    "print(query_doc_tf_idf)"
   ]
  },
  {
   "cell_type": "code",
   "execution_count": 233,
   "metadata": {},
   "outputs": [
    {
     "data": {
      "text/plain": [
       "array([ 1.        ,  0.05291642,  0.02093163,  0.02091162,  0.03177949,\n",
       "        0.05850635,  0.02186289,  0.02186289,  0.02274158,  0.02731515,\n",
       "        0.03202693,  0.03267913,  0.06736888,  0.03270705,  0.0369765 ,\n",
       "        0.04821682,  0.02007798,  0.05072667,  0.04861942,  0.04512456,\n",
       "        0.04175039,  0.04516177,  0.04802553,  0.00747467,  0.03316455,\n",
       "        0.00747467,  0.02263265,  0.02263265,  0.00159014,  0.00159014], dtype=float32)"
      ]
     },
     "execution_count": 233,
     "metadata": {},
     "output_type": "execute_result"
    }
   ],
   "source": [
    "### the sims object now returns an array of the similarity \n",
    "## between the query and the stored documents. \n",
    "### note that the  1st value of the array is 1, which is expected, since.\n",
    "### we queried the course description from the 1st row itself. \n",
    "\n",
    "sims[query_doc_tf_idf]"
   ]
  },
  {
   "cell_type": "code",
   "execution_count": 292,
   "metadata": {},
   "outputs": [],
   "source": [
    "## Creating the matrix of similarity values now. \n",
    "\n",
    "sim_matrix = []\n",
    "for query in dataset[\"Description\"][:no_of_nodes]:\n",
    "    #print(query)\n",
    "    query_doc = [w.lower() for w in word_tokenize(str(query))]\n",
    "    query_doc_bow = word_dictionary.doc2bow(query_doc)\n",
    "    query_doc_tf_idf = tf_idf[query_doc_bow]\n",
    "    sim_matrix.append(sims[query_doc_tf_idf])"
   ]
  },
  {
   "cell_type": "code",
   "execution_count": 295,
   "metadata": {},
   "outputs": [
    {
     "data": {
      "text/plain": [
       "array([ 0.07450081,  0.04220842,  0.01104483,  0.01103427,  0.0114152 ,\n",
       "        0.02356257,  0.02883739,  0.02883739,  0.01720505,  0.01625257,\n",
       "        0.03779929,  0.01732803,  0.0574089 ,  0.00658913,  0.0079435 ,\n",
       "        0.00570859,  0.03457381,  0.13654867,  0.13788781,  0.15438059,\n",
       "        0.02626375,  0.00302056,  0.00759945,  0.00542109,  0.14472124,\n",
       "        0.00542109,  0.00496084,  0.00496084,  0.03964936,  0.03964936], dtype=float32)"
      ]
     },
     "execution_count": 295,
     "metadata": {},
     "output_type": "execute_result"
    }
   ],
   "source": []
  },
  {
   "cell_type": "code",
   "execution_count": 278,
   "metadata": {},
   "outputs": [],
   "source": [
    "df = pd.DataFrame(sim_matrix )\n",
    "course_id = np.array(dataset[\"ID\"][:no_of_nodes])\n",
    "df.columns = course_id\n",
    "df[\"CourseID\"] =dataset[\"ID\"]\n",
    "#df.set_index(\"CourseID\")\n",
    "df.to_csv(\"sim_matrix.csv\")\n"
   ]
  },
  {
   "cell_type": "code",
   "execution_count": 279,
   "metadata": {
    "collapsed": true
   },
   "outputs": [],
   "source": [
    "\n",
    "df.set_index(\"CourseID\", inplace=True)\n",
    "#df.reindex(\"CourseID\")\n"
   ]
  },
  {
   "cell_type": "code",
   "execution_count": 280,
   "metadata": {},
   "outputs": [
    {
     "data": {
      "text/html": [
       "<div>\n",
       "<style>\n",
       "    .dataframe thead tr:only-child th {\n",
       "        text-align: right;\n",
       "    }\n",
       "\n",
       "    .dataframe thead th {\n",
       "        text-align: left;\n",
       "    }\n",
       "\n",
       "    .dataframe tbody tr th {\n",
       "        vertical-align: top;\n",
       "    }\n",
       "</style>\n",
       "<table border=\"1\" class=\"dataframe\">\n",
       "  <thead>\n",
       "    <tr style=\"text-align: right;\">\n",
       "      <th></th>\n",
       "      <th>590DV</th>\n",
       "      <th>590DW</th>\n",
       "      <th>590ED1</th>\n",
       "      <th>590ED2</th>\n",
       "      <th>590ELO</th>\n",
       "      <th>590ET</th>\n",
       "      <th>590GE</th>\n",
       "      <th>590GEO</th>\n",
       "      <th>590GHG</th>\n",
       "      <th>590GLO</th>\n",
       "      <th>...</th>\n",
       "      <th>590SOS</th>\n",
       "      <th>590SPO</th>\n",
       "      <th>590TX</th>\n",
       "      <th>591AMO</th>\n",
       "      <th>594JLW</th>\n",
       "      <th>591</th>\n",
       "      <th>502B</th>\n",
       "      <th>502C</th>\n",
       "      <th>504A</th>\n",
       "      <th>504AO</th>\n",
       "    </tr>\n",
       "  </thead>\n",
       "  <tbody>\n",
       "    <tr>\n",
       "      <th>count</th>\n",
       "      <td>30.000000</td>\n",
       "      <td>30.000000</td>\n",
       "      <td>30.000000</td>\n",
       "      <td>30.000000</td>\n",
       "      <td>30.000000</td>\n",
       "      <td>30.000000</td>\n",
       "      <td>30.000000</td>\n",
       "      <td>30.000000</td>\n",
       "      <td>30.000000</td>\n",
       "      <td>30.000000</td>\n",
       "      <td>...</td>\n",
       "      <td>30.000000</td>\n",
       "      <td>30.000000</td>\n",
       "      <td>30.000000</td>\n",
       "      <td>30.000000</td>\n",
       "      <td>30.000000</td>\n",
       "      <td>30.000000</td>\n",
       "      <td>30.000000</td>\n",
       "      <td>30.000000</td>\n",
       "      <td>30.000000</td>\n",
       "      <td>30.000000</td>\n",
       "    </tr>\n",
       "    <tr>\n",
       "      <th>mean</th>\n",
       "      <td>0.064162</td>\n",
       "      <td>0.069259</td>\n",
       "      <td>0.103796</td>\n",
       "      <td>0.103635</td>\n",
       "      <td>0.083520</td>\n",
       "      <td>0.088508</td>\n",
       "      <td>0.114336</td>\n",
       "      <td>0.114336</td>\n",
       "      <td>0.070168</td>\n",
       "      <td>0.077513</td>\n",
       "      <td>...</td>\n",
       "      <td>0.063580</td>\n",
       "      <td>0.079989</td>\n",
       "      <td>0.077093</td>\n",
       "      <td>0.083048</td>\n",
       "      <td>0.077121</td>\n",
       "      <td>0.083048</td>\n",
       "      <td>0.103289</td>\n",
       "      <td>0.103289</td>\n",
       "      <td>0.090307</td>\n",
       "      <td>0.090307</td>\n",
       "    </tr>\n",
       "    <tr>\n",
       "      <th>std</th>\n",
       "      <td>0.177524</td>\n",
       "      <td>0.177670</td>\n",
       "      <td>0.242335</td>\n",
       "      <td>0.242314</td>\n",
       "      <td>0.174934</td>\n",
       "      <td>0.177849</td>\n",
       "      <td>0.237376</td>\n",
       "      <td>0.237376</td>\n",
       "      <td>0.178789</td>\n",
       "      <td>0.177441</td>\n",
       "      <td>...</td>\n",
       "      <td>0.177936</td>\n",
       "      <td>0.177462</td>\n",
       "      <td>0.176981</td>\n",
       "      <td>0.249675</td>\n",
       "      <td>0.175804</td>\n",
       "      <td>0.249675</td>\n",
       "      <td>0.245620</td>\n",
       "      <td>0.245620</td>\n",
       "      <td>0.248775</td>\n",
       "      <td>0.248775</td>\n",
       "    </tr>\n",
       "    <tr>\n",
       "      <th>min</th>\n",
       "      <td>0.001590</td>\n",
       "      <td>0.003997</td>\n",
       "      <td>0.004651</td>\n",
       "      <td>0.004646</td>\n",
       "      <td>0.017509</td>\n",
       "      <td>0.003210</td>\n",
       "      <td>0.021450</td>\n",
       "      <td>0.021450</td>\n",
       "      <td>0.002672</td>\n",
       "      <td>0.014657</td>\n",
       "      <td>...</td>\n",
       "      <td>0.003758</td>\n",
       "      <td>0.003674</td>\n",
       "      <td>0.008238</td>\n",
       "      <td>0.001557</td>\n",
       "      <td>0.003481</td>\n",
       "      <td>0.001557</td>\n",
       "      <td>0.004050</td>\n",
       "      <td>0.004050</td>\n",
       "      <td>0.001590</td>\n",
       "      <td>0.001590</td>\n",
       "    </tr>\n",
       "    <tr>\n",
       "      <th>25%</th>\n",
       "      <td>0.021863</td>\n",
       "      <td>0.023885</td>\n",
       "      <td>0.028398</td>\n",
       "      <td>0.028371</td>\n",
       "      <td>0.033076</td>\n",
       "      <td>0.033531</td>\n",
       "      <td>0.032887</td>\n",
       "      <td>0.032887</td>\n",
       "      <td>0.020595</td>\n",
       "      <td>0.028634</td>\n",
       "      <td>...</td>\n",
       "      <td>0.020394</td>\n",
       "      <td>0.029237</td>\n",
       "      <td>0.024379</td>\n",
       "      <td>0.006514</td>\n",
       "      <td>0.033920</td>\n",
       "      <td>0.006514</td>\n",
       "      <td>0.026063</td>\n",
       "      <td>0.026063</td>\n",
       "      <td>0.003755</td>\n",
       "      <td>0.003755</td>\n",
       "    </tr>\n",
       "    <tr>\n",
       "      <th>50%</th>\n",
       "      <td>0.032353</td>\n",
       "      <td>0.037961</td>\n",
       "      <td>0.040581</td>\n",
       "      <td>0.040542</td>\n",
       "      <td>0.048185</td>\n",
       "      <td>0.052914</td>\n",
       "      <td>0.056599</td>\n",
       "      <td>0.056599</td>\n",
       "      <td>0.030272</td>\n",
       "      <td>0.036068</td>\n",
       "      <td>...</td>\n",
       "      <td>0.025961</td>\n",
       "      <td>0.044805</td>\n",
       "      <td>0.042719</td>\n",
       "      <td>0.014129</td>\n",
       "      <td>0.040592</td>\n",
       "      <td>0.014129</td>\n",
       "      <td>0.034074</td>\n",
       "      <td>0.034074</td>\n",
       "      <td>0.016990</td>\n",
       "      <td>0.016990</td>\n",
       "    </tr>\n",
       "    <tr>\n",
       "      <th>75%</th>\n",
       "      <td>0.047310</td>\n",
       "      <td>0.050520</td>\n",
       "      <td>0.057482</td>\n",
       "      <td>0.057427</td>\n",
       "      <td>0.065227</td>\n",
       "      <td>0.065209</td>\n",
       "      <td>0.073282</td>\n",
       "      <td>0.073282</td>\n",
       "      <td>0.060550</td>\n",
       "      <td>0.046274</td>\n",
       "      <td>...</td>\n",
       "      <td>0.045115</td>\n",
       "      <td>0.075989</td>\n",
       "      <td>0.053683</td>\n",
       "      <td>0.029655</td>\n",
       "      <td>0.053749</td>\n",
       "      <td>0.029655</td>\n",
       "      <td>0.051947</td>\n",
       "      <td>0.051947</td>\n",
       "      <td>0.044579</td>\n",
       "      <td>0.044579</td>\n",
       "    </tr>\n",
       "    <tr>\n",
       "      <th>max</th>\n",
       "      <td>1.000000</td>\n",
       "      <td>1.000000</td>\n",
       "      <td>1.000000</td>\n",
       "      <td>0.999999</td>\n",
       "      <td>1.000000</td>\n",
       "      <td>1.000000</td>\n",
       "      <td>1.000000</td>\n",
       "      <td>1.000000</td>\n",
       "      <td>1.000000</td>\n",
       "      <td>1.000000</td>\n",
       "      <td>...</td>\n",
       "      <td>1.000000</td>\n",
       "      <td>1.000000</td>\n",
       "      <td>1.000000</td>\n",
       "      <td>1.000000</td>\n",
       "      <td>1.000000</td>\n",
       "      <td>1.000000</td>\n",
       "      <td>1.000000</td>\n",
       "      <td>1.000000</td>\n",
       "      <td>1.000000</td>\n",
       "      <td>1.000000</td>\n",
       "    </tr>\n",
       "  </tbody>\n",
       "</table>\n",
       "<p>8 rows × 30 columns</p>\n",
       "</div>"
      ],
      "text/plain": [
       "           590DV      590DW     590ED1     590ED2     590ELO      590ET  \\\n",
       "count  30.000000  30.000000  30.000000  30.000000  30.000000  30.000000   \n",
       "mean    0.064162   0.069259   0.103796   0.103635   0.083520   0.088508   \n",
       "std     0.177524   0.177670   0.242335   0.242314   0.174934   0.177849   \n",
       "min     0.001590   0.003997   0.004651   0.004646   0.017509   0.003210   \n",
       "25%     0.021863   0.023885   0.028398   0.028371   0.033076   0.033531   \n",
       "50%     0.032353   0.037961   0.040581   0.040542   0.048185   0.052914   \n",
       "75%     0.047310   0.050520   0.057482   0.057427   0.065227   0.065209   \n",
       "max     1.000000   1.000000   1.000000   0.999999   1.000000   1.000000   \n",
       "\n",
       "           590GE     590GEO     590GHG     590GLO    ...         590SOS  \\\n",
       "count  30.000000  30.000000  30.000000  30.000000    ...      30.000000   \n",
       "mean    0.114336   0.114336   0.070168   0.077513    ...       0.063580   \n",
       "std     0.237376   0.237376   0.178789   0.177441    ...       0.177936   \n",
       "min     0.021450   0.021450   0.002672   0.014657    ...       0.003758   \n",
       "25%     0.032887   0.032887   0.020595   0.028634    ...       0.020394   \n",
       "50%     0.056599   0.056599   0.030272   0.036068    ...       0.025961   \n",
       "75%     0.073282   0.073282   0.060550   0.046274    ...       0.045115   \n",
       "max     1.000000   1.000000   1.000000   1.000000    ...       1.000000   \n",
       "\n",
       "          590SPO      590TX     591AMO     594JLW        591       502B  \\\n",
       "count  30.000000  30.000000  30.000000  30.000000  30.000000  30.000000   \n",
       "mean    0.079989   0.077093   0.083048   0.077121   0.083048   0.103289   \n",
       "std     0.177462   0.176981   0.249675   0.175804   0.249675   0.245620   \n",
       "min     0.003674   0.008238   0.001557   0.003481   0.001557   0.004050   \n",
       "25%     0.029237   0.024379   0.006514   0.033920   0.006514   0.026063   \n",
       "50%     0.044805   0.042719   0.014129   0.040592   0.014129   0.034074   \n",
       "75%     0.075989   0.053683   0.029655   0.053749   0.029655   0.051947   \n",
       "max     1.000000   1.000000   1.000000   1.000000   1.000000   1.000000   \n",
       "\n",
       "            502C       504A      504AO  \n",
       "count  30.000000  30.000000  30.000000  \n",
       "mean    0.103289   0.090307   0.090307  \n",
       "std     0.245620   0.248775   0.248775  \n",
       "min     0.004050   0.001590   0.001590  \n",
       "25%     0.026063   0.003755   0.003755  \n",
       "50%     0.034074   0.016990   0.016990  \n",
       "75%     0.051947   0.044579   0.044579  \n",
       "max     1.000000   1.000000   1.000000  \n",
       "\n",
       "[8 rows x 30 columns]"
      ]
     },
     "execution_count": 280,
     "metadata": {},
     "output_type": "execute_result"
    }
   ],
   "source": [
    "df.describe()"
   ]
  },
  {
   "cell_type": "code",
   "execution_count": 281,
   "metadata": {
    "collapsed": true
   },
   "outputs": [],
   "source": [
    "import networkx as nx\n",
    "G=nx.Graph()"
   ]
  },
  {
   "cell_type": "code",
   "execution_count": 282,
   "metadata": {
    "collapsed": true
   },
   "outputs": [],
   "source": [
    "### The below code gets us the upper triangular matrix \n",
    "### which removes the duplicates"
   ]
  },
  {
   "cell_type": "code",
   "execution_count": 283,
   "metadata": {},
   "outputs": [
    {
     "name": "stdout",
     "output_type": "stream",
     "text": [
      "[[ True  True  True  True  True  True  True  True  True  True  True  True\n",
      "   True  True  True  True  True  True  True  True  True  True  True  True\n",
      "   True  True  True  True  True  True]\n",
      " [False  True  True  True  True  True  True  True  True  True  True  True\n",
      "   True  True  True  True  True  True  True  True  True  True  True  True\n",
      "   True  True  True  True  True  True]\n",
      " [False False  True  True  True  True  True  True  True  True  True  True\n",
      "   True  True  True  True  True  True  True  True  True  True  True  True\n",
      "   True  True  True  True  True  True]\n",
      " [False False False  True  True  True  True  True  True  True  True  True\n",
      "   True  True  True  True  True  True  True  True  True  True  True  True\n",
      "   True  True  True  True  True  True]\n",
      " [False False False False  True  True  True  True  True  True  True  True\n",
      "   True  True  True  True  True  True  True  True  True  True  True  True\n",
      "   True  True  True  True  True  True]\n",
      " [False False False False False  True  True  True  True  True  True  True\n",
      "   True  True  True  True  True  True  True  True  True  True  True  True\n",
      "   True  True  True  True  True  True]\n",
      " [False False False False False False  True  True  True  True  True  True\n",
      "   True  True  True  True  True  True  True  True  True  True  True  True\n",
      "   True  True  True  True  True  True]\n",
      " [False False False False False False False  True  True  True  True  True\n",
      "   True  True  True  True  True  True  True  True  True  True  True  True\n",
      "   True  True  True  True  True  True]\n",
      " [False False False False False False False False  True  True  True  True\n",
      "   True  True  True  True  True  True  True  True  True  True  True  True\n",
      "   True  True  True  True  True  True]\n",
      " [False False False False False False False False False  True  True  True\n",
      "   True  True  True  True  True  True  True  True  True  True  True  True\n",
      "   True  True  True  True  True  True]\n",
      " [False False False False False False False False False False  True  True\n",
      "   True  True  True  True  True  True  True  True  True  True  True  True\n",
      "   True  True  True  True  True  True]\n",
      " [False False False False False False False False False False False  True\n",
      "   True  True  True  True  True  True  True  True  True  True  True  True\n",
      "   True  True  True  True  True  True]\n",
      " [False False False False False False False False False False False False\n",
      "   True  True  True  True  True  True  True  True  True  True  True  True\n",
      "   True  True  True  True  True  True]\n",
      " [False False False False False False False False False False False False\n",
      "  False  True  True  True  True  True  True  True  True  True  True  True\n",
      "   True  True  True  True  True  True]\n",
      " [False False False False False False False False False False False False\n",
      "  False False  True  True  True  True  True  True  True  True  True  True\n",
      "   True  True  True  True  True  True]\n",
      " [False False False False False False False False False False False False\n",
      "  False False False  True  True  True  True  True  True  True  True  True\n",
      "   True  True  True  True  True  True]\n",
      " [False False False False False False False False False False False False\n",
      "  False False False False  True  True  True  True  True  True  True  True\n",
      "   True  True  True  True  True  True]\n",
      " [False False False False False False False False False False False False\n",
      "  False False False False False  True  True  True  True  True  True  True\n",
      "   True  True  True  True  True  True]\n",
      " [False False False False False False False False False False False False\n",
      "  False False False False False False  True  True  True  True  True  True\n",
      "   True  True  True  True  True  True]\n",
      " [False False False False False False False False False False False False\n",
      "  False False False False False False False  True  True  True  True  True\n",
      "   True  True  True  True  True  True]\n",
      " [False False False False False False False False False False False False\n",
      "  False False False False False False False False  True  True  True  True\n",
      "   True  True  True  True  True  True]\n",
      " [False False False False False False False False False False False False\n",
      "  False False False False False False False False False  True  True  True\n",
      "   True  True  True  True  True  True]\n",
      " [False False False False False False False False False False False False\n",
      "  False False False False False False False False False False  True  True\n",
      "   True  True  True  True  True  True]\n",
      " [False False False False False False False False False False False False\n",
      "  False False False False False False False False False False False  True\n",
      "   True  True  True  True  True  True]\n",
      " [False False False False False False False False False False False False\n",
      "  False False False False False False False False False False False False\n",
      "   True  True  True  True  True  True]\n",
      " [False False False False False False False False False False False False\n",
      "  False False False False False False False False False False False False\n",
      "  False  True  True  True  True  True]\n",
      " [False False False False False False False False False False False False\n",
      "  False False False False False False False False False False False False\n",
      "  False False  True  True  True  True]\n",
      " [False False False False False False False False False False False False\n",
      "  False False False False False False False False False False False False\n",
      "  False False False  True  True  True]\n",
      " [False False False False False False False False False False False False\n",
      "  False False False False False False False False False False False False\n",
      "  False False False False  True  True]\n",
      " [False False False False False False False False False False False False\n",
      "  False False False False False False False False False False False False\n",
      "  False False False False False  True]]\n",
      "          590DV     590DW    590ED1    590ED2    590ELO     590ET     590GE  \\\n",
      "CourseID                                                                      \n",
      "590DV       1.0  0.052916  0.020932  0.020912  0.031779  0.058506  0.021863   \n",
      "590DW       NaN  1.000000  0.037348  0.037312  0.029071  0.061219  0.038574   \n",
      "590ED1      NaN       NaN  1.000000  0.983152  0.022936  0.032108  0.061161   \n",
      "590ED2      NaN       NaN       NaN  0.999999  0.022914  0.032077  0.061103   \n",
      "590ELO      NaN       NaN       NaN       NaN  1.000000  0.072303  0.093638   \n",
      "590ET       NaN       NaN       NaN       NaN       NaN  1.000000  0.057919   \n",
      "590GE       NaN       NaN       NaN       NaN       NaN       NaN  1.000000   \n",
      "590GEO      NaN       NaN       NaN       NaN       NaN       NaN       NaN   \n",
      "590GHG      NaN       NaN       NaN       NaN       NaN       NaN       NaN   \n",
      "590GLO      NaN       NaN       NaN       NaN       NaN       NaN       NaN   \n",
      "590IK       NaN       NaN       NaN       NaN       NaN       NaN       NaN   \n",
      "590ISO      NaN       NaN       NaN       NaN       NaN       NaN       NaN   \n",
      "590MD       NaN       NaN       NaN       NaN       NaN       NaN       NaN   \n",
      "590OH       NaN       NaN       NaN       NaN       NaN       NaN       NaN   \n",
      "590PBO      NaN       NaN       NaN       NaN       NaN       NaN       NaN   \n",
      "590PC       NaN       NaN       NaN       NaN       NaN       NaN       NaN   \n",
      "590PP       NaN       NaN       NaN       NaN       NaN       NaN       NaN   \n",
      "590PR       NaN       NaN       NaN       NaN       NaN       NaN       NaN   \n",
      "590PR2      NaN       NaN       NaN       NaN       NaN       NaN       NaN   \n",
      "590QM       NaN       NaN       NaN       NaN       NaN       NaN       NaN   \n",
      "590SOS      NaN       NaN       NaN       NaN       NaN       NaN       NaN   \n",
      "590SPO      NaN       NaN       NaN       NaN       NaN       NaN       NaN   \n",
      "590TX       NaN       NaN       NaN       NaN       NaN       NaN       NaN   \n",
      "591AMO      NaN       NaN       NaN       NaN       NaN       NaN       NaN   \n",
      "594JLW      NaN       NaN       NaN       NaN       NaN       NaN       NaN   \n",
      "591         NaN       NaN       NaN       NaN       NaN       NaN       NaN   \n",
      "502B        NaN       NaN       NaN       NaN       NaN       NaN       NaN   \n",
      "502C        NaN       NaN       NaN       NaN       NaN       NaN       NaN   \n",
      "504A        NaN       NaN       NaN       NaN       NaN       NaN       NaN   \n",
      "504AO       NaN       NaN       NaN       NaN       NaN       NaN       NaN   \n",
      "\n",
      "            590GEO    590GHG    590GLO    ...       590SOS    590SPO  \\\n",
      "CourseID                                  ...                          \n",
      "590DV     0.021863  0.022742  0.027315    ...     0.041750  0.045162   \n",
      "590DW     0.038574  0.020494  0.028278    ...     0.042268  0.044447   \n",
      "590ED1    0.061161  0.032036  0.027185    ...     0.020408  0.035036   \n",
      "590ED2    0.061103  0.032006  0.027159    ...     0.020389  0.035003   \n",
      "590ELO    0.093638  0.064857  0.041499    ...     0.057082  0.058190   \n",
      "590ET     0.057919  0.066538  0.032381    ...     0.056820  0.081922   \n",
      "590GE     0.966348  0.060550  0.036339    ...     0.026464  0.045650   \n",
      "590GEO    1.000000  0.060550  0.036339    ...     0.026464  0.045650   \n",
      "590GHG         NaN  1.000000  0.162657    ...     0.025458  0.099920   \n",
      "590GLO         NaN       NaN  1.000000    ...     0.032276  0.140545   \n",
      "590IK          NaN       NaN       NaN    ...     0.048200  0.049423   \n",
      "590ISO         NaN       NaN       NaN    ...     0.024117  0.041524   \n",
      "590MD          NaN       NaN       NaN    ...     0.032178  0.027818   \n",
      "590OH          NaN       NaN       NaN    ...     0.020003  0.033493   \n",
      "590PBO         NaN       NaN       NaN    ...     0.023338  0.109271   \n",
      "590PC          NaN       NaN       NaN    ...     0.023826  0.101569   \n",
      "590PP          NaN       NaN       NaN    ...     0.024549  0.036401   \n",
      "590PR          NaN       NaN       NaN    ...     0.037899  0.045303   \n",
      "590PR2         NaN       NaN       NaN    ...     0.017869  0.039635   \n",
      "590QM          NaN       NaN       NaN    ...     0.017149  0.005349   \n",
      "590SOS         NaN       NaN       NaN    ...     1.000000  0.084545   \n",
      "590SPO         NaN       NaN       NaN    ...          NaN  1.000000   \n",
      "590TX          NaN       NaN       NaN    ...          NaN       NaN   \n",
      "591AMO         NaN       NaN       NaN    ...          NaN       NaN   \n",
      "594JLW         NaN       NaN       NaN    ...          NaN       NaN   \n",
      "591            NaN       NaN       NaN    ...          NaN       NaN   \n",
      "502B           NaN       NaN       NaN    ...          NaN       NaN   \n",
      "502C           NaN       NaN       NaN    ...          NaN       NaN   \n",
      "504A           NaN       NaN       NaN    ...          NaN       NaN   \n",
      "504AO          NaN       NaN       NaN    ...          NaN       NaN   \n",
      "\n",
      "             590TX    591AMO    594JLW       591      502B      502C  \\\n",
      "CourseID                                                               \n",
      "590DV     0.048026  0.007475  0.033165  0.007475  0.022633  0.022633   \n",
      "590DW     0.023409  0.006307  0.046227  0.006307  0.006323  0.006323   \n",
      "590ED1    0.053696  0.010107  0.053953  0.010107  0.034090  0.034090   \n",
      "590ED2    0.053645  0.010097  0.053901  0.010097  0.034057  0.034057   \n",
      "590ELO    0.066102  0.024628  0.065236  0.024628  0.044286  0.044286   \n",
      "590ET     0.055771  0.003617  0.071066  0.003617  0.165315  0.165315   \n",
      "590GE     0.045150  0.021450  0.040592  0.021450  0.032887  0.032887   \n",
      "590GEO    0.045150  0.021450  0.040592  0.021450  0.032887  0.032887   \n",
      "590GHG    0.026624  0.003795  0.029862  0.003795  0.066078  0.066078   \n",
      "590GLO    0.047209  0.029700  0.035797  0.029700  0.086004  0.086004   \n",
      "590IK     0.023531  0.009499  0.118972  0.009499  0.006201  0.006201   \n",
      "590ISO    0.027133  0.042632  0.025962  0.042632  0.031590  0.031590   \n",
      "590MD     0.012267  0.012640  0.053197  0.012640  0.045455  0.045455   \n",
      "590OH     0.034392  0.017218  0.051606  0.017218  0.063385  0.063385   \n",
      "590PBO    0.128272  0.029518  0.040146  0.029518  0.044829  0.044829   \n",
      "590PC     0.119866  0.010874  0.025850  0.010874  0.037511  0.037511   \n",
      "590PP     0.040288  0.035964  0.038568  0.035964  0.029121  0.029121   \n",
      "590PR     0.023631  0.019072  0.053290  0.019072  0.030193  0.030193   \n",
      "590PR2    0.027039  0.015618  0.042383  0.015618  0.025787  0.025787   \n",
      "590QM     0.014196  0.001557  0.031181  0.001557  0.026892  0.026892   \n",
      "590SOS    0.022913  0.003758  0.073705  0.003758  0.004050  0.004050   \n",
      "590SPO    0.106466  0.007137  0.052619  0.007137  0.006553  0.006553   \n",
      "590TX     1.000000  0.031634  0.090580  0.031634  0.048847  0.048847   \n",
      "591AMO         NaN  1.000000  0.003481  1.000000  0.052980  0.052980   \n",
      "594JLW         NaN       NaN  1.000000  0.003481  0.035190  0.035190   \n",
      "591            NaN       NaN       NaN  1.000000  0.052980  0.052980   \n",
      "502B           NaN       NaN       NaN       NaN  1.000000  1.000000   \n",
      "502C           NaN       NaN       NaN       NaN       NaN  1.000000   \n",
      "504A           NaN       NaN       NaN       NaN       NaN       NaN   \n",
      "504AO          NaN       NaN       NaN       NaN       NaN       NaN   \n",
      "\n",
      "              504A     504AO  \n",
      "CourseID                      \n",
      "590DV     0.001590  0.001590  \n",
      "590DW     0.003997  0.003997  \n",
      "590ED1    0.004651  0.004651  \n",
      "590ED2    0.004646  0.004646  \n",
      "590ELO    0.109949  0.109949  \n",
      "590ET     0.003210  0.003210  \n",
      "590GE     0.073282  0.073282  \n",
      "590GEO    0.073282  0.073282  \n",
      "590GHG    0.002672  0.002672  \n",
      "590GLO    0.043468  0.043468  \n",
      "590IK     0.025809  0.025809  \n",
      "590ISO    0.075180  0.075180  \n",
      "590MD     0.001766  0.001766  \n",
      "590OH     0.017224  0.017224  \n",
      "590PBO    0.044949  0.044949  \n",
      "590PC     0.002252  0.002252  \n",
      "590PP     0.016757  0.016757  \n",
      "590PR     0.022588  0.022588  \n",
      "590PR2    0.025720  0.025720  \n",
      "590QM     0.025520  0.025520  \n",
      "590SOS    0.046063  0.046063  \n",
      "590SPO    0.003674  0.003674  \n",
      "590TX     0.008238  0.008238  \n",
      "591AMO    0.003128  0.003128  \n",
      "594JLW    0.033920  0.033920  \n",
      "591       0.003128  0.003128  \n",
      "502B      0.016277  0.016277  \n",
      "502C      0.016277  0.016277  \n",
      "504A      1.000000  1.000000  \n",
      "504AO          NaN  1.000000  \n",
      "\n",
      "[30 rows x 30 columns]\n"
     ]
    }
   ],
   "source": [
    "print(np.triu(np.ones(df.shape)).astype(np.bool))\n",
    "df = df.where(np.triu(np.ones(df.shape)).astype(np.bool))\n",
    "print (df)\n",
    "\n",
    "df = df.stack().reset_index()\n",
    "df.columns = ['Row','Column','Value']\n",
    "#print (df)"
   ]
  },
  {
   "cell_type": "code",
   "execution_count": 284,
   "metadata": {
    "collapsed": true
   },
   "outputs": [],
   "source": [
    "### The below code sets 'Value column to 1 or 0 based \n",
    "### on the cut-off "
   ]
  },
  {
   "cell_type": "code",
   "execution_count": 285,
   "metadata": {},
   "outputs": [
    {
     "data": {
      "text/html": [
       "<div>\n",
       "<style>\n",
       "    .dataframe thead tr:only-child th {\n",
       "        text-align: right;\n",
       "    }\n",
       "\n",
       "    .dataframe thead th {\n",
       "        text-align: left;\n",
       "    }\n",
       "\n",
       "    .dataframe tbody tr th {\n",
       "        vertical-align: top;\n",
       "    }\n",
       "</style>\n",
       "<table border=\"1\" class=\"dataframe\">\n",
       "  <thead>\n",
       "    <tr style=\"text-align: right;\">\n",
       "      <th></th>\n",
       "      <th>Row</th>\n",
       "      <th>Column</th>\n",
       "      <th>Value</th>\n",
       "    </tr>\n",
       "  </thead>\n",
       "  <tbody>\n",
       "    <tr>\n",
       "      <th>1</th>\n",
       "      <td>590DV</td>\n",
       "      <td>590DW</td>\n",
       "      <td>0.0</td>\n",
       "    </tr>\n",
       "    <tr>\n",
       "      <th>2</th>\n",
       "      <td>590DV</td>\n",
       "      <td>590ED1</td>\n",
       "      <td>0.0</td>\n",
       "    </tr>\n",
       "    <tr>\n",
       "      <th>3</th>\n",
       "      <td>590DV</td>\n",
       "      <td>590ED2</td>\n",
       "      <td>0.0</td>\n",
       "    </tr>\n",
       "    <tr>\n",
       "      <th>4</th>\n",
       "      <td>590DV</td>\n",
       "      <td>590ELO</td>\n",
       "      <td>0.0</td>\n",
       "    </tr>\n",
       "    <tr>\n",
       "      <th>5</th>\n",
       "      <td>590DV</td>\n",
       "      <td>590ET</td>\n",
       "      <td>0.0</td>\n",
       "    </tr>\n",
       "  </tbody>\n",
       "</table>\n",
       "</div>"
      ],
      "text/plain": [
       "     Row  Column  Value\n",
       "1  590DV   590DW    0.0\n",
       "2  590DV  590ED1    0.0\n",
       "3  590DV  590ED2    0.0\n",
       "4  590DV  590ELO    0.0\n",
       "5  590DV   590ET    0.0"
      ]
     },
     "execution_count": 285,
     "metadata": {},
     "output_type": "execute_result"
    }
   ],
   "source": [
    "cutoff= 0.4\n",
    "df = df[df['Row'] !=df['Column']]\n",
    "df.loc[df['Value'] > cutoff, 'Value']=1\n",
    "df.loc[df['Value'] < cutoff, 'Value']= 0\n",
    "\n",
    "df.head()"
   ]
  },
  {
   "cell_type": "code",
   "execution_count": 286,
   "metadata": {},
   "outputs": [],
   "source": [
    "G = nx.from_pandas_dataframe(df[df['Value']==1],'Row','Column')"
   ]
  },
  {
   "cell_type": "markdown",
   "metadata": {
    "collapsed": true
   },
   "source": [
    "\n",
    "### Below code is not needed now.\n",
    "\n",
    "node_edges_dict={}\n",
    "\n",
    "for rows in df:\n",
    "    for cols in df.columns:\n",
    "        print(rows, cols, df.loc[rows][cols])\n",
    "        G.add_node(rows)\n",
    "        #print(df[rows][cols])\n",
    "        #if df.loc[rows][cols] == 1 :\n",
    "         #   G.add_edge(rows,cols)\n",
    "        #print(df.loc[rows][cols])"
   ]
  },
  {
   "cell_type": "code",
   "execution_count": 287,
   "metadata": {},
   "outputs": [
    {
     "name": "stdout",
     "output_type": "stream",
     "text": [
      "13\n",
      "8\n"
     ]
    }
   ],
   "source": [
    "print(len(G.nodes))\n",
    "print(len(G.edges))\n"
   ]
  },
  {
   "cell_type": "code",
   "execution_count": 288,
   "metadata": {
    "collapsed": true
   },
   "outputs": [],
   "source": [
    "def dict_to_values(G, dict_data):\n",
    "    return [dict_data[n] for n in G.nodes]"
   ]
  },
  {
   "cell_type": "code",
   "execution_count": 289,
   "metadata": {
    "collapsed": true
   },
   "outputs": [],
   "source": [
    "def plot_network(G, node_size_dict, factor=10, **kwargs):\n",
    "    nx.draw(\n",
    "        G, \n",
    "        pos=nx.spring_layout(G),\n",
    "        with_labels=True,\n",
    "        node_size=[v*factor for v in dict_to_values(G, node_size_dict)],\n",
    "        **kwargs\n",
    "    )"
   ]
  },
  {
   "cell_type": "code",
   "execution_count": 290,
   "metadata": {},
   "outputs": [
    {
     "data": {
      "image/png": "[encoded data removed]",
      "text/plain": [
       "<matplotlib.figure.Figure at 0x1a18532710>"
      ]
     },
     "metadata": {},
     "output_type": "display_data"
    }
   ],
   "source": [
    "plot_network(G,nx.betweenness_centrality(G),factor=100,font_size=10, node_color=\"r\", width=0.3)"
   ]
  },
  {
   "cell_type": "code",
   "execution_count": 291,
   "metadata": {},
   "outputs": [
    {
     "data": {
      "image/png": "[encoded data removed]",
      "text/plain": [
       "<matplotlib.figure.Figure at 0x1a18a84cf8>"
      ]
     },
     "metadata": {},
     "output_type": "display_data"
    }
   ],
   "source": [
    "nx.draw(G,pos=nx.spring_layout(G),with_labels=True)"
   ]
  },
  {
   "cell_type": "code",
   "execution_count": 215,
   "metadata": {},
   "outputs": [
    {
     "data": {
      "text/plain": [
       "[array([ 0.9999997 ,  0.03838564,  0.00585867,  0.00585867,  0.01607259,\n",
       "         0.03502034,  0.00300281,  0.00300281,  0.00429106,  0.01271465], dtype=float32),\n",
       " array([ 0.03838564,  1.        ,  0.01820531,  0.01820531,  0.00423407,\n",
       "         0.02820506,  0.01191405,  0.01191405,  0.00284246,  0.01194415], dtype=float32),\n",
       " array([ 0.00585867,  0.01820531,  1.00000024,  0.97954899,  0.00729153,\n",
       "         0.0054248 ,  0.04097471,  0.04097471,  0.013254  ,  0.00925393], dtype=float32),\n",
       " array([ 0.00585867,  0.01820531,  0.97954899,  1.00000024,  0.00729153,\n",
       "         0.0054248 ,  0.04097471,  0.04097471,  0.013254  ,  0.00925393], dtype=float32),\n",
       " array([ 0.01607259,  0.00423407,  0.00729153,  0.00729153,  0.99999994,\n",
       "         0.03128092,  0.06329154,  0.06329154,  0.03515352,  0.01343619], dtype=float32),\n",
       " array([ 0.03502034,  0.02820506,  0.0054248 ,  0.0054248 ,  0.03128092,\n",
       "         1.00000012,  0.03632383,  0.03632383,  0.04015487,  0.00615301], dtype=float32),\n",
       " array([ 0.00300281,  0.01191405,  0.04097471,  0.04097471,  0.06329154,\n",
       "         0.03632383,  1.00000036,  0.96399599,  0.0280386 ,  0.02453646], dtype=float32),\n",
       " array([ 0.00300281,  0.01191405,  0.04097471,  0.04097471,  0.06329154,\n",
       "         0.03632383,  0.96399599,  1.00000036,  0.0280386 ,  0.02453646], dtype=float32),\n",
       " array([ 0.00429106,  0.00284246,  0.013254  ,  0.013254  ,  0.03515352,\n",
       "         0.04015487,  0.0280386 ,  0.0280386 ,  0.99999982,  0.10220855], dtype=float32),\n",
       " array([ 0.01271465,  0.01194415,  0.00925393,  0.00925393,  0.01343619,\n",
       "         0.00615301,  0.02453646,  0.02453646,  0.10220855,  1.        ], dtype=float32)]"
      ]
     },
     "execution_count": 215,
     "metadata": {},
     "output_type": "execute_result"
    }
   ],
   "source": [
    "sim_matrix"
   ]
  },
  {
   "cell_type": "code",
   "execution_count": 216,
   "metadata": {
    "collapsed": true
   },
   "outputs": [],
   "source": [
    "all_sims = sum(map(list, sim_matrix), [])"
   ]
  },
  {
   "cell_type": "code",
   "execution_count": 217,
   "metadata": {},
   "outputs": [
    {
     "data": {
      "text/plain": [
       "(array([ 84.,   2.,   0.,   0.,   0.,   0.,   0.,   0.,   0.,   9.]),\n",
       " array([ 0. ,  0.1,  0.2,  0.3,  0.4,  0.5,  0.6,  0.7,  0.8,  0.9,  1. ]),\n",
       " <a list of 10 Patch objects>)"
      ]
     },
     "execution_count": 217,
     "metadata": {},
     "output_type": "execute_result"
    },
    {
     "data": {
      "image/png": "[encoded data removed]",
      "text/plain": [
       "<matplotlib.figure.Figure at 0x1a18c0e400>"
      ]
     },
     "metadata": {},
     "output_type": "display_data"
    }
   ],
   "source": [
    "plt.hist(all_sims, bins=np.arange(0,1.1, 0.1))"
   ]
  },
  {
   "cell_type": "code",
   "execution_count": 296,
   "metadata": {},
   "outputs": [
    {
     "data": {
      "text/plain": [
       "array([ 0.07450081,  0.04220842,  0.01104483,  0.01103427,  0.0114152 ,\n",
       "        0.02356257,  0.02883739,  0.02883739,  0.01720505,  0.01625257,\n",
       "        0.03779929,  0.01732803,  0.0574089 ,  0.00658913,  0.0079435 ,\n",
       "        0.00570859,  0.03457381,  0.13654867,  0.13788781,  0.15438059,\n",
       "        0.02626375,  0.00302056,  0.00759945,  0.00542109,  0.14472124,\n",
       "        0.00542109,  0.00496084,  0.00496084,  0.03964936,  0.03964936], dtype=float32)"
      ]
     },
     "execution_count": 296,
     "metadata": {},
     "output_type": "execute_result"
    }
   ],
   "source": [
    "query = ' a highly trained professional in data analysis with skills in databases, R, python, etc'\n",
    "#query_sim_matrix=[]\n",
    "\n",
    "query_doc = [w.lower() for w in word_tokenize(str(query))]\n",
    "query_doc_bow = word_dictionary.doc2bow(query_doc)\n",
    "query_doc_tf_idf = tf_idf[query_doc_bow]\n",
    "query_sim_matrix = sims[query_doc_tf_idf]\n",
    "\n",
    "query_sim_matrix"
   ]
  },
  {
   "cell_type": "code",
   "execution_count": 298,
   "metadata": {},
   "outputs": [],
   "source": [
    "df_query = pd.DataFrame(query_sim_matrix )\n",
    "course_id = np.array(dataset[\"ID\"][:no_of_nodes])\n",
    "#df_query.columns = course_id\n",
    "#df_query[\"CourseID\"] =dataset[\"ID\"]\n",
    "#df.set_index(\"CourseID\")\n",
    "#df_query.to_csv(\"query_sim_matrix.csv\")"
   ]
  },
  {
   "cell_type": "code",
   "execution_count": 305,
   "metadata": {},
   "outputs": [],
   "source": [
    "df_query.set_index(course_id)\n",
    "\n",
    "df_query[df_query[0] > 0.04] = 1\n",
    "df_query[df_query[0] < 0.04] = 0"
   ]
  },
  {
   "cell_type": "code",
   "execution_count": 311,
   "metadata": {},
   "outputs": [
    {
     "data": {
      "text/html": [
       "<div>\n",
       "<style>\n",
       "    .dataframe thead tr:only-child th {\n",
       "        text-align: right;\n",
       "    }\n",
       "\n",
       "    .dataframe thead th {\n",
       "        text-align: left;\n",
       "    }\n",
       "\n",
       "    .dataframe tbody tr th {\n",
       "        vertical-align: top;\n",
       "    }\n",
       "</style>\n",
       "<table border=\"1\" class=\"dataframe\">\n",
       "  <thead>\n",
       "    <tr style=\"text-align: right;\">\n",
       "      <th></th>\n",
       "      <th>0</th>\n",
       "    </tr>\n",
       "  </thead>\n",
       "  <tbody>\n",
       "    <tr>\n",
       "      <th>590DV</th>\n",
       "      <td>1.0</td>\n",
       "    </tr>\n",
       "    <tr>\n",
       "      <th>590DW</th>\n",
       "      <td>1.0</td>\n",
       "    </tr>\n",
       "    <tr>\n",
       "      <th>590ED1</th>\n",
       "      <td>0.0</td>\n",
       "    </tr>\n",
       "    <tr>\n",
       "      <th>590ED2</th>\n",
       "      <td>0.0</td>\n",
       "    </tr>\n",
       "    <tr>\n",
       "      <th>590ELO</th>\n",
       "      <td>0.0</td>\n",
       "    </tr>\n",
       "    <tr>\n",
       "      <th>590ET</th>\n",
       "      <td>0.0</td>\n",
       "    </tr>\n",
       "    <tr>\n",
       "      <th>590GE</th>\n",
       "      <td>0.0</td>\n",
       "    </tr>\n",
       "    <tr>\n",
       "      <th>590GEO</th>\n",
       "      <td>0.0</td>\n",
       "    </tr>\n",
       "    <tr>\n",
       "      <th>590GHG</th>\n",
       "      <td>0.0</td>\n",
       "    </tr>\n",
       "    <tr>\n",
       "      <th>590GLO</th>\n",
       "      <td>0.0</td>\n",
       "    </tr>\n",
       "    <tr>\n",
       "      <th>590IK</th>\n",
       "      <td>0.0</td>\n",
       "    </tr>\n",
       "    <tr>\n",
       "      <th>590ISO</th>\n",
       "      <td>0.0</td>\n",
       "    </tr>\n",
       "    <tr>\n",
       "      <th>590MD</th>\n",
       "      <td>1.0</td>\n",
       "    </tr>\n",
       "    <tr>\n",
       "      <th>590OH</th>\n",
       "      <td>0.0</td>\n",
       "    </tr>\n",
       "    <tr>\n",
       "      <th>590PBO</th>\n",
       "      <td>0.0</td>\n",
       "    </tr>\n",
       "    <tr>\n",
       "      <th>590PC</th>\n",
       "      <td>0.0</td>\n",
       "    </tr>\n",
       "    <tr>\n",
       "      <th>590PP</th>\n",
       "      <td>0.0</td>\n",
       "    </tr>\n",
       "    <tr>\n",
       "      <th>590PR</th>\n",
       "      <td>1.0</td>\n",
       "    </tr>\n",
       "    <tr>\n",
       "      <th>590PR2</th>\n",
       "      <td>1.0</td>\n",
       "    </tr>\n",
       "    <tr>\n",
       "      <th>590QM</th>\n",
       "      <td>1.0</td>\n",
       "    </tr>\n",
       "    <tr>\n",
       "      <th>590SOS</th>\n",
       "      <td>0.0</td>\n",
       "    </tr>\n",
       "    <tr>\n",
       "      <th>590SPO</th>\n",
       "      <td>0.0</td>\n",
       "    </tr>\n",
       "    <tr>\n",
       "      <th>590TX</th>\n",
       "      <td>0.0</td>\n",
       "    </tr>\n",
       "    <tr>\n",
       "      <th>591AMO</th>\n",
       "      <td>0.0</td>\n",
       "    </tr>\n",
       "    <tr>\n",
       "      <th>594JLW</th>\n",
       "      <td>1.0</td>\n",
       "    </tr>\n",
       "    <tr>\n",
       "      <th>591</th>\n",
       "      <td>0.0</td>\n",
       "    </tr>\n",
       "    <tr>\n",
       "      <th>502B</th>\n",
       "      <td>0.0</td>\n",
       "    </tr>\n",
       "    <tr>\n",
       "      <th>502C</th>\n",
       "      <td>0.0</td>\n",
       "    </tr>\n",
       "    <tr>\n",
       "      <th>504A</th>\n",
       "      <td>0.0</td>\n",
       "    </tr>\n",
       "    <tr>\n",
       "      <th>504AO</th>\n",
       "      <td>0.0</td>\n",
       "    </tr>\n",
       "  </tbody>\n",
       "</table>\n",
       "</div>"
      ],
      "text/plain": [
       "          0\n",
       "590DV   1.0\n",
       "590DW   1.0\n",
       "590ED1  0.0\n",
       "590ED2  0.0\n",
       "590ELO  0.0\n",
       "590ET   0.0\n",
       "590GE   0.0\n",
       "590GEO  0.0\n",
       "590GHG  0.0\n",
       "590GLO  0.0\n",
       "590IK   0.0\n",
       "590ISO  0.0\n",
       "590MD   1.0\n",
       "590OH   0.0\n",
       "590PBO  0.0\n",
       "590PC   0.0\n",
       "590PP   0.0\n",
       "590PR   1.0\n",
       "590PR2  1.0\n",
       "590QM   1.0\n",
       "590SOS  0.0\n",
       "590SPO  0.0\n",
       "590TX   0.0\n",
       "591AMO  0.0\n",
       "594JLW  1.0\n",
       "591     0.0\n",
       "502B    0.0\n",
       "502C    0.0\n",
       "504A    0.0\n",
       "504AO   0.0"
      ]
     },
     "execution_count": 311,
     "metadata": {},
     "output_type": "execute_result"
    }
   ],
   "source": [
    "df_query.set_index(course_id)\n",
    "\n",
    "matrix = []\n",
    "\n",
    "df_query[df_query[0] ==1]\n",
    "df_query.set_index(course_id)"
   ]
  },
  {
   "cell_type": "code",
   "execution_count": null,
   "metadata": {
    "collapsed": true
   },
   "outputs": [],
   "source": []
  }
 ],
 "metadata": {
  "kernelspec": {
   "display_name": "Python 3",
   "language": "python",
   "name": "python3"
  },
  "language_info": {
   "codemirror_mode": {
    "name": "ipython",
    "version": 3
   },
   "file_extension": ".py",
   "mimetype": "text/x-python",
   "name": "python",
   "nbconvert_exporter": "python",
   "pygments_lexer": "ipython3",
   "version": "3.6.3"
  }
 },
 "nbformat": 4,
 "nbformat_minor": 2
}
