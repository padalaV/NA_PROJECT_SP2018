{
 "cells": [
  {
   "cell_type": "code",
   "execution_count": 1,
   "metadata": {
    "collapsed": true
   },
   "outputs": [],
   "source": [
    "# Imports the Google Cloud client library\n",
    "from google.cloud import language\n",
    "from google.cloud.language import enums\n",
    "from google.cloud.language import types\n",
    "import pandas as pd \n",
    "import six\n"
   ]
  },
  {
   "cell_type": "code",
   "execution_count": 2,
   "metadata": {},
   "outputs": [
    {
     "name": "stdout",
     "output_type": "stream",
     "text": [
      "Text: Hello, world!\n",
      "Sentiment: 0.30000001192092896, 0.30000001192092896\n"
     ]
    }
   ],
   "source": [
    "# Instantiates a client\n",
    "client = language.LanguageServiceClient()\n",
    "\n",
    "# The text to analyze\n",
    "text = u'Hello, world!'\n",
    "document = types.Document(\n",
    "    content=text,\n",
    "    type=enums.Document.Type.PLAIN_TEXT)\n",
    "\n",
    "# Detects the sentiment of the text\n",
    "sentiment = client.analyze_sentiment(document=document).document_sentiment\n",
    "\n",
    "print('Text: {}'.format(text))\n",
    "print('Sentiment: {}, {}'.format(sentiment.score, sentiment.magnitude))"
   ]
  },
  {
   "cell_type": "code",
   "execution_count": 3,
   "metadata": {},
   "outputs": [
    {
     "data": {
      "text/plain": [
       "'    \\n    #print(type(categories))\\n    if  type(categories) == \"google.protobuf.pyext._message.RepeatedCompositeContainer\" :\\n        for category in categories:\\n            print(category[\\'name\\'])\\n'"
      ]
     },
     "execution_count": 3,
     "metadata": {},
     "output_type": "execute_result"
    }
   ],
   "source": [
    "def category_text(text):\n",
    "    \"\"\"Classifies content categories of the provided text.\"\"\"\n",
    "    client = language.LanguageServiceClient()\n",
    "\n",
    "    if isinstance(text, six.binary_type):\n",
    "        text = text.decode('utf-8')\n",
    "    \n",
    "    #print(type(text.encode('utf-8')))\n",
    "    document = types.Document(\n",
    "        content=text.encode('utf-8'),\n",
    "        type=enums.Document.Type.PLAIN_TEXT)\n",
    "    \n",
    "    try: \n",
    "        categories = client.classify_text(document).categories\n",
    "    except:\n",
    "        categories = []\n",
    "    \n",
    "    return categories\n",
    "'''    \n",
    "    #print(type(categories))\n",
    "    if  type(categories) == \"google.protobuf.pyext._message.RepeatedCompositeContainer\" :\n",
    "        for category in categories:\n",
    "            print(category['name'])\n",
    "'''    \n",
    "    "
   ]
  },
  {
   "cell_type": "code",
   "execution_count": 4,
   "metadata": {
    "collapsed": true
   },
   "outputs": [],
   "source": [
    "def entities_text(text):\n",
    "    \"\"\"Detects entities in the text.\"\"\"\n",
    "    client = language.LanguageServiceClient()\n",
    "\n",
    "    if isinstance(text, six.binary_type):\n",
    "        text = text.decode('utf-8')\n",
    "\n",
    "    # Instantiates a plain text document.\n",
    "    document = types.Document(\n",
    "        content=text,\n",
    "        type=enums.Document.Type.PLAIN_TEXT)\n",
    "\n",
    "    # Detects entities in the document. You can also analyze HTML with:\n",
    "    #   document.type == enums.Document.Type.HTML\n",
    "    entities = client.analyze_entities(document).entities\n",
    "\n",
    "    # entity types from enums.Entity.Type\n",
    "    entity_type = ('UNKNOWN', 'PERSON', 'LOCATION', 'ORGANIZATION',\n",
    "                   'EVENT', 'WORK_OF_ART', 'CONSUMER_GOOD', 'OTHER')\n",
    "    '''\n",
    "    for entity in entities:\n",
    "        print('=' * 20)\n",
    "        print(u'{:<16}: {}'.format('name', entity.name))\n",
    "        print(u'{:<16}: {}'.format('type', entity_type[entity.type]))\n",
    "        print(u'{:<16}: {}'.format('metadata', entity.metadata))\n",
    "        print(u'{:<16}: {}'.format('salience', entity.salience))\n",
    "        print(u'{:<16}: {}'.format('wikipedia_url',\n",
    "              entity.metadata.get('wikipedia_url', '-')))\n",
    "    '''\n",
    "    return entities"
   ]
  },
  {
   "cell_type": "code",
   "execution_count": 5,
   "metadata": {},
   "outputs": [
    {
     "data": {
      "text/html": [
       "<div>\n",
       "<style>\n",
       "    .dataframe thead tr:only-child th {\n",
       "        text-align: right;\n",
       "    }\n",
       "\n",
       "    .dataframe thead th {\n",
       "        text-align: left;\n",
       "    }\n",
       "\n",
       "    .dataframe tbody tr th {\n",
       "        vertical-align: top;\n",
       "    }\n",
       "</style>\n",
       "<table border=\"1\" class=\"dataframe\">\n",
       "  <thead>\n",
       "    <tr style=\"text-align: right;\">\n",
       "      <th></th>\n",
       "      <th>ID</th>\n",
       "      <th>Name</th>\n",
       "      <th>Description</th>\n",
       "      <th>Instructor</th>\n",
       "      <th>category</th>\n",
       "      <th>entity_type</th>\n",
       "      <th>entity_name</th>\n",
       "    </tr>\n",
       "  </thead>\n",
       "  <tbody>\n",
       "    <tr>\n",
       "      <th>0</th>\n",
       "      <td>590DV</td>\n",
       "      <td>Data Visualization</td>\n",
       "      <td>Data visualization is crucial to conveying inf...</td>\n",
       "      <td>Matthew Turk</td>\n",
       "      <td></td>\n",
       "      <td></td>\n",
       "      <td></td>\n",
       "    </tr>\n",
       "    <tr>\n",
       "      <th>1</th>\n",
       "      <td>590DW</td>\n",
       "      <td>Data Warehousing and BI</td>\n",
       "      <td>This course examines the construction of a dat...</td>\n",
       "      <td>Michael Wonderlich</td>\n",
       "      <td></td>\n",
       "      <td></td>\n",
       "      <td></td>\n",
       "    </tr>\n",
       "    <tr>\n",
       "      <th>2</th>\n",
       "      <td>590ED1</td>\n",
       "      <td>Exhibit Design &amp; Installation</td>\n",
       "      <td>This course meets the first 8 weeks of the sem...</td>\n",
       "      <td>Walter Wilson</td>\n",
       "      <td></td>\n",
       "      <td></td>\n",
       "      <td></td>\n",
       "    </tr>\n",
       "    <tr>\n",
       "      <th>3</th>\n",
       "      <td>590ED2</td>\n",
       "      <td>Exhibit Design &amp; Installation</td>\n",
       "      <td>This course meets the last 8 weeks of the seme...</td>\n",
       "      <td>Walter Wilson</td>\n",
       "      <td></td>\n",
       "      <td></td>\n",
       "      <td></td>\n",
       "    </tr>\n",
       "    <tr>\n",
       "      <th>4</th>\n",
       "      <td>590ELO</td>\n",
       "      <td>E-Learning</td>\n",
       "      <td>2 or 4 credits: Provides an introduction to a ...</td>\n",
       "      <td>Melissa Wong</td>\n",
       "      <td></td>\n",
       "      <td></td>\n",
       "      <td></td>\n",
       "    </tr>\n",
       "  </tbody>\n",
       "</table>\n",
       "</div>"
      ],
      "text/plain": [
       "       ID                           Name  \\\n",
       "0   590DV             Data Visualization   \n",
       "1   590DW        Data Warehousing and BI   \n",
       "2  590ED1  Exhibit Design & Installation   \n",
       "3  590ED2  Exhibit Design & Installation   \n",
       "4  590ELO                     E-Learning   \n",
       "\n",
       "                                         Description          Instructor  \\\n",
       "0  Data visualization is crucial to conveying inf...        Matthew Turk   \n",
       "1  This course examines the construction of a dat...  Michael Wonderlich   \n",
       "2  This course meets the first 8 weeks of the sem...       Walter Wilson   \n",
       "3  This course meets the last 8 weeks of the seme...       Walter Wilson   \n",
       "4  2 or 4 credits: Provides an introduction to a ...        Melissa Wong   \n",
       "\n",
       "  category entity_type entity_name  \n",
       "0                                   \n",
       "1                                   \n",
       "2                                   \n",
       "3                                   \n",
       "4                                   "
      ]
     },
     "execution_count": 5,
     "metadata": {},
     "output_type": "execute_result"
    }
   ],
   "source": [
    "courses = pd.read_csv(\"../data/data.csv\", engine='python')\n",
    "#courses.set_index('ID', inplace=True)\n",
    "courses['category'] =''\n",
    "courses['entity_type'] =''\n",
    "courses['entity_name'] =''\n",
    "courses.head()"
   ]
  },
  {
   "cell_type": "code",
   "execution_count": 6,
   "metadata": {
    "collapsed": true
   },
   "outputs": [],
   "source": [
    "def get_category_list(text_data):\n",
    "    category=category_text(text_data)\n",
    "    category_list =[]\n",
    "    \n",
    "    #print(category)\n",
    "        \n",
    "    for cat in category:\n",
    "        #if cat.confidence > 0.50:\n",
    "        category_list.append(cat.name)\n",
    "    \n",
    "    return category_list\n",
    "    \n",
    "    "
   ]
  },
  {
   "cell_type": "code",
   "execution_count": 7,
   "metadata": {
    "collapsed": true
   },
   "outputs": [],
   "source": [
    "def get_entity_list(text_data):\n",
    "    entities=entities_text(text_data)\n",
    "    entities_list =[]\n",
    "    entity_type = []\n",
    "    #print(category)\n",
    "    \n",
    "    # entity types from enums.Entity.Type\n",
    "    entity_enum= ('UNKNOWN', 'PERSON', 'LOCATION', 'ORGANIZATION',\n",
    "                   'EVENT', 'WORK_OF_ART', 'CONSUMER_GOOD', 'OTHER')    \n",
    "    for entity in entities:\n",
    "        #if cat.confidence > 0.50:\n",
    "        entities_list.append(str(entity.name).lower())\n",
    "        #print(entity_enum[entity.type])\n",
    "        entity_type.append(entity_enum[entity.type])\n",
    "    return entities_list, entity_type"
   ]
  },
  {
   "cell_type": "code",
   "execution_count": 8,
   "metadata": {
    "collapsed": true
   },
   "outputs": [],
   "source": [
    "#get_entity_list(courses[\"Description\"][0])"
   ]
  },
  {
   "cell_type": "code",
   "execution_count": 9,
   "metadata": {},
   "outputs": [],
   "source": [
    "for i in courses.index:\n",
    "    desc = courses.loc[i]['Description']\n",
    "    #print(desc)\n",
    "    #cat_list = get_category_list(desc)\n",
    "    ent_list,ent_type = get_entity_list(desc)\n",
    "    #print(cat_list)\n",
    "    #courses.loc[i]['category'] = cat_list\n",
    "    courses.loc[i]['entity_type'] = ent_type\n",
    "    courses.loc[i]['entity_name'] = ent_list\n",
    "    "
   ]
  },
  {
   "cell_type": "code",
   "execution_count": 10,
   "metadata": {},
   "outputs": [
    {
     "data": {
      "text/html": [
       "<div>\n",
       "<style>\n",
       "    .dataframe thead tr:only-child th {\n",
       "        text-align: right;\n",
       "    }\n",
       "\n",
       "    .dataframe thead th {\n",
       "        text-align: left;\n",
       "    }\n",
       "\n",
       "    .dataframe tbody tr th {\n",
       "        vertical-align: top;\n",
       "    }\n",
       "</style>\n",
       "<table border=\"1\" class=\"dataframe\">\n",
       "  <thead>\n",
       "    <tr style=\"text-align: right;\">\n",
       "      <th></th>\n",
       "      <th>ID</th>\n",
       "      <th>Name</th>\n",
       "      <th>Description</th>\n",
       "      <th>Instructor</th>\n",
       "      <th>category</th>\n",
       "      <th>entity_type</th>\n",
       "      <th>entity_name</th>\n",
       "    </tr>\n",
       "  </thead>\n",
       "  <tbody>\n",
       "    <tr>\n",
       "      <th>0</th>\n",
       "      <td>590DV</td>\n",
       "      <td>Data Visualization</td>\n",
       "      <td>Data visualization is crucial to conveying inf...</td>\n",
       "      <td>Matthew Turk</td>\n",
       "      <td></td>\n",
       "      <td>[OTHER, OTHER, CONSUMER_GOOD, OTHER, EVENT, OT...</td>\n",
       "      <td>[data visualization, information, models, obse...</td>\n",
       "    </tr>\n",
       "    <tr>\n",
       "      <th>1</th>\n",
       "      <td>590DW</td>\n",
       "      <td>Data Warehousing and BI</td>\n",
       "      <td>This course examines the construction of a dat...</td>\n",
       "      <td>Michael Wonderlich</td>\n",
       "      <td></td>\n",
       "      <td>[OTHER, OTHER, ORGANIZATION, OTHER, OTHER, OTH...</td>\n",
       "      <td>[course, business intelligence system, data wa...</td>\n",
       "    </tr>\n",
       "    <tr>\n",
       "      <th>2</th>\n",
       "      <td>590ED1</td>\n",
       "      <td>Exhibit Design &amp; Installation</td>\n",
       "      <td>This course meets the first 8 weeks of the sem...</td>\n",
       "      <td>Walter Wilson</td>\n",
       "      <td></td>\n",
       "      <td>[OTHER, OTHER, OTHER, EVENT, OTHER, OTHER, OTH...</td>\n",
       "      <td>[course, idea, culmination, exhibition, planni...</td>\n",
       "    </tr>\n",
       "    <tr>\n",
       "      <th>3</th>\n",
       "      <td>590ED2</td>\n",
       "      <td>Exhibit Design &amp; Installation</td>\n",
       "      <td>This course meets the last 8 weeks of the seme...</td>\n",
       "      <td>Walter Wilson</td>\n",
       "      <td></td>\n",
       "      <td>[OTHER, OTHER, OTHER, EVENT, OTHER, OTHER, OTH...</td>\n",
       "      <td>[course, idea, culmination, exhibition, planni...</td>\n",
       "    </tr>\n",
       "    <tr>\n",
       "      <th>4</th>\n",
       "      <td>590ELO</td>\n",
       "      <td>E-Learning</td>\n",
       "      <td>2 or 4 credits: Provides an introduction to a ...</td>\n",
       "      <td>Melissa Wong</td>\n",
       "      <td></td>\n",
       "      <td>[OTHER, OTHER, OTHER, WORK_OF_ART, EVENT, OTHE...</td>\n",
       "      <td>[variety, credits, learning methods, videos, i...</td>\n",
       "    </tr>\n",
       "  </tbody>\n",
       "</table>\n",
       "</div>"
      ],
      "text/plain": [
       "       ID                           Name  \\\n",
       "0   590DV             Data Visualization   \n",
       "1   590DW        Data Warehousing and BI   \n",
       "2  590ED1  Exhibit Design & Installation   \n",
       "3  590ED2  Exhibit Design & Installation   \n",
       "4  590ELO                     E-Learning   \n",
       "\n",
       "                                         Description          Instructor  \\\n",
       "0  Data visualization is crucial to conveying inf...        Matthew Turk   \n",
       "1  This course examines the construction of a dat...  Michael Wonderlich   \n",
       "2  This course meets the first 8 weeks of the sem...       Walter Wilson   \n",
       "3  This course meets the last 8 weeks of the seme...       Walter Wilson   \n",
       "4  2 or 4 credits: Provides an introduction to a ...        Melissa Wong   \n",
       "\n",
       "  category                                        entity_type  \\\n",
       "0           [OTHER, OTHER, CONSUMER_GOOD, OTHER, EVENT, OT...   \n",
       "1           [OTHER, OTHER, ORGANIZATION, OTHER, OTHER, OTH...   \n",
       "2           [OTHER, OTHER, OTHER, EVENT, OTHER, OTHER, OTH...   \n",
       "3           [OTHER, OTHER, OTHER, EVENT, OTHER, OTHER, OTH...   \n",
       "4           [OTHER, OTHER, OTHER, WORK_OF_ART, EVENT, OTHE...   \n",
       "\n",
       "                                         entity_name  \n",
       "0  [data visualization, information, models, obse...  \n",
       "1  [course, business intelligence system, data wa...  \n",
       "2  [course, idea, culmination, exhibition, planni...  \n",
       "3  [course, idea, culmination, exhibition, planni...  \n",
       "4  [variety, credits, learning methods, videos, i...  "
      ]
     },
     "execution_count": 10,
     "metadata": {},
     "output_type": "execute_result"
    }
   ],
   "source": [
    "courses.head()"
   ]
  },
  {
   "cell_type": "code",
   "execution_count": 11,
   "metadata": {
    "collapsed": true
   },
   "outputs": [],
   "source": [
    "#courses.to_csv('../data/desc_category.csv')"
   ]
  },
  {
   "cell_type": "code",
   "execution_count": 12,
   "metadata": {
    "collapsed": true
   },
   "outputs": [],
   "source": [
    "courses_cat = courses \n",
    "data = courses"
   ]
  },
  {
   "cell_type": "code",
   "execution_count": 13,
   "metadata": {
    "collapsed": true
   },
   "outputs": [],
   "source": [
    "gen_cat = ['course information','class schedule information', 'fee', 'fees','meets','students','laptop','data','text'\n",
    "           ,'libraries','focuses','introduction' ,'prerequisite','information',\n",
    "           'consideration', 'settings', 'responsibilities', 'class materials fee','credit',\n",
    "           'credits','class schedule.','field trip fee','course','others','info','topics courses',\n",
    "           'info 491','cpsc 491','standing','project', 'use','uses','people','selection',\n",
    "          'au','needs', 'interests','outreach','overview','practice','content','portion',\n",
    "          'curriculum','parts','look','part','sections', 'variety', 'perspective', 'course materials fee', 'class work']"
   ]
  },
  {
   "cell_type": "code",
   "execution_count": 14,
   "metadata": {
    "collapsed": true
   },
   "outputs": [],
   "source": [
    "for ind in courses.index:\n",
    "    ent_list = courses.loc[ind][\"entity_name\"]\n",
    "    new_list = []\n",
    "    for e in ent_list:\n",
    "        if e not in gen_cat:\n",
    "            new_list.append(e)\n",
    "    data.loc[ind]['entity_name'] = new_list\n",
    "    #print(new_list)"
   ]
  },
  {
   "cell_type": "code",
   "execution_count": null,
   "metadata": {
    "collapsed": true
   },
   "outputs": [],
   "source": []
  },
  {
   "cell_type": "code",
   "execution_count": 15,
   "metadata": {
    "collapsed": true
   },
   "outputs": [],
   "source": [
    "for i in courses.index:\n",
    "    cid1= data.loc[i]['ID']\n",
    "    a = set(data.loc[i][\"entity_name\"])\n",
    "    a_minus_gen_cat = a.difference(set(gen_cat))\n",
    "    data.loc[i][\"entity_name\"] = list(a_minus_gen_cat)"
   ]
  },
  {
   "cell_type": "code",
   "execution_count": 16,
   "metadata": {},
   "outputs": [
    {
     "data": {
      "text/html": [
       "<div>\n",
       "<style>\n",
       "    .dataframe thead tr:only-child th {\n",
       "        text-align: right;\n",
       "    }\n",
       "\n",
       "    .dataframe thead th {\n",
       "        text-align: left;\n",
       "    }\n",
       "\n",
       "    .dataframe tbody tr th {\n",
       "        vertical-align: top;\n",
       "    }\n",
       "</style>\n",
       "<table border=\"1\" class=\"dataframe\">\n",
       "  <thead>\n",
       "    <tr style=\"text-align: right;\">\n",
       "      <th></th>\n",
       "      <th>ID</th>\n",
       "      <th>Name</th>\n",
       "      <th>Description</th>\n",
       "      <th>Instructor</th>\n",
       "      <th>category</th>\n",
       "      <th>entity_type</th>\n",
       "      <th>entity_name</th>\n",
       "    </tr>\n",
       "  </thead>\n",
       "  <tbody>\n",
       "    <tr>\n",
       "      <th>0</th>\n",
       "      <td>590DV</td>\n",
       "      <td>Data Visualization</td>\n",
       "      <td>Data visualization is crucial to conveying inf...</td>\n",
       "      <td>Matthew Turk</td>\n",
       "      <td></td>\n",
       "      <td>[OTHER, OTHER, CONSUMER_GOOD, OTHER, EVENT, OT...</td>\n",
       "      <td>[attention, is 590, observations, software eco...</td>\n",
       "    </tr>\n",
       "    <tr>\n",
       "      <th>1</th>\n",
       "      <td>590DW</td>\n",
       "      <td>Data Warehousing and BI</td>\n",
       "      <td>This course examines the construction of a dat...</td>\n",
       "      <td>Michael Wonderlich</td>\n",
       "      <td></td>\n",
       "      <td>[OTHER, OTHER, ORGANIZATION, OTHER, OTHER, OTH...</td>\n",
       "      <td>[case studies, is 590, roles, information scie...</td>\n",
       "    </tr>\n",
       "    <tr>\n",
       "      <th>2</th>\n",
       "      <td>590ED1</td>\n",
       "      <td>Exhibit Design &amp; Installation</td>\n",
       "      <td>This course meets the first 8 weeks of the sem...</td>\n",
       "      <td>Walter Wilson</td>\n",
       "      <td></td>\n",
       "      <td>[OTHER, OTHER, OTHER, EVENT, OTHER, OTHER, OTH...</td>\n",
       "      <td>[art, painting, idea, culmination, way, show, ...</td>\n",
       "    </tr>\n",
       "    <tr>\n",
       "      <th>3</th>\n",
       "      <td>590ED2</td>\n",
       "      <td>Exhibit Design &amp; Installation</td>\n",
       "      <td>This course meets the last 8 weeks of the seme...</td>\n",
       "      <td>Walter Wilson</td>\n",
       "      <td></td>\n",
       "      <td>[OTHER, OTHER, OTHER, EVENT, OTHER, OTHER, OTH...</td>\n",
       "      <td>[art, painting, idea, culmination, way, show, ...</td>\n",
       "    </tr>\n",
       "    <tr>\n",
       "      <th>4</th>\n",
       "      <td>590ELO</td>\n",
       "      <td>E-Learning</td>\n",
       "      <td>2 or 4 credits: Provides an introduction to a ...</td>\n",
       "      <td>Melissa Wong</td>\n",
       "      <td></td>\n",
       "      <td>[OTHER, OTHER, OTHER, WORK_OF_ART, EVENT, OTHE...</td>\n",
       "      <td>[best practices, is 590, e-learning resources,...</td>\n",
       "    </tr>\n",
       "  </tbody>\n",
       "</table>\n",
       "</div>"
      ],
      "text/plain": [
       "       ID                           Name  \\\n",
       "0   590DV             Data Visualization   \n",
       "1   590DW        Data Warehousing and BI   \n",
       "2  590ED1  Exhibit Design & Installation   \n",
       "3  590ED2  Exhibit Design & Installation   \n",
       "4  590ELO                     E-Learning   \n",
       "\n",
       "                                         Description          Instructor  \\\n",
       "0  Data visualization is crucial to conveying inf...        Matthew Turk   \n",
       "1  This course examines the construction of a dat...  Michael Wonderlich   \n",
       "2  This course meets the first 8 weeks of the sem...       Walter Wilson   \n",
       "3  This course meets the last 8 weeks of the seme...       Walter Wilson   \n",
       "4  2 or 4 credits: Provides an introduction to a ...        Melissa Wong   \n",
       "\n",
       "  category                                        entity_type  \\\n",
       "0           [OTHER, OTHER, CONSUMER_GOOD, OTHER, EVENT, OT...   \n",
       "1           [OTHER, OTHER, ORGANIZATION, OTHER, OTHER, OTH...   \n",
       "2           [OTHER, OTHER, OTHER, EVENT, OTHER, OTHER, OTH...   \n",
       "3           [OTHER, OTHER, OTHER, EVENT, OTHER, OTHER, OTH...   \n",
       "4           [OTHER, OTHER, OTHER, WORK_OF_ART, EVENT, OTHE...   \n",
       "\n",
       "                                         entity_name  \n",
       "0  [attention, is 590, observations, software eco...  \n",
       "1  [case studies, is 590, roles, information scie...  \n",
       "2  [art, painting, idea, culmination, way, show, ...  \n",
       "3  [art, painting, idea, culmination, way, show, ...  \n",
       "4  [best practices, is 590, e-learning resources,...  "
      ]
     },
     "execution_count": 16,
     "metadata": {},
     "output_type": "execute_result"
    }
   ],
   "source": [
    "data.head()"
   ]
  },
  {
   "cell_type": "code",
   "execution_count": 17,
   "metadata": {
    "collapsed": true
   },
   "outputs": [],
   "source": [
    "cat_keyword = pd.read_csv('../data/category_keyword.csv')\n",
    "#cat_keyword.shape"
   ]
  },
  {
   "cell_type": "code",
   "execution_count": 18,
   "metadata": {
    "collapsed": true
   },
   "outputs": [],
   "source": [
    "cat_keyword = cat_keyword[:-1]\n",
    "#cat_keyword.shape"
   ]
  },
  {
   "cell_type": "code",
   "execution_count": 19,
   "metadata": {
    "collapsed": true
   },
   "outputs": [],
   "source": [
    "#for ids in data[data[\"ID\"] == '202AD1'].index: \n",
    "for ids in data.index: \n",
    "#    entity_name = data.loc[ids][\"entity_name\"]\n",
    "    course_id = data.loc[ids][\"ID\"]\n",
    "    entity_name = set(data.loc[ids][\"entity_name\"])\n",
    "    categories = []\n",
    "    #print(entity_name)\n",
    "    for idx in cat_keyword.index:\n",
    "        \n",
    "        list_words = cat_keyword.loc[idx][\"Keywords\"]\n",
    "        cat_name = cat_keyword.loc[idx][\"Categories\"]\n",
    "        list_words = list_words.lower().strip('')\n",
    "        keywords = list_words.split(',')\n",
    "        \n",
    "        common_words = entity_name.intersection(keywords)\n",
    "        \n",
    "        #print(common_words)\n",
    "        \n",
    "        if list(common_words):\n",
    "            #print(cat_name)\n",
    "            categories.append(cat_name)\n",
    "        #else:\n",
    "        #    print(\"Course {} is not in category: {}\".format(course_id, cat_name))\n",
    "    data.loc[ids][\"category\"] = categories\n",
    "    #print(categories)\n",
    "    #break"
   ]
  },
  {
   "cell_type": "code",
   "execution_count": 20,
   "metadata": {
    "collapsed": true
   },
   "outputs": [],
   "source": [
    "data.to_excel(\"../data/courseId_dataset.xls\")"
   ]
  },
  {
   "cell_type": "code",
   "execution_count": 21,
   "metadata": {
    "collapsed": true
   },
   "outputs": [],
   "source": [
    "graph_course_id_df = pd.DataFrame(data=None, columns=['Source', 'Target','CourseName', 'Source_Course_Instructor','Edges','Weights'])"
   ]
  },
  {
   "cell_type": "code",
   "execution_count": 23,
   "metadata": {},
   "outputs": [],
   "source": [
    "for i in data.index:\n",
    "    cid1= data.loc[i]['ID']\n",
    "    cname= data.loc[i]['Name']\n",
    "    instructor = data.loc[i]['Instructor']\n",
    "    a = set(data.loc[i][\"category\"])\n",
    "    #a_minus_gen_cat = a.difference(set(gen_cat)) \n",
    "    \n",
    "    for j in range(i+1,len(data) ):\n",
    "        cid2 = data.loc[j]['ID']\n",
    "        \n",
    "        b = set(data.loc[j][\"category\"])\n",
    "        edges = list(a.intersection(b))\n",
    "        \n",
    "        if len(edges) != 0 :\n",
    "            weights = len(edges)\n",
    "            temp= pd.DataFrame([[cid1,cid2,cname,instructor,edges,weights]], columns=graph_course_id_df.columns)\n",
    "            graph_course_id_df = graph_course_id_df.append(temp, ignore_index=True,verify_integrity=False)\n",
    "        #print(temp.columns)\n",
    "    #print(graph_df)\n",
    "    #break\n",
    "        \n",
    "        "
   ]
  },
  {
   "cell_type": "code",
   "execution_count": 24,
   "metadata": {},
   "outputs": [],
   "source": [
    "data_new = data.drop(['ID'], axis=1)"
   ]
  },
  {
   "cell_type": "code",
   "execution_count": 25,
   "metadata": {
    "collapsed": true
   },
   "outputs": [],
   "source": [
    "graph_df = pd.DataFrame(data=None, columns=['Source', 'Target','CourseName', 'Source_Course_Instructor','Edges','Weights'])"
   ]
  },
  {
   "cell_type": "code",
   "execution_count": 26,
   "metadata": {
    "collapsed": true
   },
   "outputs": [],
   "source": [
    "new_df = data_new.drop_duplicates(subset=['Name'], keep=\"first\")\n",
    "new_df = new_df.reset_index()\n",
    "new_df.to_excel(\"../data/data_courses.xls\")"
   ]
  },
  {
   "cell_type": "code",
   "execution_count": 27,
   "metadata": {
    "collapsed": true
   },
   "outputs": [],
   "source": [
    "for i in new_df.index:\n",
    "    #print(i)\n",
    "    cname1= new_df.loc[i]['Name']\n",
    "    instructor = new_df.loc[i]['Instructor']\n",
    "    a = set(new_df.loc[i][\"category\"])\n",
    "    #a_minus_gen_cat = a.difference(set(gen_cat)) \n",
    "    \n",
    "    for j in range(i+1,len(new_df)):\n",
    "        cname2= new_df.loc[j]['Name']\n",
    "        \n",
    "        b = set(new_df.loc[j][\"category\"])\n",
    "        edges = list(a.intersection(b))\n",
    "        \n",
    "        if len(edges) != 0 :\n",
    "            weights = len(edges)\n",
    "            temp= pd.DataFrame([[cname1,cname2,cname1,instructor,edges,weights]], columns=graph_df.columns)\n",
    "            graph_df = graph_df.append(temp, ignore_index=True,verify_integrity=False)\n",
    "        #print(temp.columns)\n",
    "    #print(graph_df)\n",
    "    #break\n",
    "        \n",
    "        \n",
    "        "
   ]
  },
  {
   "cell_type": "code",
   "execution_count": 28,
   "metadata": {},
   "outputs": [
    {
     "name": "stdout",
     "output_type": "stream",
     "text": [
      "86\n"
     ]
    },
    {
     "data": {
      "text/html": [
       "<div>\n",
       "<style>\n",
       "    .dataframe thead tr:only-child th {\n",
       "        text-align: right;\n",
       "    }\n",
       "\n",
       "    .dataframe thead th {\n",
       "        text-align: left;\n",
       "    }\n",
       "\n",
       "    .dataframe tbody tr th {\n",
       "        vertical-align: top;\n",
       "    }\n",
       "</style>\n",
       "<table border=\"1\" class=\"dataframe\">\n",
       "  <thead>\n",
       "    <tr style=\"text-align: right;\">\n",
       "      <th></th>\n",
       "      <th>Source</th>\n",
       "    </tr>\n",
       "  </thead>\n",
       "  <tbody>\n",
       "    <tr>\n",
       "      <th>0</th>\n",
       "      <td>iSchool Prosem 17-18</td>\n",
       "    </tr>\n",
       "    <tr>\n",
       "      <th>1</th>\n",
       "      <td>Ugrad Bioinformatics Seminar</td>\n",
       "    </tr>\n",
       "    <tr>\n",
       "      <th>2</th>\n",
       "      <td>�Social Aspects Info Tech</td>\n",
       "    </tr>\n",
       "    <tr>\n",
       "      <th>3</th>\n",
       "      <td>Information Organization and Access Metacourse</td>\n",
       "    </tr>\n",
       "    <tr>\n",
       "      <th>4</th>\n",
       "      <td>Big Data Infrastructrs for R&amp;D</td>\n",
       "    </tr>\n",
       "  </tbody>\n",
       "</table>\n",
       "</div>"
      ],
      "text/plain": [
       "                                            Source\n",
       "0                             iSchool Prosem 17-18\n",
       "1                     Ugrad Bioinformatics Seminar\n",
       "2                        �Social Aspects Info Tech\n",
       "3   Information Organization and Access Metacourse\n",
       "4                   Big Data Infrastructrs for R&D"
      ]
     },
     "execution_count": 28,
     "metadata": {},
     "output_type": "execute_result"
    }
   ],
   "source": [
    "### Check for the isolates: \n",
    "course_with_edges = set(graph_df[\"Source\"]).union(set(graph_df[\"Target\"]))\n",
    "print(len(course_with_edges))\n",
    "unique_courses = set(new_df['Name'])\n",
    "isolated_courses = unique_courses.difference(course_with_edges)\n",
    "\n",
    "df_isolated = pd.DataFrame(list(isolated_courses), columns=[\"Source\"])\n",
    "\n",
    "df_isolated"
   ]
  },
  {
   "cell_type": "code",
   "execution_count": 29,
   "metadata": {
    "collapsed": true
   },
   "outputs": [],
   "source": [
    "nodes = unique_courses.union(isolated_courses)\n",
    "pd.DataFrame(data=list(nodes), columns=[\"Source\"]).to_excel(\"../data/courseName_nodes.xls\")"
   ]
  },
  {
   "cell_type": "code",
   "execution_count": 30,
   "metadata": {
    "collapsed": true
   },
   "outputs": [],
   "source": [
    "graph_df = graph_df.append(df_isolated)"
   ]
  },
  {
   "cell_type": "code",
   "execution_count": 31,
   "metadata": {
    "collapsed": true
   },
   "outputs": [],
   "source": [
    "graph_df.to_excel(\"../data/course_graph.xls\")"
   ]
  },
  {
   "cell_type": "code",
   "execution_count": 32,
   "metadata": {},
   "outputs": [
    {
     "data": {
      "text/html": [
       "<div>\n",
       "<style>\n",
       "    .dataframe thead tr:only-child th {\n",
       "        text-align: right;\n",
       "    }\n",
       "\n",
       "    .dataframe thead th {\n",
       "        text-align: left;\n",
       "    }\n",
       "\n",
       "    .dataframe tbody tr th {\n",
       "        vertical-align: top;\n",
       "    }\n",
       "</style>\n",
       "<table border=\"1\" class=\"dataframe\">\n",
       "  <thead>\n",
       "    <tr style=\"text-align: right;\">\n",
       "      <th></th>\n",
       "      <th>CourseName</th>\n",
       "      <th>Edges</th>\n",
       "      <th>Source</th>\n",
       "      <th>Source_Course_Instructor</th>\n",
       "      <th>Target</th>\n",
       "      <th>Weights</th>\n",
       "    </tr>\n",
       "  </thead>\n",
       "  <tbody>\n",
       "    <tr>\n",
       "      <th>0</th>\n",
       "      <td>Data Visualization</td>\n",
       "      <td>[Presentation, Information Organization]</td>\n",
       "      <td>Data Visualization</td>\n",
       "      <td>Matthew Turk</td>\n",
       "      <td>Data Warehousing and BI</td>\n",
       "      <td>2</td>\n",
       "    </tr>\n",
       "    <tr>\n",
       "      <th>1</th>\n",
       "      <td>Data Visualization</td>\n",
       "      <td>[Presentation]</td>\n",
       "      <td>Data Visualization</td>\n",
       "      <td>Matthew Turk</td>\n",
       "      <td>Exhibit Design &amp; Installation</td>\n",
       "      <td>1</td>\n",
       "    </tr>\n",
       "    <tr>\n",
       "      <th>2</th>\n",
       "      <td>Data Visualization</td>\n",
       "      <td>[Teaching, Information Organization]</td>\n",
       "      <td>Data Visualization</td>\n",
       "      <td>Matthew Turk</td>\n",
       "      <td>E-Learning</td>\n",
       "      <td>2</td>\n",
       "    </tr>\n",
       "    <tr>\n",
       "      <th>3</th>\n",
       "      <td>Data Visualization</td>\n",
       "      <td>[Tools, Teaching]</td>\n",
       "      <td>Data Visualization</td>\n",
       "      <td>Matthew Turk</td>\n",
       "      <td>Global Health Informatics</td>\n",
       "      <td>2</td>\n",
       "    </tr>\n",
       "    <tr>\n",
       "      <th>4</th>\n",
       "      <td>Data Visualization</td>\n",
       "      <td>[Teaching, Information Organization]</td>\n",
       "      <td>Data Visualization</td>\n",
       "      <td>Matthew Turk</td>\n",
       "      <td>Local, Regional, Global IS</td>\n",
       "      <td>2</td>\n",
       "    </tr>\n",
       "  </tbody>\n",
       "</table>\n",
       "</div>"
      ],
      "text/plain": [
       "           CourseName                                     Edges  \\\n",
       "0  Data Visualization  [Presentation, Information Organization]   \n",
       "1  Data Visualization                            [Presentation]   \n",
       "2  Data Visualization      [Teaching, Information Organization]   \n",
       "3  Data Visualization                         [Tools, Teaching]   \n",
       "4  Data Visualization      [Teaching, Information Organization]   \n",
       "\n",
       "               Source Source_Course_Instructor                         Target  \\\n",
       "0  Data Visualization             Matthew Turk        Data Warehousing and BI   \n",
       "1  Data Visualization             Matthew Turk  Exhibit Design & Installation   \n",
       "2  Data Visualization             Matthew Turk                     E-Learning   \n",
       "3  Data Visualization             Matthew Turk      Global Health Informatics   \n",
       "4  Data Visualization             Matthew Turk     Local, Regional, Global IS   \n",
       "\n",
       "  Weights  \n",
       "0       2  \n",
       "1       1  \n",
       "2       2  \n",
       "3       2  \n",
       "4       2  "
      ]
     },
     "execution_count": 32,
     "metadata": {},
     "output_type": "execute_result"
    }
   ],
   "source": [
    "#graph_df.to_excel('../data/graph_final.xls')\n",
    "graph_df.head()"
   ]
  },
  {
   "cell_type": "code",
   "execution_count": 33,
   "metadata": {
    "collapsed": true
   },
   "outputs": [],
   "source": [
    "import networkx as nx \n",
    "import matplotlib.pyplot as plt \n",
    "import pandas as pd\n",
    "\n",
    "%matplotlib inline"
   ]
  },
  {
   "cell_type": "code",
   "execution_count": 34,
   "metadata": {
    "collapsed": true
   },
   "outputs": [],
   "source": [
    "# A= graph_df['Course1'].isin(['590DV'])"
   ]
  },
  {
   "cell_type": "code",
   "execution_count": 35,
   "metadata": {
    "collapsed": true
   },
   "outputs": [],
   "source": [
    "G = nx.from_pandas_dataframe(graph_df ,'Source','Target')"
   ]
  },
  {
   "cell_type": "code",
   "execution_count": 36,
   "metadata": {
    "collapsed": true
   },
   "outputs": [],
   "source": [
    "def dict_to_values(G, dict_data):\n",
    "    return [dict_data[n] for n in G.nodes]"
   ]
  },
  {
   "cell_type": "code",
   "execution_count": 37,
   "metadata": {},
   "outputs": [
    {
     "data": {
      "text/html": [
       "<div>\n",
       "<style>\n",
       "    .dataframe thead tr:only-child th {\n",
       "        text-align: right;\n",
       "    }\n",
       "\n",
       "    .dataframe thead th {\n",
       "        text-align: left;\n",
       "    }\n",
       "\n",
       "    .dataframe tbody tr th {\n",
       "        vertical-align: top;\n",
       "    }\n",
       "</style>\n",
       "<table border=\"1\" class=\"dataframe\">\n",
       "  <thead>\n",
       "    <tr style=\"text-align: right;\">\n",
       "      <th></th>\n",
       "      <th>CourseName</th>\n",
       "      <th>Edges</th>\n",
       "      <th>Source</th>\n",
       "      <th>Source_Course_Instructor</th>\n",
       "      <th>Target</th>\n",
       "      <th>Weights</th>\n",
       "    </tr>\n",
       "  </thead>\n",
       "  <tbody>\n",
       "    <tr>\n",
       "      <th>0</th>\n",
       "      <td>NaN</td>\n",
       "      <td>NaN</td>\n",
       "      <td>iSchool Prosem 17-18</td>\n",
       "      <td>NaN</td>\n",
       "      <td>NaN</td>\n",
       "      <td>NaN</td>\n",
       "    </tr>\n",
       "    <tr>\n",
       "      <th>1</th>\n",
       "      <td>NaN</td>\n",
       "      <td>NaN</td>\n",
       "      <td>Ugrad Bioinformatics Seminar</td>\n",
       "      <td>NaN</td>\n",
       "      <td>NaN</td>\n",
       "      <td>NaN</td>\n",
       "    </tr>\n",
       "    <tr>\n",
       "      <th>2</th>\n",
       "      <td>NaN</td>\n",
       "      <td>NaN</td>\n",
       "      <td>�Social Aspects Info Tech</td>\n",
       "      <td>NaN</td>\n",
       "      <td>NaN</td>\n",
       "      <td>NaN</td>\n",
       "    </tr>\n",
       "    <tr>\n",
       "      <th>3</th>\n",
       "      <td>NaN</td>\n",
       "      <td>NaN</td>\n",
       "      <td>Information Organization and Access Metacourse</td>\n",
       "      <td>NaN</td>\n",
       "      <td>NaN</td>\n",
       "      <td>NaN</td>\n",
       "    </tr>\n",
       "    <tr>\n",
       "      <th>4</th>\n",
       "      <td>NaN</td>\n",
       "      <td>NaN</td>\n",
       "      <td>Big Data Infrastructrs for R&amp;D</td>\n",
       "      <td>NaN</td>\n",
       "      <td>NaN</td>\n",
       "      <td>NaN</td>\n",
       "    </tr>\n",
       "  </tbody>\n",
       "</table>\n",
       "</div>"
      ],
      "text/plain": [
       "  CourseName Edges                                           Source  \\\n",
       "0        NaN   NaN                             iSchool Prosem 17-18   \n",
       "1        NaN   NaN                     Ugrad Bioinformatics Seminar   \n",
       "2        NaN   NaN                        �Social Aspects Info Tech   \n",
       "3        NaN   NaN   Information Organization and Access Metacourse   \n",
       "4        NaN   NaN                   Big Data Infrastructrs for R&D   \n",
       "\n",
       "  Source_Course_Instructor Target Weights  \n",
       "0                      NaN    NaN     NaN  \n",
       "1                      NaN    NaN     NaN  \n",
       "2                      NaN    NaN     NaN  \n",
       "3                      NaN    NaN     NaN  \n",
       "4                      NaN    NaN     NaN  "
      ]
     },
     "execution_count": 37,
     "metadata": {},
     "output_type": "execute_result"
    }
   ],
   "source": [
    "graph_df.tail()"
   ]
  },
  {
   "cell_type": "code",
   "execution_count": 38,
   "metadata": {
    "collapsed": true
   },
   "outputs": [],
   "source": [
    "def plot_network(G, node_size_dict, factor=10, **kwargs):\n",
    "    nx.draw(\n",
    "        G, \n",
    "        pos=nx.spring_layout(G),\n",
    "        with_labels=True,\n",
    "        node_size=[v*factor for v in dict_to_values(G, node_size_dict)],\n",
    "        **kwargs\n",
    "    )"
   ]
  },
  {
   "cell_type": "code",
   "execution_count": 39,
   "metadata": {},
   "outputs": [
    {
     "data": {
      "image/png": "[encoded data removed]",
      "text/plain": [
       "<matplotlib.figure.Figure at 0x1516b03f60>"
      ]
     },
     "metadata": {},
     "output_type": "display_data"
    }
   ],
   "source": [
    "plot_network(G,nx.degree(G),factor=100,font_size=10, node_color=\"r\", width=.25)\n"
   ]
  },
  {
   "cell_type": "code",
   "execution_count": 40,
   "metadata": {
    "collapsed": true
   },
   "outputs": [],
   "source": [
    "### Centrality Measure\n",
    "from utilities import get_all_node_metrics\n",
    "\n",
    "cent_measure= {'degree': nx.degree(G),\n",
    "               'betweenness': nx.betweenness_centrality(G),\n",
    "               'closeness'  : nx.closeness_centrality(G),\n",
    "               'eigen_vector': nx.eigenvector_centrality(G)\n",
    "              }\n",
    "\n",
    "df_cm = get_all_node_metrics(G)"
   ]
  },
  {
   "cell_type": "code",
   "execution_count": 41,
   "metadata": {},
   "outputs": [
    {
     "data": {
      "text/html": [
       "<div>\n",
       "<style>\n",
       "    .dataframe thead tr:only-child th {\n",
       "        text-align: right;\n",
       "    }\n",
       "\n",
       "    .dataframe thead th {\n",
       "        text-align: left;\n",
       "    }\n",
       "\n",
       "    .dataframe tbody tr th {\n",
       "        vertical-align: top;\n",
       "    }\n",
       "</style>\n",
       "<table border=\"1\" class=\"dataframe\">\n",
       "  <thead>\n",
       "    <tr style=\"text-align: right;\">\n",
       "      <th></th>\n",
       "      <th>degree</th>\n",
       "      <th>betweenness</th>\n",
       "      <th>closeness</th>\n",
       "      <th>eigenvector</th>\n",
       "      <th>clustering</th>\n",
       "    </tr>\n",
       "  </thead>\n",
       "  <tbody>\n",
       "    <tr>\n",
       "      <th>Intro to Technology in LIS</th>\n",
       "      <td>0.857143</td>\n",
       "      <td>0.008782</td>\n",
       "      <td>0.862996</td>\n",
       "      <td>0.141650</td>\n",
       "      <td>0.716950</td>\n",
       "    </tr>\n",
       "    <tr>\n",
       "      <th>Libraries Info and Society</th>\n",
       "      <td>0.857143</td>\n",
       "      <td>0.011417</td>\n",
       "      <td>0.862996</td>\n",
       "      <td>0.140623</td>\n",
       "      <td>0.706627</td>\n",
       "    </tr>\n",
       "    <tr>\n",
       "      <th>Adult Popular Literature</th>\n",
       "      <td>0.857143</td>\n",
       "      <td>0.011440</td>\n",
       "      <td>0.862996</td>\n",
       "      <td>0.140298</td>\n",
       "      <td>0.703963</td>\n",
       "    </tr>\n",
       "    <tr>\n",
       "      <th>Academic Librarianship</th>\n",
       "      <td>0.846154</td>\n",
       "      <td>0.010568</td>\n",
       "      <td>0.853716</td>\n",
       "      <td>0.139782</td>\n",
       "      <td>0.717020</td>\n",
       "    </tr>\n",
       "    <tr>\n",
       "      <th>Global Health Informatics</th>\n",
       "      <td>0.835165</td>\n",
       "      <td>0.015668</td>\n",
       "      <td>0.844634</td>\n",
       "      <td>0.139160</td>\n",
       "      <td>0.729123</td>\n",
       "    </tr>\n",
       "    <tr>\n",
       "      <th>Local, Regional, Global IS</th>\n",
       "      <td>0.835165</td>\n",
       "      <td>0.008350</td>\n",
       "      <td>0.844634</td>\n",
       "      <td>0.139030</td>\n",
       "      <td>0.728070</td>\n",
       "    </tr>\n",
       "    <tr>\n",
       "      <th>Race, Gender &amp; Info Technology</th>\n",
       "      <td>0.813187</td>\n",
       "      <td>0.015469</td>\n",
       "      <td>0.827038</td>\n",
       "      <td>0.137602</td>\n",
       "      <td>0.752314</td>\n",
       "    </tr>\n",
       "    <tr>\n",
       "      <th>Computers and Cultures</th>\n",
       "      <td>0.813187</td>\n",
       "      <td>0.006230</td>\n",
       "      <td>0.827038</td>\n",
       "      <td>0.138072</td>\n",
       "      <td>0.757867</td>\n",
       "    </tr>\n",
       "    <tr>\n",
       "      <th>Web Technologies &amp; Techniques</th>\n",
       "      <td>0.802198</td>\n",
       "      <td>0.007673</td>\n",
       "      <td>0.818511</td>\n",
       "      <td>0.135543</td>\n",
       "      <td>0.751142</td>\n",
       "    </tr>\n",
       "    <tr>\n",
       "      <th>Issues Scholarly Communication</th>\n",
       "      <td>0.791209</td>\n",
       "      <td>0.008255</td>\n",
       "      <td>0.810159</td>\n",
       "      <td>0.131397</td>\n",
       "      <td>0.728873</td>\n",
       "    </tr>\n",
       "  </tbody>\n",
       "</table>\n",
       "</div>"
      ],
      "text/plain": [
       "                                   degree  betweenness  closeness  \\\n",
       " Intro to Technology in LIS      0.857143     0.008782   0.862996   \n",
       "Libraries Info and Society       0.857143     0.011417   0.862996   \n",
       " Adult Popular Literature        0.857143     0.011440   0.862996   \n",
       " Academic Librarianship          0.846154     0.010568   0.853716   \n",
       " Global Health Informatics       0.835165     0.015668   0.844634   \n",
       "Local, Regional, Global IS       0.835165     0.008350   0.844634   \n",
       "Race, Gender & Info Technology   0.813187     0.015469   0.827038   \n",
       "Computers and Cultures           0.813187     0.006230   0.827038   \n",
       "Web Technologies & Techniques    0.802198     0.007673   0.818511   \n",
       " Issues Scholarly Communication  0.791209     0.008255   0.810159   \n",
       "\n",
       "                                 eigenvector  clustering  \n",
       " Intro to Technology in LIS         0.141650    0.716950  \n",
       "Libraries Info and Society          0.140623    0.706627  \n",
       " Adult Popular Literature           0.140298    0.703963  \n",
       " Academic Librarianship             0.139782    0.717020  \n",
       " Global Health Informatics          0.139160    0.729123  \n",
       "Local, Regional, Global IS          0.139030    0.728070  \n",
       "Race, Gender & Info Technology      0.137602    0.752314  \n",
       "Computers and Cultures              0.138072    0.757867  \n",
       "Web Technologies & Techniques       0.135543    0.751142  \n",
       " Issues Scholarly Communication     0.131397    0.728873  "
      ]
     },
     "execution_count": 41,
     "metadata": {},
     "output_type": "execute_result"
    }
   ],
   "source": [
    "df_cm.sort_values(by=['degree'],ascending=False).head(10)"
   ]
  },
  {
   "cell_type": "code",
   "execution_count": 42,
   "metadata": {},
   "outputs": [
    {
     "data": {
      "text/html": [
       "<div>\n",
       "<style>\n",
       "    .dataframe thead tr:only-child th {\n",
       "        text-align: right;\n",
       "    }\n",
       "\n",
       "    .dataframe thead th {\n",
       "        text-align: left;\n",
       "    }\n",
       "\n",
       "    .dataframe tbody tr th {\n",
       "        vertical-align: top;\n",
       "    }\n",
       "</style>\n",
       "<table border=\"1\" class=\"dataframe\">\n",
       "  <thead>\n",
       "    <tr style=\"text-align: right;\">\n",
       "      <th></th>\n",
       "      <th>degree</th>\n",
       "      <th>betweenness</th>\n",
       "      <th>closeness</th>\n",
       "      <th>eigenvector</th>\n",
       "      <th>clustering</th>\n",
       "    </tr>\n",
       "  </thead>\n",
       "  <tbody>\n",
       "    <tr>\n",
       "      <th>Big Data Infrastructrs for R&amp;D</th>\n",
       "      <td>0.010989</td>\n",
       "      <td>0.000000</td>\n",
       "      <td>0.030525</td>\n",
       "      <td>9.757826e-11</td>\n",
       "      <td>0.0</td>\n",
       "    </tr>\n",
       "    <tr>\n",
       "      <th>iSchool Prosem 17-18</th>\n",
       "      <td>0.010989</td>\n",
       "      <td>0.000000</td>\n",
       "      <td>0.030525</td>\n",
       "      <td>9.757826e-11</td>\n",
       "      <td>0.0</td>\n",
       "    </tr>\n",
       "    <tr>\n",
       "      <th>Ugrad Bioinformatics Seminar</th>\n",
       "      <td>0.010989</td>\n",
       "      <td>0.000000</td>\n",
       "      <td>0.030525</td>\n",
       "      <td>9.757826e-11</td>\n",
       "      <td>0.0</td>\n",
       "    </tr>\n",
       "    <tr>\n",
       "      <th>Information Organization and Access Metacourse</th>\n",
       "      <td>0.010989</td>\n",
       "      <td>0.000000</td>\n",
       "      <td>0.030525</td>\n",
       "      <td>9.757826e-11</td>\n",
       "      <td>0.0</td>\n",
       "    </tr>\n",
       "    <tr>\n",
       "      <th>�Social Aspects Info Tech</th>\n",
       "      <td>0.010989</td>\n",
       "      <td>0.000000</td>\n",
       "      <td>0.030525</td>\n",
       "      <td>9.757826e-11</td>\n",
       "      <td>0.0</td>\n",
       "    </tr>\n",
       "    <tr>\n",
       "      <th>Community Engagement</th>\n",
       "      <td>0.021978</td>\n",
       "      <td>0.000000</td>\n",
       "      <td>0.446043</td>\n",
       "      <td>4.520861e-03</td>\n",
       "      <td>1.0</td>\n",
       "    </tr>\n",
       "    <tr>\n",
       "      <th>Grad Bioinformatics Seminar</th>\n",
       "      <td>0.032967</td>\n",
       "      <td>0.000000</td>\n",
       "      <td>0.461602</td>\n",
       "      <td>5.491594e-03</td>\n",
       "      <td>1.0</td>\n",
       "    </tr>\n",
       "    <tr>\n",
       "      <th>NaN</th>\n",
       "      <td>0.054945</td>\n",
       "      <td>0.003053</td>\n",
       "      <td>0.054945</td>\n",
       "      <td>2.183894e-10</td>\n",
       "      <td>0.0</td>\n",
       "    </tr>\n",
       "    <tr>\n",
       "      <th>Practicum</th>\n",
       "      <td>0.109890</td>\n",
       "      <td>0.000000</td>\n",
       "      <td>0.487090</td>\n",
       "      <td>1.907351e-02</td>\n",
       "      <td>1.0</td>\n",
       "    </tr>\n",
       "    <tr>\n",
       "      <th>Information Consulting</th>\n",
       "      <td>0.164835</td>\n",
       "      <td>0.000000</td>\n",
       "      <td>0.505704</td>\n",
       "      <td>2.884976e-02</td>\n",
       "      <td>1.0</td>\n",
       "    </tr>\n",
       "  </tbody>\n",
       "</table>\n",
       "</div>"
      ],
      "text/plain": [
       "                                                   degree  betweenness  \\\n",
       " Big Data Infrastructrs for R&D                  0.010989     0.000000   \n",
       "iSchool Prosem 17-18                             0.010989     0.000000   \n",
       " Ugrad Bioinformatics Seminar                    0.010989     0.000000   \n",
       " Information Organization and Access Metacourse  0.010989     0.000000   \n",
       "�Social Aspects Info Tech                        0.010989     0.000000   \n",
       "Community Engagement                             0.021978     0.000000   \n",
       " Grad Bioinformatics Seminar                     0.032967     0.000000   \n",
       "NaN                                              0.054945     0.003053   \n",
       "Practicum                                        0.109890     0.000000   \n",
       " Information Consulting                          0.164835     0.000000   \n",
       "\n",
       "                                                 closeness   eigenvector  \\\n",
       " Big Data Infrastructrs for R&D                   0.030525  9.757826e-11   \n",
       "iSchool Prosem 17-18                              0.030525  9.757826e-11   \n",
       " Ugrad Bioinformatics Seminar                     0.030525  9.757826e-11   \n",
       " Information Organization and Access Metacourse   0.030525  9.757826e-11   \n",
       "�Social Aspects Info Tech                         0.030525  9.757826e-11   \n",
       "Community Engagement                              0.446043  4.520861e-03   \n",
       " Grad Bioinformatics Seminar                      0.461602  5.491594e-03   \n",
       "NaN                                               0.054945  2.183894e-10   \n",
       "Practicum                                         0.487090  1.907351e-02   \n",
       " Information Consulting                           0.505704  2.884976e-02   \n",
       "\n",
       "                                                 clustering  \n",
       " Big Data Infrastructrs for R&D                         0.0  \n",
       "iSchool Prosem 17-18                                    0.0  \n",
       " Ugrad Bioinformatics Seminar                           0.0  \n",
       " Information Organization and Access Metacourse         0.0  \n",
       "�Social Aspects Info Tech                               0.0  \n",
       "Community Engagement                                    1.0  \n",
       " Grad Bioinformatics Seminar                            1.0  \n",
       "NaN                                                     0.0  \n",
       "Practicum                                               1.0  \n",
       " Information Consulting                                 1.0  "
      ]
     },
     "execution_count": 42,
     "metadata": {},
     "output_type": "execute_result"
    }
   ],
   "source": [
    "df_cm.sort_values(by=['degree'],ascending=True).head(10)"
   ]
  },
  {
   "cell_type": "code",
   "execution_count": 43,
   "metadata": {},
   "outputs": [
    {
     "name": "stdout",
     "output_type": "stream",
     "text": [
      "Name: \n",
      "Type: Graph\n",
      "Number of nodes: 92\n",
      "Number of edges: 2315\n",
      "Average degree:  50.3261\n"
     ]
    }
   ],
   "source": [
    "print(nx.info(G))"
   ]
  },
  {
   "cell_type": "code",
   "execution_count": 44,
   "metadata": {
    "collapsed": true
   },
   "outputs": [],
   "source": [
    "graph_df.to_csv(\"../data/graph_df.csv\")"
   ]
  },
  {
   "cell_type": "code",
   "execution_count": 45,
   "metadata": {
    "collapsed": true
   },
   "outputs": [],
   "source": [
    "top_10_degree_based_course = df_cm.sort_values(by=['degree'],ascending=False).head(10).index"
   ]
  },
  {
   "cell_type": "code",
   "execution_count": 46,
   "metadata": {
    "collapsed": true
   },
   "outputs": [],
   "source": [
    "G_top_10_degree = G = nx.from_pandas_dataframe(graph_df[graph_df['Source'].isin(top_10_degree_based_course)] ,'Source','Target')"
   ]
  },
  {
   "cell_type": "code",
   "execution_count": 47,
   "metadata": {},
   "outputs": [
    {
     "data": {
      "image/png": "[encoded data removed]",
      "text/plain": [
       "<matplotlib.figure.Figure at 0x1516b03dd8>"
      ]
     },
     "metadata": {},
     "output_type": "display_data"
    }
   ],
   "source": [
    "plot_network(G_top_10_degree,nx.degree(G_top_10_degree),factor=100,font_size=10, node_color=\"r\", width=.25)\n",
    "\n",
    "\n"
   ]
  },
  {
   "cell_type": "code",
   "execution_count": null,
   "metadata": {
    "collapsed": true
   },
   "outputs": [],
   "source": []
  },
  {
   "cell_type": "code",
   "execution_count": null,
   "metadata": {
    "collapsed": true
   },
   "outputs": [],
   "source": []
  }
 ],
 "metadata": {
  "kernelspec": {
   "display_name": "Python 3",
   "language": "python",
   "name": "python3"
  },
  "language_info": {
   "codemirror_mode": {
    "name": "ipython",
    "version": 3
   },
   "file_extension": ".py",
   "mimetype": "text/x-python",
   "name": "python",
   "nbconvert_exporter": "python",
   "pygments_lexer": "ipython3",
   "version": "3.6.3"
  }
 },
 "nbformat": 4,
 "nbformat_minor": 2
}
