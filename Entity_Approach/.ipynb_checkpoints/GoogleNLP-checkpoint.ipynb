{
 "cells": [
  {
   "cell_type": "code",
   "execution_count": 1,
   "metadata": {
    "collapsed": true
   },
   "outputs": [],
   "source": [
    "# Imports the Google Cloud client library\n",
    "from google.cloud import language\n",
    "from google.cloud.language import enums\n",
    "from google.cloud.language import types\n",
    "import pandas as pd \n",
    "import six\n"
   ]
  },
  {
   "cell_type": "code",
   "execution_count": 2,
   "metadata": {},
   "outputs": [
    {
     "name": "stdout",
     "output_type": "stream",
     "text": [
      "Text: Hello, world!\n",
      "Sentiment: 0.30000001192092896, 0.30000001192092896\n"
     ]
    }
   ],
   "source": [
    "# Instantiates a client\n",
    "client = language.LanguageServiceClient()\n",
    "\n",
    "# The text to analyze\n",
    "text = u'Hello, world!'\n",
    "document = types.Document(\n",
    "    content=text,\n",
    "    type=enums.Document.Type.PLAIN_TEXT)\n",
    "\n",
    "# Detects the sentiment of the text\n",
    "sentiment = client.analyze_sentiment(document=document).document_sentiment\n",
    "\n",
    "print('Text: {}'.format(text))\n",
    "print('Sentiment: {}, {}'.format(sentiment.score, sentiment.magnitude))"
   ]
  },
  {
   "cell_type": "code",
   "execution_count": 3,
   "metadata": {},
   "outputs": [
    {
     "data": {
      "text/plain": [
       "'    \\n    #print(type(categories))\\n    if  type(categories) == \"google.protobuf.pyext._message.RepeatedCompositeContainer\" :\\n        for category in categories:\\n            print(category[\\'name\\'])\\n'"
      ]
     },
     "execution_count": 3,
     "metadata": {},
     "output_type": "execute_result"
    }
   ],
   "source": [
    "def category_text(text):\n",
    "    \"\"\"Classifies content categories of the provided text.\"\"\"\n",
    "    client = language.LanguageServiceClient()\n",
    "\n",
    "    if isinstance(text, six.binary_type):\n",
    "        text = text.decode('utf-8')\n",
    "    \n",
    "    #print(type(text.encode('utf-8')))\n",
    "    document = types.Document(\n",
    "        content=text.encode('utf-8'),\n",
    "        type=enums.Document.Type.PLAIN_TEXT)\n",
    "    \n",
    "    try: \n",
    "        categories = client.classify_text(document).categories\n",
    "    except:\n",
    "        categories = []\n",
    "    \n",
    "    return categories\n",
    "'''    \n",
    "    #print(type(categories))\n",
    "    if  type(categories) == \"google.protobuf.pyext._message.RepeatedCompositeContainer\" :\n",
    "        for category in categories:\n",
    "            print(category['name'])\n",
    "'''    \n",
    "    "
   ]
  },
  {
   "cell_type": "code",
   "execution_count": 4,
   "metadata": {
    "collapsed": true
   },
   "outputs": [],
   "source": [
    "def entities_text(text):\n",
    "    \"\"\"Detects entities in the text.\"\"\"\n",
    "    client = language.LanguageServiceClient()\n",
    "\n",
    "    if isinstance(text, six.binary_type):\n",
    "        text = text.decode('utf-8')\n",
    "\n",
    "    # Instantiates a plain text document.\n",
    "    document = types.Document(\n",
    "        content=text,\n",
    "        type=enums.Document.Type.PLAIN_TEXT)\n",
    "\n",
    "    # Detects entities in the document. You can also analyze HTML with:\n",
    "    #   document.type == enums.Document.Type.HTML\n",
    "    entities = client.analyze_entities(document).entities\n",
    "\n",
    "    # entity types from enums.Entity.Type\n",
    "    entity_type = ('UNKNOWN', 'PERSON', 'LOCATION', 'ORGANIZATION',\n",
    "                   'EVENT', 'WORK_OF_ART', 'CONSUMER_GOOD', 'OTHER')\n",
    "    '''\n",
    "    for entity in entities:\n",
    "        print('=' * 20)\n",
    "        print(u'{:<16}: {}'.format('name', entity.name))\n",
    "        print(u'{:<16}: {}'.format('type', entity_type[entity.type]))\n",
    "        print(u'{:<16}: {}'.format('metadata', entity.metadata))\n",
    "        print(u'{:<16}: {}'.format('salience', entity.salience))\n",
    "        print(u'{:<16}: {}'.format('wikipedia_url',\n",
    "              entity.metadata.get('wikipedia_url', '-')))\n",
    "    '''\n",
    "    return entities"
   ]
  },
  {
   "cell_type": "code",
   "execution_count": 5,
   "metadata": {},
   "outputs": [
    {
     "data": {
      "text/html": [
       "<div>\n",
       "<style>\n",
       "    .dataframe thead tr:only-child th {\n",
       "        text-align: right;\n",
       "    }\n",
       "\n",
       "    .dataframe thead th {\n",
       "        text-align: left;\n",
       "    }\n",
       "\n",
       "    .dataframe tbody tr th {\n",
       "        vertical-align: top;\n",
       "    }\n",
       "</style>\n",
       "<table border=\"1\" class=\"dataframe\">\n",
       "  <thead>\n",
       "    <tr style=\"text-align: right;\">\n",
       "      <th></th>\n",
       "      <th>ID</th>\n",
       "      <th>Name</th>\n",
       "      <th>Description</th>\n",
       "      <th>Instructor</th>\n",
       "      <th>category</th>\n",
       "      <th>entity_type</th>\n",
       "      <th>entity_name</th>\n",
       "    </tr>\n",
       "  </thead>\n",
       "  <tbody>\n",
       "    <tr>\n",
       "      <th>0</th>\n",
       "      <td>590DV</td>\n",
       "      <td>Data Visualization</td>\n",
       "      <td>Data visualization is crucial to conveying inf...</td>\n",
       "      <td>Matthew Turk</td>\n",
       "      <td></td>\n",
       "      <td></td>\n",
       "      <td></td>\n",
       "    </tr>\n",
       "    <tr>\n",
       "      <th>1</th>\n",
       "      <td>590DW</td>\n",
       "      <td>Data Warehousing and BI</td>\n",
       "      <td>This course examines the construction of a dat...</td>\n",
       "      <td>Michael Wonderlich</td>\n",
       "      <td></td>\n",
       "      <td></td>\n",
       "      <td></td>\n",
       "    </tr>\n",
       "    <tr>\n",
       "      <th>2</th>\n",
       "      <td>590ED1</td>\n",
       "      <td>Exhibit Design &amp; Installation</td>\n",
       "      <td>This course meets the first 8 weeks of the sem...</td>\n",
       "      <td>Walter Wilson</td>\n",
       "      <td></td>\n",
       "      <td></td>\n",
       "      <td></td>\n",
       "    </tr>\n",
       "    <tr>\n",
       "      <th>3</th>\n",
       "      <td>590ED2</td>\n",
       "      <td>Exhibit Design &amp; Installation</td>\n",
       "      <td>This course meets the last 8 weeks of the seme...</td>\n",
       "      <td>Walter Wilson</td>\n",
       "      <td></td>\n",
       "      <td></td>\n",
       "      <td></td>\n",
       "    </tr>\n",
       "    <tr>\n",
       "      <th>4</th>\n",
       "      <td>590ELO</td>\n",
       "      <td>E-Learning</td>\n",
       "      <td>2 or 4 credits: Provides an introduction to a ...</td>\n",
       "      <td>Melissa Wong</td>\n",
       "      <td></td>\n",
       "      <td></td>\n",
       "      <td></td>\n",
       "    </tr>\n",
       "  </tbody>\n",
       "</table>\n",
       "</div>"
      ],
      "text/plain": [
       "       ID                           Name  \\\n",
       "0   590DV             Data Visualization   \n",
       "1   590DW        Data Warehousing and BI   \n",
       "2  590ED1  Exhibit Design & Installation   \n",
       "3  590ED2  Exhibit Design & Installation   \n",
       "4  590ELO                     E-Learning   \n",
       "\n",
       "                                         Description          Instructor  \\\n",
       "0  Data visualization is crucial to conveying inf...        Matthew Turk   \n",
       "1  This course examines the construction of a dat...  Michael Wonderlich   \n",
       "2  This course meets the first 8 weeks of the sem...       Walter Wilson   \n",
       "3  This course meets the last 8 weeks of the seme...       Walter Wilson   \n",
       "4  2 or 4 credits: Provides an introduction to a ...        Melissa Wong   \n",
       "\n",
       "  category entity_type entity_name  \n",
       "0                                   \n",
       "1                                   \n",
       "2                                   \n",
       "3                                   \n",
       "4                                   "
      ]
     },
     "execution_count": 5,
     "metadata": {},
     "output_type": "execute_result"
    }
   ],
   "source": [
    "courses = pd.read_csv(\"../data/data.csv\", engine='python')\n",
    "#courses.set_index('ID', inplace=True)\n",
    "courses['category'] =''\n",
    "courses['entity_type'] =''\n",
    "courses['entity_name'] =''\n",
    "courses.head()"
   ]
  },
  {
   "cell_type": "code",
   "execution_count": 6,
   "metadata": {
    "collapsed": true
   },
   "outputs": [],
   "source": [
    "def get_category_list(text_data):\n",
    "    category=category_text(text_data)\n",
    "    category_list =[]\n",
    "    \n",
    "    #print(category)\n",
    "        \n",
    "    for cat in category:\n",
    "        #if cat.confidence > 0.50:\n",
    "        category_list.append(cat.name)\n",
    "    \n",
    "    return category_list\n",
    "    \n",
    "    "
   ]
  },
  {
   "cell_type": "code",
   "execution_count": 7,
   "metadata": {
    "collapsed": true
   },
   "outputs": [],
   "source": [
    "def get_entity_list(text_data):\n",
    "    entities=entities_text(text_data)\n",
    "    entities_list =[]\n",
    "    entity_type = []\n",
    "    #print(category)\n",
    "    \n",
    "    # entity types from enums.Entity.Type\n",
    "    entity_enum= ('UNKNOWN', 'PERSON', 'LOCATION', 'ORGANIZATION',\n",
    "                   'EVENT', 'WORK_OF_ART', 'CONSUMER_GOOD', 'OTHER')    \n",
    "    for entity in entities:\n",
    "        #if cat.confidence > 0.50:\n",
    "        entities_list.append(str(entity.name).lower())\n",
    "        #print(entity_enum[entity.type])\n",
    "        entity_type.append(entity_enum[entity.type])\n",
    "    return entities_list, entity_type"
   ]
  },
  {
   "cell_type": "code",
   "execution_count": 8,
   "metadata": {
    "collapsed": true
   },
   "outputs": [],
   "source": [
    "#get_entity_list(courses[\"Description\"][0])"
   ]
  },
  {
   "cell_type": "code",
   "execution_count": 9,
   "metadata": {
    "collapsed": true
   },
   "outputs": [],
   "source": [
    "for i in courses.index:\n",
    "    desc = courses.loc[i]['Description']\n",
    "    #print(desc)\n",
    "    #cat_list = get_category_list(desc)\n",
    "    ent_list,ent_type = get_entity_list(desc)\n",
    "    #print(cat_list)\n",
    "    #courses.loc[i]['category'] = cat_list\n",
    "    courses.loc[i]['entity_type'] = ent_type\n",
    "    courses.loc[i]['entity_name'] = ent_list\n",
    "    "
   ]
  },
  {
   "cell_type": "code",
   "execution_count": 10,
   "metadata": {},
   "outputs": [
    {
     "data": {
      "text/html": [
       "<div>\n",
       "<style>\n",
       "    .dataframe thead tr:only-child th {\n",
       "        text-align: right;\n",
       "    }\n",
       "\n",
       "    .dataframe thead th {\n",
       "        text-align: left;\n",
       "    }\n",
       "\n",
       "    .dataframe tbody tr th {\n",
       "        vertical-align: top;\n",
       "    }\n",
       "</style>\n",
       "<table border=\"1\" class=\"dataframe\">\n",
       "  <thead>\n",
       "    <tr style=\"text-align: right;\">\n",
       "      <th></th>\n",
       "      <th>ID</th>\n",
       "      <th>Name</th>\n",
       "      <th>Description</th>\n",
       "      <th>Instructor</th>\n",
       "      <th>category</th>\n",
       "      <th>entity_type</th>\n",
       "      <th>entity_name</th>\n",
       "    </tr>\n",
       "  </thead>\n",
       "  <tbody>\n",
       "    <tr>\n",
       "      <th>0</th>\n",
       "      <td>590DV</td>\n",
       "      <td>Data Visualization</td>\n",
       "      <td>Data visualization is crucial to conveying inf...</td>\n",
       "      <td>Matthew Turk</td>\n",
       "      <td></td>\n",
       "      <td>[OTHER, OTHER, CONSUMER_GOOD, OTHER, EVENT, OT...</td>\n",
       "      <td>[data visualization, information, models, obse...</td>\n",
       "    </tr>\n",
       "    <tr>\n",
       "      <th>1</th>\n",
       "      <td>590DW</td>\n",
       "      <td>Data Warehousing and BI</td>\n",
       "      <td>This course examines the construction of a dat...</td>\n",
       "      <td>Michael Wonderlich</td>\n",
       "      <td></td>\n",
       "      <td>[OTHER, OTHER, ORGANIZATION, OTHER, OTHER, OTH...</td>\n",
       "      <td>[course, business intelligence system, data wa...</td>\n",
       "    </tr>\n",
       "    <tr>\n",
       "      <th>2</th>\n",
       "      <td>590ED1</td>\n",
       "      <td>Exhibit Design &amp; Installation</td>\n",
       "      <td>This course meets the first 8 weeks of the sem...</td>\n",
       "      <td>Walter Wilson</td>\n",
       "      <td></td>\n",
       "      <td>[OTHER, OTHER, OTHER, EVENT, OTHER, OTHER, OTH...</td>\n",
       "      <td>[course, idea, culmination, exhibition, planni...</td>\n",
       "    </tr>\n",
       "    <tr>\n",
       "      <th>3</th>\n",
       "      <td>590ED2</td>\n",
       "      <td>Exhibit Design &amp; Installation</td>\n",
       "      <td>This course meets the last 8 weeks of the seme...</td>\n",
       "      <td>Walter Wilson</td>\n",
       "      <td></td>\n",
       "      <td>[OTHER, OTHER, OTHER, EVENT, OTHER, OTHER, OTH...</td>\n",
       "      <td>[course, idea, culmination, exhibition, planni...</td>\n",
       "    </tr>\n",
       "    <tr>\n",
       "      <th>4</th>\n",
       "      <td>590ELO</td>\n",
       "      <td>E-Learning</td>\n",
       "      <td>2 or 4 credits: Provides an introduction to a ...</td>\n",
       "      <td>Melissa Wong</td>\n",
       "      <td></td>\n",
       "      <td>[OTHER, OTHER, OTHER, WORK_OF_ART, EVENT, OTHE...</td>\n",
       "      <td>[variety, credits, learning methods, videos, i...</td>\n",
       "    </tr>\n",
       "  </tbody>\n",
       "</table>\n",
       "</div>"
      ],
      "text/plain": [
       "       ID                           Name  \\\n",
       "0   590DV             Data Visualization   \n",
       "1   590DW        Data Warehousing and BI   \n",
       "2  590ED1  Exhibit Design & Installation   \n",
       "3  590ED2  Exhibit Design & Installation   \n",
       "4  590ELO                     E-Learning   \n",
       "\n",
       "                                         Description          Instructor  \\\n",
       "0  Data visualization is crucial to conveying inf...        Matthew Turk   \n",
       "1  This course examines the construction of a dat...  Michael Wonderlich   \n",
       "2  This course meets the first 8 weeks of the sem...       Walter Wilson   \n",
       "3  This course meets the last 8 weeks of the seme...       Walter Wilson   \n",
       "4  2 or 4 credits: Provides an introduction to a ...        Melissa Wong   \n",
       "\n",
       "  category                                        entity_type  \\\n",
       "0           [OTHER, OTHER, CONSUMER_GOOD, OTHER, EVENT, OT...   \n",
       "1           [OTHER, OTHER, ORGANIZATION, OTHER, OTHER, OTH...   \n",
       "2           [OTHER, OTHER, OTHER, EVENT, OTHER, OTHER, OTH...   \n",
       "3           [OTHER, OTHER, OTHER, EVENT, OTHER, OTHER, OTH...   \n",
       "4           [OTHER, OTHER, OTHER, WORK_OF_ART, EVENT, OTHE...   \n",
       "\n",
       "                                         entity_name  \n",
       "0  [data visualization, information, models, obse...  \n",
       "1  [course, business intelligence system, data wa...  \n",
       "2  [course, idea, culmination, exhibition, planni...  \n",
       "3  [course, idea, culmination, exhibition, planni...  \n",
       "4  [variety, credits, learning methods, videos, i...  "
      ]
     },
     "execution_count": 10,
     "metadata": {},
     "output_type": "execute_result"
    }
   ],
   "source": [
    "courses.head()"
   ]
  },
  {
   "cell_type": "code",
   "execution_count": 11,
   "metadata": {
    "collapsed": true
   },
   "outputs": [],
   "source": [
    "#courses.to_csv('../data/desc_category.csv')"
   ]
  },
  {
   "cell_type": "code",
   "execution_count": 12,
   "metadata": {
    "collapsed": true
   },
   "outputs": [],
   "source": [
    "courses_cat = courses \n",
    "data = courses"
   ]
  },
  {
   "cell_type": "code",
   "execution_count": 13,
   "metadata": {
    "collapsed": true
   },
   "outputs": [],
   "source": [
    "gen_cat = ['course information','class schedule information', 'fee', 'fees','meets','students','laptop','data','text'\n",
    "           ,'libraries','focuses','introduction' ,'prerequisite','information',\n",
    "           'consideration', 'settings', 'responsibilities', 'class materials fee','credit',\n",
    "           'credits','class schedule.','field trip fee','course','others','info','topics courses',\n",
    "           'info 491','cpsc 491','standing','project', 'use','uses','people','selection',\n",
    "          'au','needs', 'interests','outreach','overview','practice','content','portion',\n",
    "          'curriculum','parts','look','part','sections', 'variety', 'perspective', 'course materials fee', 'class work']"
   ]
  },
  {
   "cell_type": "code",
   "execution_count": 14,
   "metadata": {
    "collapsed": true
   },
   "outputs": [],
   "source": [
    "for ind in courses.index:\n",
    "    ent_list = courses.loc[ind][\"entity_name\"]\n",
    "    new_list = []\n",
    "    for e in ent_list:\n",
    "        if e not in gen_cat:\n",
    "            new_list.append(e)\n",
    "    data.loc[ind]['entity_name'] = new_list\n",
    "    #print(new_list)"
   ]
  },
  {
   "cell_type": "code",
   "execution_count": null,
   "metadata": {
    "collapsed": true
   },
   "outputs": [],
   "source": []
  },
  {
   "cell_type": "code",
   "execution_count": 15,
   "metadata": {
    "collapsed": true
   },
   "outputs": [],
   "source": [
    "for i in courses.index:\n",
    "    cid1= data.loc[i]['ID']\n",
    "    a = set(data.loc[i][\"entity_name\"])\n",
    "    a_minus_gen_cat = a.difference(set(gen_cat))\n",
    "    data.loc[i][\"entity_name\"] = list(a_minus_gen_cat)"
   ]
  },
  {
   "cell_type": "code",
   "execution_count": 16,
   "metadata": {},
   "outputs": [
    {
     "data": {
      "text/html": [
       "<div>\n",
       "<style>\n",
       "    .dataframe thead tr:only-child th {\n",
       "        text-align: right;\n",
       "    }\n",
       "\n",
       "    .dataframe thead th {\n",
       "        text-align: left;\n",
       "    }\n",
       "\n",
       "    .dataframe tbody tr th {\n",
       "        vertical-align: top;\n",
       "    }\n",
       "</style>\n",
       "<table border=\"1\" class=\"dataframe\">\n",
       "  <thead>\n",
       "    <tr style=\"text-align: right;\">\n",
       "      <th></th>\n",
       "      <th>ID</th>\n",
       "      <th>Name</th>\n",
       "      <th>Description</th>\n",
       "      <th>Instructor</th>\n",
       "      <th>category</th>\n",
       "      <th>entity_type</th>\n",
       "      <th>entity_name</th>\n",
       "    </tr>\n",
       "  </thead>\n",
       "  <tbody>\n",
       "    <tr>\n",
       "      <th>0</th>\n",
       "      <td>590DV</td>\n",
       "      <td>Data Visualization</td>\n",
       "      <td>Data visualization is crucial to conveying inf...</td>\n",
       "      <td>Matthew Turk</td>\n",
       "      <td></td>\n",
       "      <td>[OTHER, OTHER, CONSUMER_GOOD, OTHER, EVENT, OT...</td>\n",
       "      <td>[topics, python, observations, aspects, visual...</td>\n",
       "    </tr>\n",
       "    <tr>\n",
       "      <th>1</th>\n",
       "      <td>590DW</td>\n",
       "      <td>Data Warehousing and BI</td>\n",
       "      <td>This course examines the construction of a dat...</td>\n",
       "      <td>Michael Wonderlich</td>\n",
       "      <td></td>\n",
       "      <td>[OTHER, OTHER, ORGANIZATION, OTHER, OTHER, OTH...</td>\n",
       "      <td>[aspects, roles, business intelligence system,...</td>\n",
       "    </tr>\n",
       "    <tr>\n",
       "      <th>2</th>\n",
       "      <td>590ED1</td>\n",
       "      <td>Exhibit Design &amp; Installation</td>\n",
       "      <td>This course meets the first 8 weeks of the sem...</td>\n",
       "      <td>Walter Wilson</td>\n",
       "      <td></td>\n",
       "      <td>[OTHER, OTHER, OTHER, EVENT, OTHER, OTHER, OTH...</td>\n",
       "      <td>[nothing, everything, installing, exceptions, ...</td>\n",
       "    </tr>\n",
       "    <tr>\n",
       "      <th>3</th>\n",
       "      <td>590ED2</td>\n",
       "      <td>Exhibit Design &amp; Installation</td>\n",
       "      <td>This course meets the last 8 weeks of the seme...</td>\n",
       "      <td>Walter Wilson</td>\n",
       "      <td></td>\n",
       "      <td>[OTHER, OTHER, OTHER, EVENT, OTHER, OTHER, OTH...</td>\n",
       "      <td>[nothing, everything, installing, exceptions, ...</td>\n",
       "    </tr>\n",
       "    <tr>\n",
       "      <th>4</th>\n",
       "      <td>590ELO</td>\n",
       "      <td>E-Learning</td>\n",
       "      <td>2 or 4 credits: Provides an introduction to a ...</td>\n",
       "      <td>Melissa Wong</td>\n",
       "      <td></td>\n",
       "      <td>[OTHER, OTHER, OTHER, WORK_OF_ART, EVENT, OTHE...</td>\n",
       "      <td>[aspects, e-learning resources, focus, courses...</td>\n",
       "    </tr>\n",
       "  </tbody>\n",
       "</table>\n",
       "</div>"
      ],
      "text/plain": [
       "       ID                           Name  \\\n",
       "0   590DV             Data Visualization   \n",
       "1   590DW        Data Warehousing and BI   \n",
       "2  590ED1  Exhibit Design & Installation   \n",
       "3  590ED2  Exhibit Design & Installation   \n",
       "4  590ELO                     E-Learning   \n",
       "\n",
       "                                         Description          Instructor  \\\n",
       "0  Data visualization is crucial to conveying inf...        Matthew Turk   \n",
       "1  This course examines the construction of a dat...  Michael Wonderlich   \n",
       "2  This course meets the first 8 weeks of the sem...       Walter Wilson   \n",
       "3  This course meets the last 8 weeks of the seme...       Walter Wilson   \n",
       "4  2 or 4 credits: Provides an introduction to a ...        Melissa Wong   \n",
       "\n",
       "  category                                        entity_type  \\\n",
       "0           [OTHER, OTHER, CONSUMER_GOOD, OTHER, EVENT, OT...   \n",
       "1           [OTHER, OTHER, ORGANIZATION, OTHER, OTHER, OTH...   \n",
       "2           [OTHER, OTHER, OTHER, EVENT, OTHER, OTHER, OTH...   \n",
       "3           [OTHER, OTHER, OTHER, EVENT, OTHER, OTHER, OTH...   \n",
       "4           [OTHER, OTHER, OTHER, WORK_OF_ART, EVENT, OTHE...   \n",
       "\n",
       "                                         entity_name  \n",
       "0  [topics, python, observations, aspects, visual...  \n",
       "1  [aspects, roles, business intelligence system,...  \n",
       "2  [nothing, everything, installing, exceptions, ...  \n",
       "3  [nothing, everything, installing, exceptions, ...  \n",
       "4  [aspects, e-learning resources, focus, courses...  "
      ]
     },
     "execution_count": 16,
     "metadata": {},
     "output_type": "execute_result"
    }
   ],
   "source": [
    "data.head()"
   ]
  },
  {
   "cell_type": "code",
   "execution_count": 17,
   "metadata": {
    "collapsed": true
   },
   "outputs": [],
   "source": [
    "cat_keyword = pd.read_csv('../data/category_keyword.csv')\n",
    "#cat_keyword.shape"
   ]
  },
  {
   "cell_type": "code",
   "execution_count": 118,
   "metadata": {
    "collapsed": true
   },
   "outputs": [],
   "source": [
    "cat_keyword = cat_keyword[:-1]\n",
    "#cat_keyword.shape"
   ]
  },
  {
   "cell_type": "code",
   "execution_count": 119,
   "metadata": {
    "collapsed": true
   },
   "outputs": [],
   "source": [
    "#for ids in data[data[\"ID\"] == '202AD1'].index: \n",
    "for ids in data.index: \n",
    "#    entity_name = data.loc[ids][\"entity_name\"]\n",
    "    course_id = data.loc[ids][\"ID\"]\n",
    "    entity_name = set(data.loc[ids][\"entity_name\"])\n",
    "    categories = []\n",
    "    #print(entity_name)\n",
    "    for idx in cat_keyword.index:\n",
    "        \n",
    "        list_words = cat_keyword.loc[idx][\"Keywords\"]\n",
    "        cat_name = cat_keyword.loc[idx][\"Categories\"]\n",
    "        list_words = list_words.lower().strip('')\n",
    "        keywords = list_words.split(',')\n",
    "        \n",
    "        common_words = entity_name.intersection(keywords)\n",
    "        \n",
    "        #print(common_words)\n",
    "        \n",
    "        if list(common_words):\n",
    "            #print(cat_name)\n",
    "            categories.append(cat_name)\n",
    "        #else:\n",
    "        #    print(\"Course {} is not in category: {}\".format(course_id, cat_name))\n",
    "    data.loc[ids][\"category\"] = categories\n",
    "    #print(categories)\n",
    "    #break"
   ]
  },
  {
   "cell_type": "code",
   "execution_count": 120,
   "metadata": {
    "collapsed": true
   },
   "outputs": [],
   "source": [
    "data.to_excel(\"../data/final_dataset.xls\")"
   ]
  },
  {
   "cell_type": "code",
   "execution_count": 121,
   "metadata": {
    "collapsed": true
   },
   "outputs": [],
   "source": [
    "#course_cat = pd.read_csv('../data/desc_category.csv')\n",
    "len(courses)\n",
    "\n",
    "graph_df = pd.DataFrame(data=None, columns=['Source', 'Target','CourseName', 'Source_Course_Instructor','Edges','Weights'])\n",
    "\n"
   ]
  },
  {
   "cell_type": "code",
   "execution_count": 122,
   "metadata": {
    "collapsed": true
   },
   "outputs": [],
   "source": [
    "for i in data.index:\n",
    "    cid1= data.loc[i]['ID']\n",
    "    cname= data.loc[i]['Name']\n",
    "    instructor = data.loc[i]['Instructor']\n",
    "    a = set(data.loc[i][\"category\"])\n",
    "    #a_minus_gen_cat = a.difference(set(gen_cat)) \n",
    "    \n",
    "    for j in range(i+1,len(data) ):\n",
    "        cid2 = data.loc[j]['ID']\n",
    "        \n",
    "        b = set(data.loc[j][\"category\"])\n",
    "        edges = list(a.intersection(b))\n",
    "        \n",
    "        if len(edges) != 0 :\n",
    "            weights = len(edges)\n",
    "            temp= pd.DataFrame([[cid1,cid2,cname,instructor,edges,weights]], columns=graph_df.columns)\n",
    "            graph_df = graph_df.append(temp, ignore_index=True,verify_integrity=False)\n",
    "        #print(temp.columns)\n",
    "    #print(graph_df)\n",
    "    #break\n",
    "        \n",
    "        \n",
    "        "
   ]
  },
  {
   "cell_type": "code",
   "execution_count": 123,
   "metadata": {},
   "outputs": [
    {
     "data": {
      "text/plain": [
       "(5959, 6)"
      ]
     },
     "execution_count": 123,
     "metadata": {},
     "output_type": "execute_result"
    }
   ],
   "source": [
    "graph_df.shape"
   ]
  },
  {
   "cell_type": "code",
   "execution_count": 124,
   "metadata": {
    "collapsed": true
   },
   "outputs": [],
   "source": [
    "### Check for the isolates: \n",
    "course_with_edges = set(graph_df[\"Source\"]).union(set(graph_df[\"Target\"]))\n",
    "#course_with_edges = graph_df[\"Course2\"]\n",
    "unique_courses = set(data['ID'])\n",
    "isolated_courses = unique_courses.difference(course_with_edges)\n",
    "\n",
    "df_isolated = pd.DataFrame(list(isolated_courses), columns=[\"Source\"])"
   ]
  },
  {
   "cell_type": "code",
   "execution_count": 125,
   "metadata": {
    "collapsed": true
   },
   "outputs": [],
   "source": [
    "graph_df = graph_df.append(df_isolated)"
   ]
  },
  {
   "cell_type": "code",
   "execution_count": 126,
   "metadata": {},
   "outputs": [
    {
     "data": {
      "text/plain": [
       "(5970, 6)"
      ]
     },
     "execution_count": 126,
     "metadata": {},
     "output_type": "execute_result"
    }
   ],
   "source": [
    "graph_df.shape"
   ]
  },
  {
   "cell_type": "code",
   "execution_count": 127,
   "metadata": {},
   "outputs": [
    {
     "data": {
      "text/html": [
       "<div>\n",
       "<style>\n",
       "    .dataframe thead tr:only-child th {\n",
       "        text-align: right;\n",
       "    }\n",
       "\n",
       "    .dataframe thead th {\n",
       "        text-align: left;\n",
       "    }\n",
       "\n",
       "    .dataframe tbody tr th {\n",
       "        vertical-align: top;\n",
       "    }\n",
       "</style>\n",
       "<table border=\"1\" class=\"dataframe\">\n",
       "  <thead>\n",
       "    <tr style=\"text-align: right;\">\n",
       "      <th></th>\n",
       "      <th>CourseName</th>\n",
       "      <th>Edges</th>\n",
       "      <th>Source</th>\n",
       "      <th>Source_Course_Instructor</th>\n",
       "      <th>Target</th>\n",
       "      <th>Weights</th>\n",
       "    </tr>\n",
       "  </thead>\n",
       "  <tbody>\n",
       "    <tr>\n",
       "      <th>0</th>\n",
       "      <td>Data Visualization</td>\n",
       "      <td>[Presentation, Information Organization]</td>\n",
       "      <td>590DV</td>\n",
       "      <td>Matthew Turk</td>\n",
       "      <td>590DW</td>\n",
       "      <td>2</td>\n",
       "    </tr>\n",
       "    <tr>\n",
       "      <th>1</th>\n",
       "      <td>Data Visualization</td>\n",
       "      <td>[Presentation]</td>\n",
       "      <td>590DV</td>\n",
       "      <td>Matthew Turk</td>\n",
       "      <td>590ED1</td>\n",
       "      <td>1</td>\n",
       "    </tr>\n",
       "    <tr>\n",
       "      <th>2</th>\n",
       "      <td>Data Visualization</td>\n",
       "      <td>[Presentation]</td>\n",
       "      <td>590DV</td>\n",
       "      <td>Matthew Turk</td>\n",
       "      <td>590ED2</td>\n",
       "      <td>1</td>\n",
       "    </tr>\n",
       "    <tr>\n",
       "      <th>3</th>\n",
       "      <td>Data Visualization</td>\n",
       "      <td>[Teaching, Information Organization]</td>\n",
       "      <td>590DV</td>\n",
       "      <td>Matthew Turk</td>\n",
       "      <td>590ELO</td>\n",
       "      <td>2</td>\n",
       "    </tr>\n",
       "    <tr>\n",
       "      <th>4</th>\n",
       "      <td>Data Visualization</td>\n",
       "      <td>[Tools, Teaching]</td>\n",
       "      <td>590DV</td>\n",
       "      <td>Matthew Turk</td>\n",
       "      <td>590GHG</td>\n",
       "      <td>2</td>\n",
       "    </tr>\n",
       "  </tbody>\n",
       "</table>\n",
       "</div>"
      ],
      "text/plain": [
       "           CourseName                                     Edges Source  \\\n",
       "0  Data Visualization  [Presentation, Information Organization]  590DV   \n",
       "1  Data Visualization                            [Presentation]  590DV   \n",
       "2  Data Visualization                            [Presentation]  590DV   \n",
       "3  Data Visualization      [Teaching, Information Organization]  590DV   \n",
       "4  Data Visualization                         [Tools, Teaching]  590DV   \n",
       "\n",
       "  Source_Course_Instructor  Target Weights  \n",
       "0             Matthew Turk   590DW       2  \n",
       "1             Matthew Turk  590ED1       1  \n",
       "2             Matthew Turk  590ED2       1  \n",
       "3             Matthew Turk  590ELO       2  \n",
       "4             Matthew Turk  590GHG       2  "
      ]
     },
     "execution_count": 127,
     "metadata": {},
     "output_type": "execute_result"
    }
   ],
   "source": [
    "#graph_df.to_excel('../data/graph_final.xls')\n",
    "graph_df.head()"
   ]
  },
  {
   "cell_type": "code",
   "execution_count": 128,
   "metadata": {
    "collapsed": true
   },
   "outputs": [],
   "source": [
    "import networkx as nx \n",
    "import matplotlib.pyplot as plt \n",
    "import pandas as pd\n",
    "\n",
    "%matplotlib inline"
   ]
  },
  {
   "cell_type": "code",
   "execution_count": 129,
   "metadata": {
    "collapsed": true
   },
   "outputs": [],
   "source": [
    "# A= graph_df['Course1'].isin(['590DV'])"
   ]
  },
  {
   "cell_type": "code",
   "execution_count": 130,
   "metadata": {
    "collapsed": true
   },
   "outputs": [],
   "source": [
    "G = nx.from_pandas_dataframe(graph_df ,'Source','Target')"
   ]
  },
  {
   "cell_type": "code",
   "execution_count": 131,
   "metadata": {
    "collapsed": true
   },
   "outputs": [],
   "source": [
    "def dict_to_values(G, dict_data):\n",
    "    return [dict_data[n] for n in G.nodes]"
   ]
  },
  {
   "cell_type": "code",
   "execution_count": 132,
   "metadata": {},
   "outputs": [
    {
     "data": {
      "text/html": [
       "<div>\n",
       "<style>\n",
       "    .dataframe thead tr:only-child th {\n",
       "        text-align: right;\n",
       "    }\n",
       "\n",
       "    .dataframe thead th {\n",
       "        text-align: left;\n",
       "    }\n",
       "\n",
       "    .dataframe tbody tr th {\n",
       "        vertical-align: top;\n",
       "    }\n",
       "</style>\n",
       "<table border=\"1\" class=\"dataframe\">\n",
       "  <thead>\n",
       "    <tr style=\"text-align: right;\">\n",
       "      <th></th>\n",
       "      <th>CourseName</th>\n",
       "      <th>Edges</th>\n",
       "      <th>Source</th>\n",
       "      <th>Source_Course_Instructor</th>\n",
       "      <th>Target</th>\n",
       "      <th>Weights</th>\n",
       "    </tr>\n",
       "  </thead>\n",
       "  <tbody>\n",
       "    <tr>\n",
       "      <th>6</th>\n",
       "      <td>NaN</td>\n",
       "      <td>NaN</td>\n",
       "      <td>202AE1</td>\n",
       "      <td>NaN</td>\n",
       "      <td>NaN</td>\n",
       "      <td>NaN</td>\n",
       "    </tr>\n",
       "    <tr>\n",
       "      <th>7</th>\n",
       "      <td>NaN</td>\n",
       "      <td>NaN</td>\n",
       "      <td>501AL1</td>\n",
       "      <td>NaN</td>\n",
       "      <td>NaN</td>\n",
       "      <td>NaN</td>\n",
       "    </tr>\n",
       "    <tr>\n",
       "      <th>8</th>\n",
       "      <td>NaN</td>\n",
       "      <td>NaN</td>\n",
       "      <td>202AD4</td>\n",
       "      <td>NaN</td>\n",
       "      <td>NaN</td>\n",
       "      <td>NaN</td>\n",
       "    </tr>\n",
       "    <tr>\n",
       "      <th>9</th>\n",
       "      <td>NaN</td>\n",
       "      <td>NaN</td>\n",
       "      <td>202AD5</td>\n",
       "      <td>NaN</td>\n",
       "      <td>NaN</td>\n",
       "      <td>NaN</td>\n",
       "    </tr>\n",
       "    <tr>\n",
       "      <th>10</th>\n",
       "      <td>NaN</td>\n",
       "      <td>NaN</td>\n",
       "      <td>17-18</td>\n",
       "      <td>NaN</td>\n",
       "      <td>NaN</td>\n",
       "      <td>NaN</td>\n",
       "    </tr>\n",
       "  </tbody>\n",
       "</table>\n",
       "</div>"
      ],
      "text/plain": [
       "   CourseName Edges  Source Source_Course_Instructor Target Weights\n",
       "6         NaN   NaN  202AE1                      NaN    NaN     NaN\n",
       "7         NaN   NaN  501AL1                      NaN    NaN     NaN\n",
       "8         NaN   NaN  202AD4                      NaN    NaN     NaN\n",
       "9         NaN   NaN  202AD5                      NaN    NaN     NaN\n",
       "10        NaN   NaN   17-18                      NaN    NaN     NaN"
      ]
     },
     "execution_count": 132,
     "metadata": {},
     "output_type": "execute_result"
    }
   ],
   "source": [
    "graph_df.tail()"
   ]
  },
  {
   "cell_type": "code",
   "execution_count": 133,
   "metadata": {
    "collapsed": true
   },
   "outputs": [],
   "source": [
    "def plot_network(G, node_size_dict, factor=10, **kwargs):\n",
    "    nx.draw(\n",
    "        G, \n",
    "        pos=nx.spring_layout(G),\n",
    "        with_labels=True,\n",
    "        node_size=[v*factor for v in dict_to_values(G, node_size_dict)],\n",
    "        **kwargs\n",
    "    )"
   ]
  },
  {
   "cell_type": "code",
   "execution_count": 134,
   "metadata": {},
   "outputs": [
    {
     "data": {
      "image/png": "[encoded data removed]",
      "text/plain": [
       "<matplotlib.figure.Figure at 0x10cddd048>"
      ]
     },
     "metadata": {},
     "output_type": "display_data"
    }
   ],
   "source": [
    "plot_network(G,nx.degree(G),factor=100,font_size=10, node_color=\"r\", width=.25)\n"
   ]
  },
  {
   "cell_type": "code",
   "execution_count": 135,
   "metadata": {
    "collapsed": true
   },
   "outputs": [],
   "source": [
    "### Centrality Measure\n",
    "from utilities import get_all_node_metrics\n",
    "\n",
    "cent_measure= {'degree': nx.degree(G),\n",
    "               'betweenness': nx.betweenness_centrality(G),\n",
    "               'closeness'  : nx.closeness_centrality(G),\n",
    "               'eigen_vector': nx.eigenvector_centrality(G)\n",
    "              }\n",
    "\n",
    "df_cm = get_all_node_metrics(G)"
   ]
  },
  {
   "cell_type": "code",
   "execution_count": 136,
   "metadata": {},
   "outputs": [
    {
     "data": {
      "text/html": [
       "<div>\n",
       "<style>\n",
       "    .dataframe thead tr:only-child th {\n",
       "        text-align: right;\n",
       "    }\n",
       "\n",
       "    .dataframe thead th {\n",
       "        text-align: left;\n",
       "    }\n",
       "\n",
       "    .dataframe tbody tr th {\n",
       "        vertical-align: top;\n",
       "    }\n",
       "</style>\n",
       "<table border=\"1\" class=\"dataframe\">\n",
       "  <thead>\n",
       "    <tr style=\"text-align: right;\">\n",
       "      <th></th>\n",
       "      <th>degree</th>\n",
       "      <th>betweenness</th>\n",
       "      <th>closeness</th>\n",
       "      <th>eigenvector</th>\n",
       "      <th>clustering</th>\n",
       "    </tr>\n",
       "  </thead>\n",
       "  <tbody>\n",
       "    <tr>\n",
       "      <th>528A</th>\n",
       "      <td>0.863014</td>\n",
       "      <td>0.006441</td>\n",
       "      <td>0.866101</td>\n",
       "      <td>0.111140</td>\n",
       "      <td>0.715556</td>\n",
       "    </tr>\n",
       "    <tr>\n",
       "      <th>502AO2</th>\n",
       "      <td>0.842466</td>\n",
       "      <td>0.005782</td>\n",
       "      <td>0.848181</td>\n",
       "      <td>0.109969</td>\n",
       "      <td>0.734906</td>\n",
       "    </tr>\n",
       "    <tr>\n",
       "      <th>502AO3</th>\n",
       "      <td>0.842466</td>\n",
       "      <td>0.005782</td>\n",
       "      <td>0.848181</td>\n",
       "      <td>0.109969</td>\n",
       "      <td>0.734906</td>\n",
       "    </tr>\n",
       "    <tr>\n",
       "      <th>502AO</th>\n",
       "      <td>0.842466</td>\n",
       "      <td>0.005782</td>\n",
       "      <td>0.848181</td>\n",
       "      <td>0.109969</td>\n",
       "      <td>0.734906</td>\n",
       "    </tr>\n",
       "    <tr>\n",
       "      <th>502A</th>\n",
       "      <td>0.842466</td>\n",
       "      <td>0.005782</td>\n",
       "      <td>0.848181</td>\n",
       "      <td>0.109969</td>\n",
       "      <td>0.734906</td>\n",
       "    </tr>\n",
       "    <tr>\n",
       "      <th>490TEO</th>\n",
       "      <td>0.842466</td>\n",
       "      <td>0.004359</td>\n",
       "      <td>0.848181</td>\n",
       "      <td>0.110712</td>\n",
       "      <td>0.745302</td>\n",
       "    </tr>\n",
       "    <tr>\n",
       "      <th>502C</th>\n",
       "      <td>0.842466</td>\n",
       "      <td>0.005782</td>\n",
       "      <td>0.848181</td>\n",
       "      <td>0.109969</td>\n",
       "      <td>0.734906</td>\n",
       "    </tr>\n",
       "    <tr>\n",
       "      <th>502B</th>\n",
       "      <td>0.842466</td>\n",
       "      <td>0.005782</td>\n",
       "      <td>0.848181</td>\n",
       "      <td>0.109969</td>\n",
       "      <td>0.734906</td>\n",
       "    </tr>\n",
       "    <tr>\n",
       "      <th>567AO</th>\n",
       "      <td>0.835616</td>\n",
       "      <td>0.005507</td>\n",
       "      <td>0.842372</td>\n",
       "      <td>0.109558</td>\n",
       "      <td>0.741769</td>\n",
       "    </tr>\n",
       "    <tr>\n",
       "      <th>490GHU</th>\n",
       "      <td>0.828767</td>\n",
       "      <td>0.009340</td>\n",
       "      <td>0.836642</td>\n",
       "      <td>0.109409</td>\n",
       "      <td>0.752342</td>\n",
       "    </tr>\n",
       "  </tbody>\n",
       "</table>\n",
       "</div>"
      ],
      "text/plain": [
       "          degree  betweenness  closeness  eigenvector  clustering\n",
       "528A    0.863014     0.006441   0.866101     0.111140    0.715556\n",
       "502AO2  0.842466     0.005782   0.848181     0.109969    0.734906\n",
       "502AO3  0.842466     0.005782   0.848181     0.109969    0.734906\n",
       "502AO   0.842466     0.005782   0.848181     0.109969    0.734906\n",
       "502A    0.842466     0.005782   0.848181     0.109969    0.734906\n",
       "490TEO  0.842466     0.004359   0.848181     0.110712    0.745302\n",
       "502C    0.842466     0.005782   0.848181     0.109969    0.734906\n",
       "502B    0.842466     0.005782   0.848181     0.109969    0.734906\n",
       "567AO   0.835616     0.005507   0.842372     0.109558    0.741769\n",
       "490GHU  0.828767     0.009340   0.836642     0.109409    0.752342"
      ]
     },
     "execution_count": 136,
     "metadata": {},
     "output_type": "execute_result"
    }
   ],
   "source": [
    "df_cm.sort_values(by=['degree'],ascending=False).head(10)"
   ]
  },
  {
   "cell_type": "code",
   "execution_count": 137,
   "metadata": {},
   "outputs": [
    {
     "data": {
      "text/html": [
       "<div>\n",
       "<style>\n",
       "    .dataframe thead tr:only-child th {\n",
       "        text-align: right;\n",
       "    }\n",
       "\n",
       "    .dataframe thead th {\n",
       "        text-align: left;\n",
       "    }\n",
       "\n",
       "    .dataframe tbody tr th {\n",
       "        vertical-align: top;\n",
       "    }\n",
       "</style>\n",
       "<table border=\"1\" class=\"dataframe\">\n",
       "  <thead>\n",
       "    <tr style=\"text-align: right;\">\n",
       "      <th></th>\n",
       "      <th>degree</th>\n",
       "      <th>betweenness</th>\n",
       "      <th>closeness</th>\n",
       "      <th>eigenvector</th>\n",
       "      <th>clustering</th>\n",
       "    </tr>\n",
       "  </thead>\n",
       "  <tbody>\n",
       "    <tr>\n",
       "      <th>17-18</th>\n",
       "      <td>0.006849</td>\n",
       "      <td>0.0</td>\n",
       "      <td>0.039465</td>\n",
       "      <td>1.859785e-11</td>\n",
       "      <td>0.0</td>\n",
       "    </tr>\n",
       "    <tr>\n",
       "      <th>202AD4</th>\n",
       "      <td>0.006849</td>\n",
       "      <td>0.0</td>\n",
       "      <td>0.039465</td>\n",
       "      <td>1.859785e-11</td>\n",
       "      <td>0.0</td>\n",
       "    </tr>\n",
       "    <tr>\n",
       "      <th>202AD5</th>\n",
       "      <td>0.006849</td>\n",
       "      <td>0.0</td>\n",
       "      <td>0.039465</td>\n",
       "      <td>1.859785e-11</td>\n",
       "      <td>0.0</td>\n",
       "    </tr>\n",
       "    <tr>\n",
       "      <th>501AL1</th>\n",
       "      <td>0.006849</td>\n",
       "      <td>0.0</td>\n",
       "      <td>0.039465</td>\n",
       "      <td>1.859785e-11</td>\n",
       "      <td>0.0</td>\n",
       "    </tr>\n",
       "    <tr>\n",
       "      <th>202AD1</th>\n",
       "      <td>0.006849</td>\n",
       "      <td>0.0</td>\n",
       "      <td>0.039465</td>\n",
       "      <td>1.859785e-11</td>\n",
       "      <td>0.0</td>\n",
       "    </tr>\n",
       "    <tr>\n",
       "      <th>202AE1</th>\n",
       "      <td>0.006849</td>\n",
       "      <td>0.0</td>\n",
       "      <td>0.039465</td>\n",
       "      <td>1.859785e-11</td>\n",
       "      <td>0.0</td>\n",
       "    </tr>\n",
       "    <tr>\n",
       "      <th>202AD3</th>\n",
       "      <td>0.006849</td>\n",
       "      <td>0.0</td>\n",
       "      <td>0.039465</td>\n",
       "      <td>1.859785e-11</td>\n",
       "      <td>0.0</td>\n",
       "    </tr>\n",
       "    <tr>\n",
       "      <th>202AD2</th>\n",
       "      <td>0.006849</td>\n",
       "      <td>0.0</td>\n",
       "      <td>0.039465</td>\n",
       "      <td>1.859785e-11</td>\n",
       "      <td>0.0</td>\n",
       "    </tr>\n",
       "    <tr>\n",
       "      <th>202AD6</th>\n",
       "      <td>0.006849</td>\n",
       "      <td>0.0</td>\n",
       "      <td>0.039465</td>\n",
       "      <td>1.859785e-11</td>\n",
       "      <td>0.0</td>\n",
       "    </tr>\n",
       "    <tr>\n",
       "      <th>483A</th>\n",
       "      <td>0.006849</td>\n",
       "      <td>0.0</td>\n",
       "      <td>0.039465</td>\n",
       "      <td>1.859785e-11</td>\n",
       "      <td>0.0</td>\n",
       "    </tr>\n",
       "  </tbody>\n",
       "</table>\n",
       "</div>"
      ],
      "text/plain": [
       "          degree  betweenness  closeness   eigenvector  clustering\n",
       "17-18   0.006849          0.0   0.039465  1.859785e-11         0.0\n",
       "202AD4  0.006849          0.0   0.039465  1.859785e-11         0.0\n",
       "202AD5  0.006849          0.0   0.039465  1.859785e-11         0.0\n",
       "501AL1  0.006849          0.0   0.039465  1.859785e-11         0.0\n",
       "202AD1  0.006849          0.0   0.039465  1.859785e-11         0.0\n",
       "202AE1  0.006849          0.0   0.039465  1.859785e-11         0.0\n",
       "202AD3  0.006849          0.0   0.039465  1.859785e-11         0.0\n",
       "202AD2  0.006849          0.0   0.039465  1.859785e-11         0.0\n",
       "202AD6  0.006849          0.0   0.039465  1.859785e-11         0.0\n",
       "483A    0.006849          0.0   0.039465  1.859785e-11         0.0"
      ]
     },
     "execution_count": 137,
     "metadata": {},
     "output_type": "execute_result"
    }
   ],
   "source": [
    "df_cm.sort_values(by=['degree'],ascending=True).head(10)"
   ]
  },
  {
   "cell_type": "code",
   "execution_count": 138,
   "metadata": {},
   "outputs": [
    {
     "name": "stdout",
     "output_type": "stream",
     "text": [
      "Name: \n",
      "Type: Graph\n",
      "Number of nodes: 147\n",
      "Number of edges: 5970\n",
      "Average degree:  81.2245\n"
     ]
    }
   ],
   "source": [
    "print(nx.info(G))"
   ]
  },
  {
   "cell_type": "code",
   "execution_count": 139,
   "metadata": {
    "collapsed": true
   },
   "outputs": [],
   "source": [
    "graph_df.to_csv(\"../data/graph_df.csv\")"
   ]
  },
  {
   "cell_type": "code",
   "execution_count": 140,
   "metadata": {
    "collapsed": true
   },
   "outputs": [],
   "source": [
    "top_10_degree_based_course = df_cm.sort_values(by=['degree'],ascending=False).head(10).index"
   ]
  },
  {
   "cell_type": "code",
   "execution_count": 141,
   "metadata": {
    "collapsed": true
   },
   "outputs": [],
   "source": [
    "G_top_10_degree = G = nx.from_pandas_dataframe(graph_df[graph_df['Source'].isin(top_10_degree_based_course)] ,'Source','Target')"
   ]
  },
  {
   "cell_type": "code",
   "execution_count": 142,
   "metadata": {},
   "outputs": [
    {
     "data": {
      "image/png": "[encoded data removed]",
      "text/plain": [
       "<matplotlib.figure.Figure at 0x151755c5f8>"
      ]
     },
     "metadata": {},
     "output_type": "display_data"
    }
   ],
   "source": [
    "plot_network(G_top_10_degree,nx.degree(G_top_10_degree),factor=100,font_size=10, node_color=\"r\", width=.25)\n",
    "\n",
    "\n"
   ]
  },
  {
   "cell_type": "code",
   "execution_count": null,
   "metadata": {
    "collapsed": true
   },
   "outputs": [],
   "source": []
  }
 ],
 "metadata": {
  "kernelspec": {
   "display_name": "Python 3",
   "language": "python",
   "name": "python3"
  },
  "language_info": {
   "codemirror_mode": {
    "name": "ipython",
    "version": 3
   },
   "file_extension": ".py",
   "mimetype": "text/x-python",
   "name": "python",
   "nbconvert_exporter": "python",
   "pygments_lexer": "ipython3",
   "version": "3.6.3"
  }
 },
 "nbformat": 4,
 "nbformat_minor": 2
}
