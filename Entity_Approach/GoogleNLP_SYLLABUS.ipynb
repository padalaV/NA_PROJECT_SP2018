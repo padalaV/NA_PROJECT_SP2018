{
 "cells": [
  {
   "cell_type": "code",
   "execution_count": 1,
   "metadata": {
    "collapsed": true
   },
   "outputs": [],
   "source": [
    "# Imports the Google Cloud client library\n",
    "from google.cloud import language\n",
    "from google.cloud.language import enums\n",
    "from google.cloud.language import types\n",
    "import pandas as pd \n",
    "import six\n"
   ]
  },
  {
   "cell_type": "code",
   "execution_count": 2,
   "metadata": {},
   "outputs": [
    {
     "name": "stdout",
     "output_type": "stream",
     "text": [
      "Text: Hello, world!\n",
      "Sentiment: 0.30000001192092896, 0.30000001192092896\n"
     ]
    }
   ],
   "source": [
    "# Instantiates a client\n",
    "client = language.LanguageServiceClient()\n",
    "\n",
    "# The text to analyze\n",
    "text = u'Hello, world!'\n",
    "document = types.Document(\n",
    "    content=text,\n",
    "    type=enums.Document.Type.PLAIN_TEXT)\n",
    "\n",
    "# Detects the sentiment of the text\n",
    "sentiment = client.analyze_sentiment(document=document).document_sentiment\n",
    "\n",
    "print('Text: {}'.format(text))\n",
    "print('Sentiment: {}, {}'.format(sentiment.score, sentiment.magnitude))"
   ]
  },
  {
   "cell_type": "code",
   "execution_count": 3,
   "metadata": {},
   "outputs": [
    {
     "data": {
      "text/plain": [
       "'    \\n    #print(type(categories))\\n    if  type(categories) == \"google.protobuf.pyext._message.RepeatedCompositeContainer\" :\\n        for category in categories:\\n            print(category[\\'name\\'])\\n'"
      ]
     },
     "execution_count": 3,
     "metadata": {},
     "output_type": "execute_result"
    }
   ],
   "source": [
    "def category_text(text):\n",
    "    \"\"\"Classifies content categories of the provided text.\"\"\"\n",
    "    client = language.LanguageServiceClient()\n",
    "\n",
    "    if isinstance(text, six.binary_type):\n",
    "        text = text.decode('utf-8')\n",
    "    \n",
    "    #print(type(text.encode('utf-8')))\n",
    "    document = types.Document(\n",
    "        content=text.encode('utf-8'),\n",
    "        type=enums.Document.Type.PLAIN_TEXT)\n",
    "    \n",
    "    try: \n",
    "        categories = client.classify_text(document).categories\n",
    "    except:\n",
    "        categories = []\n",
    "    \n",
    "    return categories\n",
    "'''    \n",
    "    #print(type(categories))\n",
    "    if  type(categories) == \"google.protobuf.pyext._message.RepeatedCompositeContainer\" :\n",
    "        for category in categories:\n",
    "            print(category['name'])\n",
    "'''    \n",
    "    "
   ]
  },
  {
   "cell_type": "code",
   "execution_count": 4,
   "metadata": {
    "collapsed": true
   },
   "outputs": [],
   "source": [
    "def entities_text(text):\n",
    "    \"\"\"Detects entities in the text.\"\"\"\n",
    "    client = language.LanguageServiceClient()\n",
    "\n",
    "    if isinstance(text, six.binary_type):\n",
    "        text = text.decode('utf-8')\n",
    "\n",
    "    # Instantiates a plain text document.\n",
    "    document = types.Document(\n",
    "        content=text,\n",
    "        type=enums.Document.Type.PLAIN_TEXT)\n",
    "\n",
    "    # Detects entities in the document. You can also analyze HTML with:\n",
    "    #   document.type == enums.Document.Type.HTML\n",
    "    entities = client.analyze_entities(document).entities\n",
    "\n",
    "    # entity types from enums.Entity.Type\n",
    "    entity_type = ('UNKNOWN', 'PERSON', 'LOCATION', 'ORGANIZATION',\n",
    "                   'EVENT', 'WORK_OF_ART', 'CONSUMER_GOOD', 'OTHER')\n",
    "    '''\n",
    "    for entity in entities:\n",
    "        print('=' * 20)\n",
    "        print(u'{:<16}: {}'.format('name', entity.name))\n",
    "        print(u'{:<16}: {}'.format('type', entity_type[entity.type]))\n",
    "        print(u'{:<16}: {}'.format('metadata', entity.metadata))\n",
    "        print(u'{:<16}: {}'.format('salience', entity.salience))\n",
    "        print(u'{:<16}: {}'.format('wikipedia_url',\n",
    "              entity.metadata.get('wikipedia_url', '-')))\n",
    "    '''\n",
    "    return entities"
   ]
  },
  {
   "cell_type": "code",
   "execution_count": 18,
   "metadata": {},
   "outputs": [
    {
     "data": {
      "text/html": [
       "<div>\n",
       "<style>\n",
       "    .dataframe thead tr:only-child th {\n",
       "        text-align: right;\n",
       "    }\n",
       "\n",
       "    .dataframe thead th {\n",
       "        text-align: left;\n",
       "    }\n",
       "\n",
       "    .dataframe tbody tr th {\n",
       "        vertical-align: top;\n",
       "    }\n",
       "</style>\n",
       "<table border=\"1\" class=\"dataframe\">\n",
       "  <thead>\n",
       "    <tr style=\"text-align: right;\">\n",
       "      <th></th>\n",
       "      <th>ID</th>\n",
       "      <th>Name</th>\n",
       "      <th>Description</th>\n",
       "      <th>Instructor</th>\n",
       "      <th>category</th>\n",
       "      <th>entity_type</th>\n",
       "      <th>entity_name</th>\n",
       "    </tr>\n",
       "  </thead>\n",
       "  <tbody>\n",
       "    <tr>\n",
       "      <th>0</th>\n",
       "      <td>590DV</td>\n",
       "      <td>Data Visualization</td>\n",
       "      <td>Data visualization is crucial to conveying inf...</td>\n",
       "      <td>Matthew Turk</td>\n",
       "      <td></td>\n",
       "      <td></td>\n",
       "      <td></td>\n",
       "    </tr>\n",
       "    <tr>\n",
       "      <th>1</th>\n",
       "      <td>590DW</td>\n",
       "      <td>Data Warehousing and BI</td>\n",
       "      <td>This course examines the construction of a dat...</td>\n",
       "      <td>Michael Wonderlich</td>\n",
       "      <td></td>\n",
       "      <td></td>\n",
       "      <td></td>\n",
       "    </tr>\n",
       "    <tr>\n",
       "      <th>2</th>\n",
       "      <td>590ED1</td>\n",
       "      <td>Exhibit Design &amp; Installation</td>\n",
       "      <td>This course meets the first 8 weeks of the sem...</td>\n",
       "      <td>Walter Wilson</td>\n",
       "      <td></td>\n",
       "      <td></td>\n",
       "      <td></td>\n",
       "    </tr>\n",
       "    <tr>\n",
       "      <th>3</th>\n",
       "      <td>590ED2</td>\n",
       "      <td>Exhibit Design &amp; Installation</td>\n",
       "      <td>This course meets the last 8 weeks of the seme...</td>\n",
       "      <td>Walter Wilson</td>\n",
       "      <td></td>\n",
       "      <td></td>\n",
       "      <td></td>\n",
       "    </tr>\n",
       "    <tr>\n",
       "      <th>4</th>\n",
       "      <td>590ELO</td>\n",
       "      <td>E-Learning</td>\n",
       "      <td>2 or 4 credits: Provides an introduction to a ...</td>\n",
       "      <td>Melissa Wong</td>\n",
       "      <td></td>\n",
       "      <td></td>\n",
       "      <td></td>\n",
       "    </tr>\n",
       "  </tbody>\n",
       "</table>\n",
       "</div>"
      ],
      "text/plain": [
       "       ID                           Name  \\\n",
       "0   590DV             Data Visualization   \n",
       "1   590DW        Data Warehousing and BI   \n",
       "2  590ED1  Exhibit Design & Installation   \n",
       "3  590ED2  Exhibit Design & Installation   \n",
       "4  590ELO                     E-Learning   \n",
       "\n",
       "                                         Description          Instructor  \\\n",
       "0  Data visualization is crucial to conveying inf...        Matthew Turk   \n",
       "1  This course examines the construction of a dat...  Michael Wonderlich   \n",
       "2  This course meets the first 8 weeks of the sem...       Walter Wilson   \n",
       "3  This course meets the last 8 weeks of the seme...       Walter Wilson   \n",
       "4  2 or 4 credits: Provides an introduction to a ...        Melissa Wong   \n",
       "\n",
       "  category entity_type entity_name  \n",
       "0                                   \n",
       "1                                   \n",
       "2                                   \n",
       "3                                   \n",
       "4                                   "
      ]
     },
     "execution_count": 18,
     "metadata": {},
     "output_type": "execute_result"
    }
   ],
   "source": [
    "courses = pd.read_csv(\"../data/data.csv\", engine='python')\n",
    "#courses.set_index('ID', inplace=True)\n",
    "courses['category'] =''\n",
    "courses['entity_type'] =''\n",
    "courses['entity_name'] =''\n",
    "courses.head()"
   ]
  },
  {
   "cell_type": "code",
   "execution_count": 19,
   "metadata": {
    "collapsed": true
   },
   "outputs": [],
   "source": [
    "def get_category_list(text_data):\n",
    "    category=category_text(text_data)\n",
    "    category_list =[]\n",
    "    \n",
    "    #print(category)\n",
    "        \n",
    "    for cat in category:\n",
    "        #if cat.confidence > 0.50:\n",
    "        category_list.append(cat.name)\n",
    "    \n",
    "    return category_list\n",
    "    \n",
    "    "
   ]
  },
  {
   "cell_type": "code",
   "execution_count": 20,
   "metadata": {
    "collapsed": true
   },
   "outputs": [],
   "source": [
    "def get_entity_list(text_data):\n",
    "    entities=entities_text(text_data)\n",
    "    entities_list =[]\n",
    "    entity_type = []\n",
    "    #print(category)\n",
    "    \n",
    "    # entity types from enums.Entity.Type\n",
    "    entity_enum= ('UNKNOWN', 'PERSON', 'LOCATION', 'ORGANIZATION',\n",
    "                   'EVENT', 'WORK_OF_ART', 'CONSUMER_GOOD', 'OTHER')    \n",
    "    for entity in entities:\n",
    "        #if cat.confidence > 0.50:\n",
    "        entities_list.append(entity.name)\n",
    "        #print(entity_enum[entity.type])\n",
    "        entity_type.append(entity_enum[entity.type])\n",
    "    return entities_list, entity_type"
   ]
  },
  {
   "cell_type": "code",
   "execution_count": 21,
   "metadata": {
    "collapsed": true
   },
   "outputs": [],
   "source": [
    "#get_entity_list(courses[\"Description\"][0])"
   ]
  },
  {
   "cell_type": "code",
   "execution_count": 22,
   "metadata": {
    "collapsed": true
   },
   "outputs": [],
   "source": [
    "for i in courses.index:\n",
    "    desc = courses.loc[i]['Description']\n",
    "    #print(desc)\n",
    "    cat_list = get_category_list(desc)\n",
    "    ent_list,ent_type = get_entity_list(desc)\n",
    "    #print(cat_list)\n",
    "    courses.loc[i]['category'] = cat_list\n",
    "    courses.loc[i]['entity_type'] = ent_type\n",
    "    courses.loc[i]['entity_name'] = ent_list\n",
    "    "
   ]
  },
  {
   "cell_type": "code",
   "execution_count": 23,
   "metadata": {
    "collapsed": true
   },
   "outputs": [],
   "source": [
    "#courses"
   ]
  },
  {
   "cell_type": "code",
   "execution_count": null,
   "metadata": {
    "collapsed": true
   },
   "outputs": [],
   "source": [
    "courses.to_csv('../data/syllabus_category.csv')"
   ]
  },
  {
   "cell_type": "code",
   "execution_count": 24,
   "metadata": {
    "collapsed": true
   },
   "outputs": [],
   "source": [
    "courses_cat = courses \n",
    "new_df = courses"
   ]
  },
  {
   "cell_type": "code",
   "execution_count": 25,
   "metadata": {
    "collapsed": true
   },
   "outputs": [],
   "source": [
    "gen_cat = ['Course Information','Class Schedule Information', 'fee', 'fees','Meets','students','Laptop','data','text'\n",
    "           ,'libraries','Focuses','introduction' ,'Prerequisite','information',\n",
    "           'Consideration', 'settings', 'responsibilities', 'Class materials fee','credit',\n",
    "           'credits','Class Schedule.','field trip fee','course','others','INFO','topics courses',\n",
    "           'INFO 491','CPSC 491','standing','project', 'use','uses','people','selection',\n",
    "          'AU','needs', 'interests','outreach','overview','practice','content','portion',\n",
    "          'curriculum','parts','look','part','sections','Students','projects','software', 'Variety', 'perspective', 'course materials fee',\n",
    "          'understanding']"
   ]
  },
  {
   "cell_type": "code",
   "execution_count": 26,
   "metadata": {
    "collapsed": true
   },
   "outputs": [],
   "source": [
    "for ind in courses.index:\n",
    "    ent_list = courses.loc[ind][\"entity_name\"]\n",
    "    new_list = []\n",
    "    for e in ent_list:\n",
    "        if e not in gen_cat:\n",
    "            new_list.append(e)\n",
    "    new_df.loc[ind]['entity_name'] = new_list\n",
    "    #print(new_list)"
   ]
  },
  {
   "cell_type": "code",
   "execution_count": 27,
   "metadata": {
    "collapsed": true
   },
   "outputs": [],
   "source": [
    "#course_cat = pd.read_csv('../data/desc_category.csv')\n",
    "len(courses)\n",
    "\n",
    "graph_df = pd.DataFrame(data=None, columns=['Course1', 'Course2','Common Entities'])\n",
    "\n"
   ]
  },
  {
   "cell_type": "code",
   "execution_count": 28,
   "metadata": {},
   "outputs": [
    {
     "data": {
      "text/html": [
       "<div>\n",
       "<style>\n",
       "    .dataframe thead tr:only-child th {\n",
       "        text-align: right;\n",
       "    }\n",
       "\n",
       "    .dataframe thead th {\n",
       "        text-align: left;\n",
       "    }\n",
       "\n",
       "    .dataframe tbody tr th {\n",
       "        vertical-align: top;\n",
       "    }\n",
       "</style>\n",
       "<table border=\"1\" class=\"dataframe\">\n",
       "  <thead>\n",
       "    <tr style=\"text-align: right;\">\n",
       "      <th></th>\n",
       "      <th>ID</th>\n",
       "      <th>Name</th>\n",
       "      <th>Description</th>\n",
       "      <th>Instructor</th>\n",
       "      <th>category</th>\n",
       "      <th>entity_type</th>\n",
       "      <th>entity_name</th>\n",
       "    </tr>\n",
       "  </thead>\n",
       "  <tbody>\n",
       "    <tr>\n",
       "      <th>0</th>\n",
       "      <td>590DV</td>\n",
       "      <td>Data Visualization</td>\n",
       "      <td>Data visualization is crucial to conveying inf...</td>\n",
       "      <td>Matthew Turk</td>\n",
       "      <td>[/Computers &amp; Electronics/Enterprise Technology]</td>\n",
       "      <td>[OTHER, OTHER, CONSUMER_GOOD, OTHER, EVENT, OT...</td>\n",
       "      <td>[Data visualization, models, observations, inv...</td>\n",
       "    </tr>\n",
       "    <tr>\n",
       "      <th>1</th>\n",
       "      <td>590DW</td>\n",
       "      <td>Data Warehousing and BI</td>\n",
       "      <td>This course examines the construction of a dat...</td>\n",
       "      <td>Michael Wonderlich</td>\n",
       "      <td>[/Jobs &amp; Education/Education, /Business &amp; Indu...</td>\n",
       "      <td>[OTHER, OTHER, ORGANIZATION, OTHER, OTHER, OTH...</td>\n",
       "      <td>[business intelligence system, data warehouse,...</td>\n",
       "    </tr>\n",
       "    <tr>\n",
       "      <th>2</th>\n",
       "      <td>590ED1</td>\n",
       "      <td>Exhibit Design &amp; Installation</td>\n",
       "      <td>This course meets the first 8 weeks of the sem...</td>\n",
       "      <td>Walter Wilson</td>\n",
       "      <td>[/Jobs &amp; Education/Education, /Arts &amp; Entertai...</td>\n",
       "      <td>[OTHER, OTHER, OTHER, EVENT, OTHER, OTHER, OTH...</td>\n",
       "      <td>[idea, culmination, exhibition, planning, show...</td>\n",
       "    </tr>\n",
       "    <tr>\n",
       "      <th>3</th>\n",
       "      <td>590ED2</td>\n",
       "      <td>Exhibit Design &amp; Installation</td>\n",
       "      <td>This course meets the last 8 weeks of the seme...</td>\n",
       "      <td>Walter Wilson</td>\n",
       "      <td>[/Jobs &amp; Education/Education, /Arts &amp; Entertai...</td>\n",
       "      <td>[OTHER, OTHER, OTHER, EVENT, OTHER, OTHER, OTH...</td>\n",
       "      <td>[idea, culmination, exhibition, planning, show...</td>\n",
       "    </tr>\n",
       "    <tr>\n",
       "      <th>4</th>\n",
       "      <td>590ELO</td>\n",
       "      <td>E-Learning</td>\n",
       "      <td>2 or 4 credits: Provides an introduction to a ...</td>\n",
       "      <td>Melissa Wong</td>\n",
       "      <td>[/Jobs &amp; Education/Education]</td>\n",
       "      <td>[OTHER, OTHER, OTHER, WORK_OF_ART, EVENT, OTHE...</td>\n",
       "      <td>[variety, learning methods, videos, courses, m...</td>\n",
       "    </tr>\n",
       "  </tbody>\n",
       "</table>\n",
       "</div>"
      ],
      "text/plain": [
       "       ID                           Name  \\\n",
       "0   590DV             Data Visualization   \n",
       "1   590DW        Data Warehousing and BI   \n",
       "2  590ED1  Exhibit Design & Installation   \n",
       "3  590ED2  Exhibit Design & Installation   \n",
       "4  590ELO                     E-Learning   \n",
       "\n",
       "                                         Description          Instructor  \\\n",
       "0  Data visualization is crucial to conveying inf...        Matthew Turk   \n",
       "1  This course examines the construction of a dat...  Michael Wonderlich   \n",
       "2  This course meets the first 8 weeks of the sem...       Walter Wilson   \n",
       "3  This course meets the last 8 weeks of the seme...       Walter Wilson   \n",
       "4  2 or 4 credits: Provides an introduction to a ...        Melissa Wong   \n",
       "\n",
       "                                            category  \\\n",
       "0   [/Computers & Electronics/Enterprise Technology]   \n",
       "1  [/Jobs & Education/Education, /Business & Indu...   \n",
       "2  [/Jobs & Education/Education, /Arts & Entertai...   \n",
       "3  [/Jobs & Education/Education, /Arts & Entertai...   \n",
       "4                      [/Jobs & Education/Education]   \n",
       "\n",
       "                                         entity_type  \\\n",
       "0  [OTHER, OTHER, CONSUMER_GOOD, OTHER, EVENT, OT...   \n",
       "1  [OTHER, OTHER, ORGANIZATION, OTHER, OTHER, OTH...   \n",
       "2  [OTHER, OTHER, OTHER, EVENT, OTHER, OTHER, OTH...   \n",
       "3  [OTHER, OTHER, OTHER, EVENT, OTHER, OTHER, OTH...   \n",
       "4  [OTHER, OTHER, OTHER, WORK_OF_ART, EVENT, OTHE...   \n",
       "\n",
       "                                         entity_name  \n",
       "0  [Data visualization, models, observations, inv...  \n",
       "1  [business intelligence system, data warehouse,...  \n",
       "2  [idea, culmination, exhibition, planning, show...  \n",
       "3  [idea, culmination, exhibition, planning, show...  \n",
       "4  [variety, learning methods, videos, courses, m...  "
      ]
     },
     "execution_count": 28,
     "metadata": {},
     "output_type": "execute_result"
    }
   ],
   "source": [
    "new_df.head()"
   ]
  },
  {
   "cell_type": "code",
   "execution_count": 29,
   "metadata": {
    "collapsed": true
   },
   "outputs": [],
   "source": [
    "for i in courses.index:\n",
    "    cid1= new_df.loc[i]['ID']\n",
    "    a = set(new_df.loc[i][\"entity_name\"])\n",
    "    a_minus_gen_cat = a.difference(set(gen_cat))\n",
    "    \n",
    "    \n",
    "    for j in range(i+1,len(courses) ):\n",
    "        cid2 = new_df.loc[j]['ID']\n",
    "        \n",
    "        b = set(new_df.loc[j][\"entity_name\"])\n",
    "        common = a_minus_gen_cat.intersection(b)\n",
    "        if len(list(common)) != 0 :\n",
    "            temp= pd.DataFrame([[cid1,cid2,list(common)]], columns=graph_df.columns)\n",
    "            graph_df = graph_df.append(temp, ignore_index=True,verify_integrity=False)\n",
    "        #print(temp.columns)\n",
    "    #print(graph_df)\n",
    "    #break\n",
    "        \n",
    "        \n",
    "        "
   ]
  },
  {
   "cell_type": "code",
   "execution_count": 31,
   "metadata": {
    "collapsed": true
   },
   "outputs": [],
   "source": [
    "graph_df\n",
    "graph_df.to_csv('pure_desc.csv')"
   ]
  },
  {
   "cell_type": "code",
   "execution_count": 17,
   "metadata": {
    "collapsed": true
   },
   "outputs": [],
   "source": [
    "graph_df.to_csv('Graph_syllabus.csv')"
   ]
  },
  {
   "cell_type": "code",
   "execution_count": null,
   "metadata": {
    "collapsed": true
   },
   "outputs": [],
   "source": [
    "import networkx as nx \n",
    "import matplotlib.pyplot as plt \n",
    "import pandas as pd\n",
    "import numpy as np \n",
    "\n",
    "%matplotlib inline"
   ]
  },
  {
   "cell_type": "code",
   "execution_count": null,
   "metadata": {
    "collapsed": true
   },
   "outputs": [],
   "source": [
    "rand_idx = np.random.randint(0,len(graph_df),size=10)\n",
    "rand_idx"
   ]
  },
  {
   "cell_type": "code",
   "execution_count": null,
   "metadata": {
    "collapsed": true
   },
   "outputs": [],
   "source": [
    "#A = graph_df['Course2'].isin(['490DB','490DT','590DV'])\n",
    "A=graph_df.loc[rand_idx]"
   ]
  },
  {
   "cell_type": "code",
   "execution_count": null,
   "metadata": {
    "collapsed": true
   },
   "outputs": [],
   "source": [
    "#G = nx.from_pandas_dataframe(graph_df[A] ,'Course1','Course2')\n",
    "G = nx.from_pandas_dataframe(graph_df ,'Course1','Course2')"
   ]
  },
  {
   "cell_type": "code",
   "execution_count": null,
   "metadata": {
    "collapsed": true
   },
   "outputs": [],
   "source": [
    "def dict_to_values(G, dict_data):\n",
    "    return [dict_data[n] for n in G.nodes]"
   ]
  },
  {
   "cell_type": "code",
   "execution_count": null,
   "metadata": {
    "collapsed": true
   },
   "outputs": [],
   "source": [
    "graph_df.head()"
   ]
  },
  {
   "cell_type": "code",
   "execution_count": null,
   "metadata": {
    "collapsed": true
   },
   "outputs": [],
   "source": [
    "def plot_network(G, node_size_dict, factor=10, **kwargs):\n",
    "    nx.draw(\n",
    "        G, \n",
    "        pos=nx.spring_layout(G, k=0.1, scale=10),\n",
    "        with_labels=True,\n",
    "        node_size=[v*factor for v in dict_to_values(G, node_size_dict)],\n",
    "        **kwargs\n",
    "    )"
   ]
  },
  {
   "cell_type": "code",
   "execution_count": null,
   "metadata": {
    "collapsed": true
   },
   "outputs": [],
   "source": [
    "plot_network(G,nx.degree(G),factor=10,font_size=10, node_color=\"r\", width=.25)\n"
   ]
  },
  {
   "cell_type": "code",
   "execution_count": null,
   "metadata": {
    "collapsed": true
   },
   "outputs": [],
   "source": [
    "### Centrality Measure\n",
    "from utilities import get_all_node_metrics\n",
    "\n",
    "cent_measure= {'degree': nx.degree(G),\n",
    "               'betweenness': nx.betweenness_centrality(G),\n",
    "               'closeness'  : nx.closeness_centrality(G)\n",
    "              }\n",
    "\n",
    "df_cm = get_all_node_metrics(G)"
   ]
  },
  {
   "cell_type": "code",
   "execution_count": null,
   "metadata": {
    "collapsed": true
   },
   "outputs": [],
   "source": [
    "df_cm.head()"
   ]
  },
  {
   "cell_type": "code",
   "execution_count": null,
   "metadata": {
    "collapsed": true
   },
   "outputs": [],
   "source": [
    "e = G.node\n",
    "s_G = A[\"Course1\"].values.tolist()\n",
    "#sub_graph = graph_df[graph_df[\"Course1\"].isin(['590DV','590DW','590PR','502AO'])]\n",
    "#s_G = sub_graph[\"Course1\"].values.tolist()\n",
    "\n",
    "#len(s_G)"
   ]
  },
  {
   "cell_type": "code",
   "execution_count": null,
   "metadata": {
    "collapsed": true
   },
   "outputs": [],
   "source": [
    "H = G.subgraph(s_G)"
   ]
  },
  {
   "cell_type": "code",
   "execution_count": null,
   "metadata": {
    "collapsed": true
   },
   "outputs": [],
   "source": [
    "plot_network(H,nx.degree(H),factor=100,font_size=10, node_color=[\"b\",\"g\"], width=.25)"
   ]
  },
  {
   "cell_type": "code",
   "execution_count": null,
   "metadata": {
    "collapsed": true
   },
   "outputs": [],
   "source": [
    "#df_cm.sort_values(by=['degree'], axis=0)"
   ]
  },
  {
   "cell_type": "code",
   "execution_count": null,
   "metadata": {
    "collapsed": true
   },
   "outputs": [],
   "source": [
    "### Centrality Measure\n",
    "from utilities import get_all_node_metrics\n",
    "\n",
    "cent_measure= {'degree': nx.degree(G),\n",
    "               'betweenness': nx.betweenness_centrality(G),\n",
    "               'closeness'  : nx.closeness_centrality(G)\n",
    "              }\n",
    "\n",
    "df_cm = get_all_node_metrics(H)\n",
    "df_cm.head()"
   ]
  },
  {
   "cell_type": "code",
   "execution_count": 33,
   "metadata": {},
   "outputs": [
    {
     "ename": "NameError",
     "evalue": "name 'df_cm' is not defined",
     "output_type": "error",
     "traceback": [
      "\u001b[0;31m---------------------------------------------------------------------------\u001b[0m",
      "\u001b[0;31mNameError\u001b[0m                                 Traceback (most recent call last)",
      "\u001b[0;32m<ipython-input-33-084038e8757c>\u001b[0m in \u001b[0;36m<module>\u001b[0;34m()\u001b[0m\n\u001b[0;32m----> 1\u001b[0;31m \u001b[0mdf_cm\u001b[0m\u001b[0;34m.\u001b[0m\u001b[0msort_values\u001b[0m\u001b[0;34m(\u001b[0m\u001b[0mby\u001b[0m\u001b[0;34m=\u001b[0m\u001b[0;34m[\u001b[0m\u001b[0;34m\"closeness\"\u001b[0m\u001b[0;34m]\u001b[0m\u001b[0;34m,\u001b[0m \u001b[0mascending\u001b[0m\u001b[0;34m=\u001b[0m\u001b[0;32mFalse\u001b[0m\u001b[0;34m)\u001b[0m\u001b[0;34m\u001b[0m\u001b[0m\n\u001b[0m",
      "\u001b[0;31mNameError\u001b[0m: name 'df_cm' is not defined"
     ]
    }
   ],
   "source": [
    "df_cm.sort_values(by=[\"closeness\"], ascending=False)"
   ]
  },
  {
   "cell_type": "code",
   "execution_count": 34,
   "metadata": {},
   "outputs": [
    {
     "data": {
      "text/html": [
       "<div>\n",
       "<style>\n",
       "    .dataframe thead tr:only-child th {\n",
       "        text-align: right;\n",
       "    }\n",
       "\n",
       "    .dataframe thead th {\n",
       "        text-align: left;\n",
       "    }\n",
       "\n",
       "    .dataframe tbody tr th {\n",
       "        vertical-align: top;\n",
       "    }\n",
       "</style>\n",
       "<table border=\"1\" class=\"dataframe\">\n",
       "  <thead>\n",
       "    <tr style=\"text-align: right;\">\n",
       "      <th></th>\n",
       "      <th>Course1</th>\n",
       "      <th>Course2</th>\n",
       "      <th>Common Entities</th>\n",
       "    </tr>\n",
       "  </thead>\n",
       "  <tbody>\n",
       "    <tr>\n",
       "      <th>0</th>\n",
       "      <td>590DV</td>\n",
       "      <td>590DW</td>\n",
       "      <td>[construction, aspects, IS 590, information sc...</td>\n",
       "    </tr>\n",
       "    <tr>\n",
       "      <th>1</th>\n",
       "      <td>590DV</td>\n",
       "      <td>590ED1</td>\n",
       "      <td>[aspects, IS 590, information sciences]</td>\n",
       "    </tr>\n",
       "    <tr>\n",
       "      <th>2</th>\n",
       "      <td>590DV</td>\n",
       "      <td>590ED2</td>\n",
       "      <td>[aspects, IS 590, information sciences]</td>\n",
       "    </tr>\n",
       "    <tr>\n",
       "      <th>3</th>\n",
       "      <td>590DV</td>\n",
       "      <td>590ELO</td>\n",
       "      <td>[models, aspects, IS 590, information sciences]</td>\n",
       "    </tr>\n",
       "    <tr>\n",
       "      <th>4</th>\n",
       "      <td>590DV</td>\n",
       "      <td>590ET</td>\n",
       "      <td>[aspects, IS 590, information sciences]</td>\n",
       "    </tr>\n",
       "  </tbody>\n",
       "</table>\n",
       "</div>"
      ],
      "text/plain": [
       "  Course1 Course2                                    Common Entities\n",
       "0   590DV   590DW  [construction, aspects, IS 590, information sc...\n",
       "1   590DV  590ED1            [aspects, IS 590, information sciences]\n",
       "2   590DV  590ED2            [aspects, IS 590, information sciences]\n",
       "3   590DV  590ELO    [models, aspects, IS 590, information sciences]\n",
       "4   590DV   590ET            [aspects, IS 590, information sciences]"
      ]
     },
     "execution_count": 34,
     "metadata": {},
     "output_type": "execute_result"
    }
   ],
   "source": [
    "graph_df.head()"
   ]
  },
  {
   "cell_type": "code",
   "execution_count": 32,
   "metadata": {
    "collapsed": true
   },
   "outputs": [],
   "source": [
    "import gensim\n",
    "from nltk.tokenize import word_tokenize"
   ]
  },
  {
   "cell_type": "code",
   "execution_count": 36,
   "metadata": {
    "collapsed": true
   },
   "outputs": [],
   "source": [
    "### The above earlier two steps are done in one go in this code\n",
    "gen_word_token_docs = [[ w.lower() for w in word_tokenize(str(text))] for text in graph_df['Common Entities']]"
   ]
  },
  {
   "cell_type": "code",
   "execution_count": 38,
   "metadata": {
    "collapsed": true
   },
   "outputs": [],
   "source": [
    "word_dictionary = gensim.corpora.Dictionary(gen_word_token_docs)"
   ]
  },
  {
   "cell_type": "code",
   "execution_count": 83,
   "metadata": {},
   "outputs": [
    {
     "data": {
      "text/plain": [
       "\"'models\""
      ]
     },
     "execution_count": 83,
     "metadata": {},
     "output_type": "execute_result"
    }
   ],
   "source": [
    "word_dictionary[10]"
   ]
  },
  {
   "cell_type": "code",
   "execution_count": 41,
   "metadata": {
    "collapsed": true
   },
   "outputs": [],
   "source": [
    "corpus = [word_dictionary.doc2bow(gen_doc) for gen_doc in gen_word_token_docs]"
   ]
  },
  {
   "cell_type": "code",
   "execution_count": 88,
   "metadata": {},
   "outputs": [
    {
     "data": {
      "text/plain": [
       "55"
      ]
     },
     "execution_count": 88,
     "metadata": {},
     "output_type": "execute_result"
    }
   ],
   "source": [
    "word_dictionary.dfs[10]"
   ]
  },
  {
   "cell_type": "code",
   "execution_count": 80,
   "metadata": {
    "collapsed": true
   },
   "outputs": [],
   "source": [
    "new_df['frequency'] = word_dictionary.dfs.values()"
   ]
  },
  {
   "cell_type": "code",
   "execution_count": 89,
   "metadata": {
    "collapsed": true
   },
   "outputs": [],
   "source": [
    "new_df.to_csv(\"entity_frequency.csv\")"
   ]
  },
  {
   "cell_type": "code",
   "execution_count": null,
   "metadata": {
    "collapsed": true
   },
   "outputs": [],
   "source": []
  }
 ],
 "metadata": {
  "kernelspec": {
   "display_name": "Python 3",
   "language": "python",
   "name": "python3"
  },
  "language_info": {
   "codemirror_mode": {
    "name": "ipython",
    "version": 3
   },
   "file_extension": ".py",
   "mimetype": "text/x-python",
   "name": "python",
   "nbconvert_exporter": "python",
   "pygments_lexer": "ipython3",
   "version": "3.6.3"
  }
 },
 "nbformat": 4,
 "nbformat_minor": 2
}
