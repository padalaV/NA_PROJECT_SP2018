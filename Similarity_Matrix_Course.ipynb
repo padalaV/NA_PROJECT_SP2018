{
 "cells": [
  {
   "cell_type": "markdown",
   "metadata": {},
   "source": [
    "The below code is used for generating the corpus from the words of course description. \n",
    "\n",
    "The code used below is referenced from the site\n",
    "\n",
    "https://www.oreilly.com/learning/how-do-i-compare-document-similarity-using-python\n",
    "\n",
    "https://radimrehurek.com/gensim/tut3.html\n",
    "\n"
   ]
  },
  {
   "cell_type": "code",
   "execution_count": null,
   "metadata": {
    "collapsed": true
   },
   "outputs": [],
   "source": []
  },
  {
   "cell_type": "markdown",
   "metadata": {},
   "source": [
    "### import the libraries"
   ]
  },
  {
   "cell_type": "code",
   "execution_count": null,
   "metadata": {
    "collapsed": true
   },
   "outputs": [],
   "source": [
    "import numpy as np\n",
    "import math\n",
    "import matplotlib.pyplot as plt \n",
    "import pandas as pd\n",
    "\n",
    "%matplotlib inline "
   ]
  },
  {
   "cell_type": "code",
   "execution_count": 4,
   "metadata": {},
   "outputs": [],
   "source": [
    "import gensim\n",
    "from nltk.tokenize import word_tokenize"
   ]
  },
  {
   "cell_type": "markdown",
   "metadata": {},
   "source": [
    "### Read the dataset from the csv file into a pandas dataframe. "
   ]
  },
  {
   "cell_type": "code",
   "execution_count": 5,
   "metadata": {
    "collapsed": true
   },
   "outputs": [],
   "source": [
    "dataset = pd.read_csv(\"data/trial_dataset.csv\")"
   ]
  },
  {
   "cell_type": "code",
   "execution_count": 6,
   "metadata": {},
   "outputs": [
    {
     "data": {
      "text/html": [
       "<div>\n",
       "<style>\n",
       "    .dataframe thead tr:only-child th {\n",
       "        text-align: right;\n",
       "    }\n",
       "\n",
       "    .dataframe thead th {\n",
       "        text-align: left;\n",
       "    }\n",
       "\n",
       "    .dataframe tbody tr th {\n",
       "        vertical-align: top;\n",
       "    }\n",
       "</style>\n",
       "<table border=\"1\" class=\"dataframe\">\n",
       "  <thead>\n",
       "    <tr style=\"text-align: right;\">\n",
       "      <th></th>\n",
       "      <th>CourseId</th>\n",
       "      <th>CourseName</th>\n",
       "      <th>Description</th>\n",
       "    </tr>\n",
       "  </thead>\n",
       "  <tbody>\n",
       "    <tr>\n",
       "      <th>0</th>\n",
       "      <td>IS202</td>\n",
       "      <td>Social Aspects Info Tech</td>\n",
       "      <td>\\nThis course satisfies the General Education ...</td>\n",
       "    </tr>\n",
       "    <tr>\n",
       "      <th>1</th>\n",
       "      <td>IS390</td>\n",
       "      <td>Special Topics in Information Studies</td>\n",
       "      <td>Explores cultural ideas about computers, inclu...</td>\n",
       "    </tr>\n",
       "    <tr>\n",
       "      <th>2</th>\n",
       "      <td>IS403</td>\n",
       "      <td>iterature and Resources for Children</td>\n",
       "      <td>\\nEvaluation, selection and use of books and o...</td>\n",
       "    </tr>\n",
       "    <tr>\n",
       "      <th>3</th>\n",
       "      <td>IS451</td>\n",
       "      <td>Introduction to Network Information Systems</td>\n",
       "      <td>Hands-on introduction to technology systems fo...</td>\n",
       "    </tr>\n",
       "    <tr>\n",
       "      <th>4</th>\n",
       "      <td>IS452</td>\n",
       "      <td>Foundations of Information Processing</td>\n",
       "      <td>Covers common data, document processing, and p...</td>\n",
       "    </tr>\n",
       "  </tbody>\n",
       "</table>\n",
       "</div>"
      ],
      "text/plain": [
       "  CourseId                                    CourseName  \\\n",
       "0    IS202                     Social Aspects Info Tech    \n",
       "1   IS390         Special Topics in Information Studies    \n",
       "2    IS403          iterature and Resources for Children   \n",
       "3    IS451  Introduction to Network Information Systems    \n",
       "4    IS452        Foundations of Information Processing    \n",
       "\n",
       "                                         Description  \n",
       "0  \\nThis course satisfies the General Education ...  \n",
       "1  Explores cultural ideas about computers, inclu...  \n",
       "2  \\nEvaluation, selection and use of books and o...  \n",
       "3  Hands-on introduction to technology systems fo...  \n",
       "4  Covers common data, document processing, and p...  "
      ]
     },
     "execution_count": 6,
     "metadata": {},
     "output_type": "execute_result"
    }
   ],
   "source": [
    "dataset.head()"
   ]
  },
  {
   "cell_type": "markdown",
   "metadata": {},
   "source": [
    "The below code simply extract the data from description columns\n",
    "\n",
    "These are the documents for us. \n",
    "\n",
    "For demo purpose used only the 2 rows. \n",
    "\n",
    "storing the course description into a list. \n"
   ]
  },
  {
   "cell_type": "code",
   "execution_count": 41,
   "metadata": {},
   "outputs": [
    {
     "name": "stdout",
     "output_type": "stream",
     "text": [
      "\n",
      "This course satisfies the General Education Criteria for a: Social & Beh Sci - Soc Sci\n",
      "Explores cultural ideas about computers, including hopes and fears about the effects of computers on our lives. Will analyze images of computers in fiction and movies. The course will also examine hackers, online subcultures, and other computer-related subcultures, and the integration of computers into various cultural practices. \n",
      "\n",
      "Evaluation, selection and use of books and other resources for children (ages 0-14) in public libraries and school media centers; explores standard selection criteria for print and nonprint materials in all formats and develops the ability to evaluate and promote materials according to their various uses (personal and curricular) and according to children's various needs (intellectual, emotional, social and physical)\n"
     ]
    }
   ],
   "source": [
    "cnt = 0 \n",
    "text_list= []\n",
    "for text in dataset[\"Description\"]:\n",
    "    print (text)\n",
    "    text_list.append(text)\n",
    "    cnt+=1\n",
    "    if cnt > 2: \n",
    "        break"
   ]
  },
  {
   "cell_type": "code",
   "execution_count": null,
   "metadata": {
    "collapsed": true
   },
   "outputs": [],
   "source": []
  },
  {
   "cell_type": "markdown",
   "metadata": {},
   "source": [
    "From the above text_list, \n",
    "break extract the words and store it in a list for each document. \n"
   ]
  },
  {
   "cell_type": "code",
   "execution_count": 52,
   "metadata": {},
   "outputs": [
    {
     "name": "stdout",
     "output_type": "stream",
     "text": [
      "\n",
      "This course satisfies the General Education Criteria for a: Social & Beh Sci - Soc Sci\n",
      "[['This', 'course', 'satisfies', 'the', 'General', 'Education', 'Criteria', 'for', 'a', ':', 'Social', '&', 'Beh', 'Sci', '-', 'Soc', 'Sci']]\n",
      "Explores cultural ideas about computers, including hopes and fears about the effects of computers on our lives. Will analyze images of computers in fiction and movies. The course will also examine hackers, online subcultures, and other computer-related subcultures, and the integration of computers into various cultural practices. \n",
      "[['This', 'course', 'satisfies', 'the', 'General', 'Education', 'Criteria', 'for', 'a', ':', 'Social', '&', 'Beh', 'Sci', '-', 'Soc', 'Sci'], ['Explores', 'cultural', 'ideas', 'about', 'computers', ',', 'including', 'hopes', 'and', 'fears', 'about', 'the', 'effects', 'of', 'computers', 'on', 'our', 'lives', '.', 'Will', 'analyze', 'images', 'of', 'computers', 'in', 'fiction', 'and', 'movies', '.', 'The', 'course', 'will', 'also', 'examine', 'hackers', ',', 'online', 'subcultures', ',', 'and', 'other', 'computer-related', 'subcultures', ',', 'and', 'the', 'integration', 'of', 'computers', 'into', 'various', 'cultural', 'practices', '.']]\n",
      "\n",
      "Evaluation, selection and use of books and other resources for children (ages 0-14) in public libraries and school media centers; explores standard selection criteria for print and nonprint materials in all formats and develops the ability to evaluate and promote materials according to their various uses (personal and curricular) and according to children's various needs (intellectual, emotional, social and physical)\n",
      "[['This', 'course', 'satisfies', 'the', 'General', 'Education', 'Criteria', 'for', 'a', ':', 'Social', '&', 'Beh', 'Sci', '-', 'Soc', 'Sci'], ['Explores', 'cultural', 'ideas', 'about', 'computers', ',', 'including', 'hopes', 'and', 'fears', 'about', 'the', 'effects', 'of', 'computers', 'on', 'our', 'lives', '.', 'Will', 'analyze', 'images', 'of', 'computers', 'in', 'fiction', 'and', 'movies', '.', 'The', 'course', 'will', 'also', 'examine', 'hackers', ',', 'online', 'subcultures', ',', 'and', 'other', 'computer-related', 'subcultures', ',', 'and', 'the', 'integration', 'of', 'computers', 'into', 'various', 'cultural', 'practices', '.'], ['Evaluation', ',', 'selection', 'and', 'use', 'of', 'books', 'and', 'other', 'resources', 'for', 'children', '(', 'ages', '0-14', ')', 'in', 'public', 'libraries', 'and', 'school', 'media', 'centers', ';', 'explores', 'standard', 'selection', 'criteria', 'for', 'print', 'and', 'nonprint', 'materials', 'in', 'all', 'formats', 'and', 'develops', 'the', 'ability', 'to', 'evaluate', 'and', 'promote', 'materials', 'according', 'to', 'their', 'various', 'uses', '(', 'personal', 'and', 'curricular', ')', 'and', 'according', 'to', 'children', \"'s\", 'various', 'needs', '(', 'intellectual', ',', 'emotional', ',', 'social', 'and', 'physical', ')']]\n"
     ]
    }
   ],
   "source": [
    "wordlist = []\n",
    "for text in text_list:\n",
    "    words =[]\n",
    "    print(text)\n",
    "    for word in word_tokenize(text):\n",
    "        words.append(word)\n",
    "    wordlist.append(words)\n",
    "    print(wordlist)  "
   ]
  },
  {
   "cell_type": "code",
   "execution_count": null,
   "metadata": {
    "collapsed": true
   },
   "outputs": [],
   "source": []
  },
  {
   "cell_type": "markdown",
   "metadata": {},
   "source": [
    "Extract the text for each of the rows from the data frame.\n",
    "\n",
    "once done generate the list of words from that. \n",
    "\n",
    "store the words corresponding to the course description into a list of list structure. \n"
   ]
  },
  {
   "cell_type": "code",
   "execution_count": 53,
   "metadata": {},
   "outputs": [],
   "source": [
    "### The above earlier two steps are done in one go in this code\n",
    "gen_word_token_docs = [[ w.lower() for w in word_tokenize(text)] for text in dataset[\"Description\"]]"
   ]
  },
  {
   "cell_type": "code",
   "execution_count": 54,
   "metadata": {},
   "outputs": [],
   "source": [
    "### The below code is generating the dictionary for us. \n",
    "### so for every word we have an index\n",
    "\n",
    "word_dictionary = gensim.corpora.Dictionary(gen_word_token_docs)"
   ]
  },
  {
   "cell_type": "code",
   "execution_count": 56,
   "metadata": {},
   "outputs": [
    {
     "name": "stdout",
     "output_type": "stream",
     "text": [
      "satisfies\n",
      "5\n"
     ]
    }
   ],
   "source": [
    "print(word_dictionary[10])\n",
    "print(word_dictionary.token2id['course'])"
   ]
  },
  {
   "cell_type": "code",
   "execution_count": 69,
   "metadata": {},
   "outputs": [
    {
     "name": "stdout",
     "output_type": "stream",
     "text": [
      "Number of words in dictionary: 292\n"
     ]
    }
   ],
   "source": [
    "print(\"Number of words in dictionary:\",len(word_dictionary))\n",
    "#for i in range(len(word_dictionary)):\n",
    "    #print(i, word_dictionary[i])"
   ]
  },
  {
   "cell_type": "code",
   "execution_count": 70,
   "metadata": {},
   "outputs": [],
   "source": [
    "### In this case we are generating our corpus from the word dictionary \n",
    "### This gives us the frequency distribution of the words. \n",
    "### It will have the index of the word and the no of times it appeared in course description for the course. \n",
    "\n",
    "### For example word :course\" has index of 5 and it appeared 1 in the course 1, \n",
    "### whereas it also appeared 1 time in the second course too, but not in course 3. \n",
    "corpus = [word_dictionary.doc2bow(gen_doc) for gen_doc in gen_word_token_docs]\n",
    "\n",
    "#corpus"
   ]
  },
  {
   "cell_type": "code",
   "execution_count": 59,
   "metadata": {
    "collapsed": true
   },
   "outputs": [],
   "source": [
    "### This code generates the tf-idf for the corpus. \n",
    "### the value is calculated as a log of the term frequency and how rare is the word across documents. \n",
    "### tf-idf = tf * log(N/D)\n",
    "\n",
    "tf_idf = gensim.models.TfidfModel(corpus)"
   ]
  },
  {
   "cell_type": "code",
   "execution_count": 71,
   "metadata": {},
   "outputs": [
    {
     "name": "stdout",
     "output_type": "stream",
     "text": [
      "431\n"
     ]
    }
   ],
   "source": [
    "s=0\n",
    "for i in corpus:\n",
    "    s += len(i)\n",
    "print(s)"
   ]
  },
  {
   "cell_type": "code",
   "execution_count": 82,
   "metadata": {},
   "outputs": [],
   "source": [
    "### This creates the similarities between the documents \n",
    "sims = gensim.similarities.Similarity('data/',tf_idf[corpus],\n",
    "                                      num_features=len(word_dictionary))\n",
    "sims.save(\"data/similarity_docs.index\")"
   ]
  },
  {
   "cell_type": "code",
   "execution_count": 31,
   "metadata": {},
   "outputs": [
    {
     "name": "stdout",
     "output_type": "stream",
     "text": [
      "['this', 'course', 'satisfies', 'the', 'general', 'education', 'criteria', 'for', 'a', ':', 'social', '&', 'beh', 'sci', '-', 'soc', 'sci']\n"
     ]
    }
   ],
   "source": [
    "### Below code is for getting the similarity between the query and the stored documents\n",
    "\n",
    "### first we create the word tokes from the course description. \n",
    "### In this case I have chosen the first course from the data set\n",
    "### I expect the similarity of 1 between this query and the documents and rest less than 1. \n",
    "\n",
    "\n",
    "query_doc = [w.lower() for w in word_tokenize(dataset[\"Description\"][0])]\n",
    "print(query_doc)"
   ]
  },
  {
   "cell_type": "code",
   "execution_count": 83,
   "metadata": {},
   "outputs": [
    {
     "name": "stdout",
     "output_type": "stream",
     "text": [
      "[(0, 1), (1, 1), (2, 1), (3, 1), (4, 1), (5, 1), (6, 1), (7, 1), (8, 1), (9, 1), (10, 1), (11, 2), (12, 1), (13, 1), (14, 1), (15, 1)]\n"
     ]
    }
   ],
   "source": [
    "### we need to perform the same operation on the query as we did for the documents. \n",
    "\n",
    "query_doc_bow = word_dictionary.doc2bow(query_doc)\n",
    "print(query_doc_bow)"
   ]
  },
  {
   "cell_type": "code",
   "execution_count": 34,
   "metadata": {},
   "outputs": [
    {
     "name": "stdout",
     "output_type": "stream",
     "text": [
      "[(0, 0.27351382831337095), (1, 0.27351382831337095), (2, 0.18722982216530046), (3, 0.073168570298732097), (4, 0.27351382831337095), (5, 0.073168570298732097), (6, 0.18722982216530046), (7, 0.27351382831337095), (8, 0.050472908008614953), (9, 0.27351382831337095), (10, 0.27351382831337095), (11, 0.54702765662674191), (12, 0.27351382831337095), (13, 0.13675691415668548), (14, 0.014661809869159374), (15, 0.27351382831337095)]\n"
     ]
    }
   ],
   "source": [
    "## calculate the tf-idf for the words in the query. \n",
    "\n",
    "query_doc_tf_idf = tf_idf[query_doc_bow]\n",
    "print(query_doc_tf_idf)"
   ]
  },
  {
   "cell_type": "code",
   "execution_count": 84,
   "metadata": {},
   "outputs": [
    {
     "data": {
      "text/plain": [
       "array([ 1.        ,  0.00352862,  0.02814337,  0.01239597,  0.01223469,\n",
       "        0.00437777,  0.00831223,  0.01272641,  0.02383857], dtype=float32)"
      ]
     },
     "execution_count": 84,
     "metadata": {},
     "output_type": "execute_result"
    }
   ],
   "source": [
    "### the sims object now returns an array of the similarity \n",
    "## between the query and the stored documents. \n",
    "### note that the  1st value of the array is 1, which is expected, since.\n",
    "### we queried the course description from the 1st row itself. \n",
    "\n",
    "sims[query_doc_tf_idf]"
   ]
  },
  {
   "cell_type": "code",
   "execution_count": 87,
   "metadata": {},
   "outputs": [],
   "source": [
    "## Creating the matrix of similarity values now. \n",
    "\n",
    "sim_matrix = []\n",
    "for query in dataset[\"Description\"]:\n",
    "    #print(query)\n",
    "    query_doc = [w.lower() for w in word_tokenize(query)]\n",
    "    query_doc_bow = word_dictionary.doc2bow(query_doc)\n",
    "    query_doc_tf_idf = tf_idf[query_doc_bow]\n",
    "    sim_matrix.append(sims[query_doc_tf_idf])"
   ]
  },
  {
   "cell_type": "code",
   "execution_count": 89,
   "metadata": {},
   "outputs": [
    {
     "data": {
      "text/plain": [
       "array([ 1.        ,  0.00352862,  0.02814337,  0.01239597,  0.01223469,\n",
       "        0.00437777,  0.00831223,  0.01272641,  0.02383857], dtype=float32)"
      ]
     },
     "execution_count": 89,
     "metadata": {},
     "output_type": "execute_result"
    }
   ],
   "source": [
    "sim_matrix[0]"
   ]
  },
  {
   "cell_type": "code",
   "execution_count": 141,
   "metadata": {},
   "outputs": [],
   "source": []
  },
  {
   "cell_type": "code",
   "execution_count": 144,
   "metadata": {},
   "outputs": [],
   "source": [
    "df = pd.DataFrame(sim_matrix )\n",
    "course_id = np.array(dataset[\"CourseId\"])\n",
    "df.columns = course_id\n",
    "df[\"CourseID\"] =dataset[\"CourseId\"]\n",
    "#df.set_index(\"CourseID\")\n",
    "#df\n"
   ]
  },
  {
   "cell_type": "code",
   "execution_count": 179,
   "metadata": {},
   "outputs": [],
   "source": [
    "\n",
    "df.set_index(\"CourseID\", inplace=True)\n",
    "#df.reindex(\"CourseID\")\n"
   ]
  },
  {
   "cell_type": "code",
   "execution_count": 185,
   "metadata": {
    "collapsed": true
   },
   "outputs": [],
   "source": [
    "import networkx as nx\n",
    "G=nx.Graph()"
   ]
  },
  {
   "cell_type": "code",
   "execution_count": 197,
   "metadata": {},
   "outputs": [],
   "source": [
    "for rows in df:\n",
    "    for cols in df.columns:\n",
    "        #print(rows, cols, df.loc[rows][cols])\n",
    "        G.add_node(rows)\n",
    "        #G.add_edge(rows,cols,weight=df.loc[rows][cols])"
   ]
  },
  {
   "cell_type": "code",
   "execution_count": 198,
   "metadata": {},
   "outputs": [
    {
     "data": {
      "text/plain": [
       "EdgeView([('IS202', 'IS202'), ('IS202', 'IS390 '), ('IS202', 'IS403'), ('IS202', 'IS451'), ('IS202', 'IS452'), ('IS202', 'IS458'), ('IS202', 'IS462'), ('IS202', 'IS490'), ('IS202', 'IS501'), ('IS390 ', 'IS390 '), ('IS390 ', 'IS403'), ('IS390 ', 'IS451'), ('IS390 ', 'IS452'), ('IS390 ', 'IS458'), ('IS390 ', 'IS462'), ('IS390 ', 'IS490'), ('IS390 ', 'IS501'), ('IS403', 'IS403'), ('IS403', 'IS451'), ('IS403', 'IS452'), ('IS403', 'IS458'), ('IS403', 'IS462'), ('IS403', 'IS490'), ('IS403', 'IS501'), ('IS451', 'IS451'), ('IS451', 'IS452'), ('IS451', 'IS458'), ('IS451', 'IS462'), ('IS451', 'IS490'), ('IS451', 'IS501'), ('IS452', 'IS452'), ('IS452', 'IS458'), ('IS452', 'IS462'), ('IS452', 'IS490'), ('IS452', 'IS501'), ('IS458', 'IS458'), ('IS458', 'IS462'), ('IS458', 'IS490'), ('IS458', 'IS501'), ('IS462', 'IS462'), ('IS462', 'IS490'), ('IS462', 'IS501'), ('IS490', 'IS490'), ('IS490', 'IS501'), ('IS501', 'IS501')])"
      ]
     },
     "execution_count": 198,
     "metadata": {},
     "output_type": "execute_result"
    }
   ],
   "source": [
    "G.edges"
   ]
  },
  {
   "cell_type": "code",
   "execution_count": 202,
   "metadata": {},
   "outputs": [
    {
     "name": "stdout",
     "output_type": "stream",
     "text": [
      "45\n",
      "9\n"
     ]
    }
   ],
   "source": [
    "print(G.number_of_edges())\n",
    "print(G.number_of_nodes())"
   ]
  },
  {
   "cell_type": "code",
   "execution_count": 200,
   "metadata": {},
   "outputs": [
    {
     "data": {
      "image/png": "[encoded data removed]",
      "text/plain": [
       "<matplotlib.figure.Figure at 0x1a198cd6d8>"
      ]
     },
     "metadata": {},
     "output_type": "display_data"
    }
   ],
   "source": [
    "nx.draw(G)"
   ]
  },
  {
   "cell_type": "code",
   "execution_count": null,
   "metadata": {
    "collapsed": true
   },
   "outputs": [],
   "source": []
  }
 ],
 "metadata": {
  "kernelspec": {
   "display_name": "Python 3",
   "language": "python",
   "name": "python3"
  },
  "language_info": {
   "codemirror_mode": {
    "name": "ipython",
    "version": 3
   },
   "file_extension": ".py",
   "mimetype": "text/x-python",
   "name": "python",
   "nbconvert_exporter": "python",
   "pygments_lexer": "ipython3",
   "version": "3.6.3"
  }
 },
 "nbformat": 4,
 "nbformat_minor": 2
}
