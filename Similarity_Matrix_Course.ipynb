{
 "cells": [
  {
   "cell_type": "markdown",
   "metadata": {},
   "source": [
    "The below code is used for generating the corpus from the words of course description. \n",
    "\n",
    "The code used below is referenced from the site\n",
    "\n",
    "https://www.oreilly.com/learning/how-do-i-compare-document-similarity-using-python\n",
    "\n",
    "https://radimrehurek.com/gensim/tut3.html\n",
    "\n"
   ]
  },
  {
   "cell_type": "code",
   "execution_count": null,
   "metadata": {
    "collapsed": true
   },
   "outputs": [],
   "source": []
  },
  {
   "cell_type": "markdown",
   "metadata": {},
   "source": [
    "### import the libraries"
   ]
  },
  {
   "cell_type": "code",
   "execution_count": 1,
   "metadata": {
    "collapsed": true
   },
   "outputs": [],
   "source": [
    "import numpy as np\n",
    "import math\n",
    "import matplotlib.pyplot as plt \n",
    "import pandas as pd\n",
    "\n",
    "%matplotlib inline "
   ]
  },
  {
   "cell_type": "code",
   "execution_count": 2,
   "metadata": {
    "collapsed": true
   },
   "outputs": [],
   "source": [
    "import gensim\n",
    "from nltk.tokenize import word_tokenize"
   ]
  },
  {
   "cell_type": "markdown",
   "metadata": {},
   "source": [
    "### Read the dataset from the csv file into a pandas dataframe. "
   ]
  },
  {
   "cell_type": "code",
   "execution_count": 3,
   "metadata": {
    "collapsed": true
   },
   "outputs": [],
   "source": [
    "dataset = pd.read_csv(\"data/data.csv\",engine='python')"
   ]
  },
  {
   "cell_type": "code",
   "execution_count": 4,
   "metadata": {},
   "outputs": [
    {
     "data": {
      "text/plain": [
       "0    Data visualization is crucial to conveying inf...\n",
       "1    This course examines the construction of a dat...\n",
       "2    This course meets the first 8 weeks of the sem...\n",
       "3    This course meets the last 8 weeks of the seme...\n",
       "4    2 or 4 credits: Provides an introduction to a ...\n",
       "Name: Description, dtype: object"
      ]
     },
     "execution_count": 4,
     "metadata": {},
     "output_type": "execute_result"
    }
   ],
   "source": [
    "dataset['Description'].head()"
   ]
  },
  {
   "cell_type": "code",
   "execution_count": 75,
   "metadata": {
    "collapsed": true
   },
   "outputs": [],
   "source": [
    "no_of_nodes = 146"
   ]
  },
  {
   "cell_type": "markdown",
   "metadata": {},
   "source": [
    "The below code simply extract the data from description columns\n",
    "\n",
    "These are the documents for us. \n",
    "\n",
    "For demo purpose used only the 2 rows. \n",
    "\n",
    "storing the course description into a list. \n"
   ]
  },
  {
   "cell_type": "code",
   "execution_count": 76,
   "metadata": {
    "collapsed": true
   },
   "outputs": [],
   "source": [
    "cnt = 0 \n",
    "text_list= []\n",
    "for text in dataset[\"Description\"]:\n",
    "    #print (text)\n",
    "    text_list.append(text)\n",
    "    cnt+=1\n",
    "    if cnt > 2: \n",
    "        break"
   ]
  },
  {
   "cell_type": "code",
   "execution_count": null,
   "metadata": {
    "collapsed": true
   },
   "outputs": [],
   "source": []
  },
  {
   "cell_type": "markdown",
   "metadata": {},
   "source": [
    "From the above text_list, \n",
    "break extract the words and store it in a list for each document. \n"
   ]
  },
  {
   "cell_type": "code",
   "execution_count": 77,
   "metadata": {},
   "outputs": [
    {
     "name": "stdout",
     "output_type": "stream",
     "text": [
      "Data visualization is crucial to conveying information drawn from models, observations or investigations. This course will provide an overview of historical and modern techniques for visualizing data, drawing on quantitative, statistical, and network-focused datasets. Topics will include construction of communicative visualizations, the modern software ecosystem of visualization, and techniques for aggregation and interpretation of data through visualization.Particular attention will be paid to the Python ecosystem and multi-dimensional quantitative datasets. Variety of newly developed and special topics courses on different aspects of the information sciences intended to augment the existing curriculum, offered as sections of IS 590. Course Information: Additional fees may apply. See Class Schedule. 1 to 4 graduate hours. No professional credit. May be repeated. Class Schedule Information: Class materials fee or field trip fee may be required.\n",
      "This course examines the construction of a data warehouse and business intelligence system. It will review the roles and requirements of building the system, including data modelling and business intelligence product design. This course will explore real-world case studies of data warehouse and business intelligence projects leading to a final project to design a solution for a business case. Variety of newly developed and special topics courses on different aspects of the information sciences intended to augment the existing curriculum, offered as sections of IS 590. Course Information: Additional fees may apply. See Class Schedule. 1 to 4 graduate hours. No professional credit. May be repeated. Class Schedule Information: Class materials fee or field trip fee may be required.\n",
      "This course meets the first 8 weeks of the semester. The opening night of any exhibition is the culmination of many months and sometimes years of planning centered around an initial core idea for a show. After that idea has gelled into a working concept, it is handed to Design and Installation Specialists to see what is really possible. Can we have all the art suspended from wires? Can the ceiling support a replica of a sea mine? Can we devise a secure vitrine for this priceless manuscript? Does this meet ADA restrictions? How will everything fit together? Can we get that look? This course will address how exhibitions attains a specific look? This is not a course on developing or curating the information, but rather a course on presenting that information in the most compelling way. We will look at the planning, fabricating, painting, building, and installing are large parts of our work. We also have to consider that nothing, with few exceptions, is permanent. Our work needs to be se Variety of newly developed and special topics courses on different aspects of the information sciences intended to augment the existing curriculum, offered as sections of IS 590. Course Information: Additional fees may apply. See Class Schedule. 1 to 4 graduate hours. No professional credit. May be repeated. Class Schedule Information: Class materials fee or field trip fee may be required.\n"
     ]
    }
   ],
   "source": [
    "wordlist = []\n",
    "for text in text_list:\n",
    "    words =[]\n",
    "    print(text)\n",
    "    for word in word_tokenize(text):\n",
    "        words.append(word)\n",
    "    wordlist.append(words)\n",
    "    #print(wordlist)  "
   ]
  },
  {
   "cell_type": "code",
   "execution_count": 78,
   "metadata": {},
   "outputs": [
    {
     "name": "stdout",
     "output_type": "stream",
     "text": [
      "Data visualization is crucial to conveying information drawn from models, observations or investigations. This course will provide an overview of historical and modern techniques for visualizing data, drawing on quantitative, statistical, and network-focused datasets. Topics will include construction of communicative visualizations, the modern software ecosystem of visualization, and techniques for aggregation and interpretation of data through visualization.Particular attention will be paid to the Python ecosystem and multi-dimensional quantitative datasets. Variety of newly developed and special topics courses on different aspects of the information sciences intended to augment the existing curriculum, offered as sections of IS 590. Course Information: Additional fees may apply. See Class Schedule. 1 to 4 graduate hours. No professional credit. May be repeated. Class Schedule Information: Class materials fee or field trip fee may be required.\n",
      "This course examines the construction of a data warehouse and business intelligence system. It will review the roles and requirements of building the system, including data modelling and business intelligence product design. This course will explore real-world case studies of data warehouse and business intelligence projects leading to a final project to design a solution for a business case. Variety of newly developed and special topics courses on different aspects of the information sciences intended to augment the existing curriculum, offered as sections of IS 590. Course Information: Additional fees may apply. See Class Schedule. 1 to 4 graduate hours. No professional credit. May be repeated. Class Schedule Information: Class materials fee or field trip fee may be required.\n",
      "This course meets the first 8 weeks of the semester. The opening night of any exhibition is the culmination of many months and sometimes years of planning centered around an initial core idea for a show. After that idea has gelled into a working concept, it is handed to Design and Installation Specialists to see what is really possible. Can we have all the art suspended from wires? Can the ceiling support a replica of a sea mine? Can we devise a secure vitrine for this priceless manuscript? Does this meet ADA restrictions? How will everything fit together? Can we get that look? This course will address how exhibitions attains a specific look? This is not a course on developing or curating the information, but rather a course on presenting that information in the most compelling way. We will look at the planning, fabricating, painting, building, and installing are large parts of our work. We also have to consider that nothing, with few exceptions, is permanent. Our work needs to be se Variety of newly developed and special topics courses on different aspects of the information sciences intended to augment the existing curriculum, offered as sections of IS 590. Course Information: Additional fees may apply. See Class Schedule. 1 to 4 graduate hours. No professional credit. May be repeated. Class Schedule Information: Class materials fee or field trip fee may be required.\n",
      "This course meets the last 8 weeks of the semester. The opening night of any exhibition is the culmination of many months and sometimes years of planning centered around an initial core idea for a show. After that idea has gelled into a working concept, it is handed to Design and Installation Specialists to see what is really possible. Can we have all the art suspended from wires? Can the ceiling support a replica of a sea mine? Can we devise a secure vitrine for this priceless manuscript? Does this meet ADA restrictions? How will everything fit together? Can we get that look? This course will address how exhibitions attains a specific look? This is not a course on developing or curating the information, but rather a course on presenting that information in the most compelling way. We will look at the planning, fabricating, painting, building, and installing are large parts of our work. We also have to consider that nothing, with few exceptions, is permanent. Our work needs to be sec Variety of newly developed and special topics courses on different aspects of the information sciences intended to augment the existing curriculum, offered as sections of IS 590. Course Information: Additional fees may apply. See Class Schedule. 1 to 4 graduate hours. No professional credit. May be repeated. Class Schedule Information: Class materials fee or field trip fee may be required.\n",
      "2 or 4 credits: Provides an introduction to a wide variety of online learning methods, including videos, multimedia tutorials, webinars, and online courses (including synchronous, asynchronous, and hybrid models) with a focus on their use in libraries and information centers. The course will prepare students to develop patron-oriented e-learning resources and to lead online courses following best practices. Variety of newly developed and special topics courses on different aspects of the information sciences intended to augment the existing curriculum, offered as sections of IS 590. Course Information: Additional fees may apply. See Class Schedule. 1 to 4 graduate hours. No professional credit. May be repeated. Class Schedule Information: Class materials fee or field trip fee may be required.\n",
      "This course will introduce students to major ethical theories and their application to the design, management, and use of information and information technologies. Some of the topics and issues considered include: professional ethics, intellectual property, privacy, data mining, and information access. Variety of newly developed and special topics courses on different aspects of the information sciences intended to augment the existing curriculum, offered as sections of IS 590. Course Information: Additional fees may apply. See Class Schedule. 1 to 4 graduate hours. No professional credit. May be repeated. Class Schedule Information: Class materials fee or field trip fee may be required.\n",
      "2 or 4 credits: Prerequisite: IS 504 or consent of instructor: This is a hybrid course that meets with IS 590 GEO. Provides a basic knowledge of U.S. genealogical and family history research, and explores ways in which librarians can best serve researchers in this field. This course will familiarize you with how to gather the major sources used in family history research, as well as how to properly analyze, organize, and document them. A variety of sources, both print and digital, will be covered including vital, census, church, military and land records. In addition to readings and lectures, students will complete a series of assignments in order to acquire research skills. Note: Students enrolled for 4 hours of credit will be required to complete a compiled genealogy and some personal monetary expenses should be expected of students completing this project (e.g., expenses incurred for ordering records, etc.). Acquiring the necessary documents could cost approximately $100.00 to $200. Variety of newly developed and special topics courses on different aspects of the information sciences intended to augment the existing curriculum, offered as sections of IS 590. Course Information: Additional fees may apply. See Class Schedule. 1 to 4 graduate hours. No professional credit. May be repeated. Class Schedule Information: Class materials fee or field trip fee may be required.\n",
      "2 or 4 credits: Prerequisite: IS 504 or consent of instructor: This is a hybrid course that meets with IS 590 GE. Provides a basic knowledge of U.S. genealogical and family history research, and explores ways in which librarians can best serve researchers in this field. This course will familiarize you with how to gather the major sources used in family history research, as well as how to properly analyze, organize, and document them. A variety of sources, both print and digital, will be covered including vital, census, church, military and land records. In addition to readings and lectures, students will complete a series of assignments in order to acquire research skills. Note: Students enrolled for 4 hours of credit will be required to complete a compiled genealogy and some personal monetary expenses should be expected of students completing this project (e.g., expenses incurred for ordering records, etc.). Acquiring the necessary documents could cost approximately $100.00 to $200.0 Variety of newly developed and special topics courses on different aspects of the information sciences intended to augment the existing curriculum, offered as sections of IS 590. Course Information: Additional fees may apply. See Class Schedule. 1 to 4 graduate hours. No professional credit. May be repeated. Class Schedule Information: Class materials fee or field trip fee may be required.\n",
      "The course will examine the current state of global health informatics from both a local and global perspective, including opportunities and challenges. Focus will be placed on the transition from paper-based records to electronic systems, with a particular emphasis on large international open-source initiatives and use of mobile devices. Guest speakers will share their experiences with WHO, international education based on mobile devices, and regulatory issues. Meets with IS 490 GHU Variety of newly developed and special topics courses on different aspects of the information sciences intended to augment the existing curriculum, offered as sections of IS 590. Course Information: Additional fees may apply. See Class Schedule. 1 to 4 graduate hours. No professional credit. May be repeated. Class Schedule Information: Class materials fee or field trip fee may be required.\n",
      "[Expanded title: Local, Regional and Global Intersections in Library and Information Science]. Required course for joint African Studies/LIS Master's degree. This course explores traditions and trends in library and information science (LIS) from a global perspective incorporating local and regional intersections. Participants consider diverse information contexts emphasizing IS subfields including archives, community informatics, data curation, information policy, IS education, and youth services. Variety of newly developed and special topics courses on different aspects of the information sciences intended to augment the existing curriculum, offered as sections of IS 590. Course Information: Additional fees may apply. See Class Schedule. 1 to 4 graduate hours. No professional credit. May be repeated. Class Schedule Information: Class materials fee or field trip fee may be required.\n",
      "This course covers information and knowledge in the workplace, building effective knowledge management strategies, and examining technologies for knowledge management, specifically Microsoft SharePoint. Some topics covered will include knowledge management objectives, business process analysis and improvement, information governance and standards, and strategic planning. The course prepares students on how to build a successful knowledge process for an organization. Emphasis will be on case studies, projects, and hands-on learning. Variety of newly developed and special topics courses on different aspects of the information sciences intended to augment the existing curriculum, offered as sections of IS 590. Course Information: Additional fees may apply. See Class Schedule. 1 to 4 graduate hours. No professional credit. May be repeated. Class Schedule Information: Class materials fee or field trip fee may be required.\n",
      "Examines all aspects of non-profit marketing, including the basic principles of marketing, and their application to a wide variety of settings, particularly non-profits, and applying the principles in an evaluation of an information service provider, carrying out basic market research for this provider, and writing a basic marketing plan. The goals of this course are: to provide a theoretical foundation that can be applied to many different organizational settings, particularly non-profits; to apply these theoretical concepts to a real-world situation comparable to the settings in which you will be employed; to develop team and leadership organization, communication and planning skills. Variety of newly developed and special topics courses on different aspects of the information sciences intended to augment the existing curriculum, offered as sections of IS 590. Course Information: Additional fees may apply. See Class Schedule. 1 to 4 graduate hours. No professional credit. May be repeated. Class Schedule Information: Class materials fee or field trip fee may be required.\n",
      "Prerequisites are LIS542 or equivalent (e.g. intro probability/stats STAT 100, CS361, or ECON 202) and LIS490IDS/CS398IDS/STAT430IDS or CS101 or equivalent; or consent of the instructor . Linear Algebra recommended at the level of MATH 125 or higher; Calculus recommended at the level of MATH 220. A dramatic increase in computing power has enabled new areas of data science to develop in statistical modeling and analysis. These areas cover predictive and descriptive learning bridge ideas and theory in statistics, computer science and artificial intelligence. We will cover many of these new methods including predictive learning such as estimating models from data to predict future outcomes, notably regression and classification models. Regression topics include linear regression with recent advances to deal with large numbers of variables, smoothing techniques, additive models, and local regression. Classification topics include discriminant analysis, logistic regression, support vector m Variety of newly developed and special topics courses on different aspects of the information sciences intended to augment the existing curriculum, offered as sections of IS 590. Course Information: Additional fees may apply. See Class Schedule. 1 to 4 graduate hours. No professional credit. May be repeated. Class Schedule Information: Class materials fee or field trip fee may be required.\n",
      "Introduces the theory and practice of oral history to graduate students in history, communication, library and information science and related fields through reading, discussion and practice with field work and interviewing. Over the last fifty years, oral history has moved from a controversial (and sometimes despised) technique on the margins of the discipline history, to one of the most important forms of historical knowledge production and dissemination in the academic and non-academic worlds. Yet its goals and relations to the communities it touches are often less than clear. Examines oral historical works, some canonical, some experimental, produced by historians, anthropologists, folklorists, sociologists and political activists. Up for discussion are questions of orality and literacy, privileged versus marginal histories, the problem of memory, problems of listening and learning how to ask, and debates about audience and presentation. Readings will cross continents (the Americas Variety of newly developed and special topics courses on different aspects of the information sciences intended to augment the existing curriculum, offered as sections of IS 590. Course Information: Additional fees may apply. See Class Schedule. 1 to 4 graduate hours. No professional credit. May be repeated. Class Schedule Information: Class materials fee or field trip fee may be required.\n",
      "[Expanded Title: Print Culture and the Material Book in the Age of Print] The course may be taken as 2 or 4 credits. 2 credit students need only attend the first 8 weeks. 4 credit students will write a research paper and lead a seminar session. This course will explore the approximate 500 year history of the printed book in the West from Gutenberg to our digital contemporary with the aim of better understanding the shifting power and purpose of the printing press historically. We will read the work of book historians and bibliographers, examine the role of the printed book in specific epochs such as the Reformation and Scientific Revolution, and examine how print has been used for censorship and propaganda, as well as for the production of knowledge. Particular attention will be paid to the types of material books found in research libraries and university special collections. Variety of newly developed and special topics courses on different aspects of the information sciences intended to augment the existing curriculum, offered as sections of IS 590. Course Information: Additional fees may apply. See Class Schedule. 1 to 4 graduate hours. No professional credit. May be repeated. Class Schedule Information: Class materials fee or field trip fee may be required.\n",
      "[Expanded Title: Preservation and Conservation for Special Collections Care] This course is meant to build on previous coursework in Preservation, Special Collections and/or Rare Book Curation, will focus on the physical structure and chemical composition of book, paper, and photographic materials. Students will learn how historic and modern library and archives materials are produced, how they age and potentially deteriorate, and different approaches for their physical care. Class work will be split between traditional lectures and readings as well as hands-on projects in book construction and minimally invasive treatments and stabilization mechanisms. The goal will be to educate students to a level at which they can effectively communicate with conservation and preservation professionals, as well as set educated priorities and expectations for the care of their collections. An additional course materials fee will be assessed to the student's tuition & fees bill. Variety of newly developed and special topics courses on different aspects of the information sciences intended to augment the existing curriculum, offered as sections of IS 590. Course Information: Additional fees may apply. See Class Schedule. 1 to 4 graduate hours. No professional credit. May be repeated. Class Schedule Information: Class materials fee or field trip fee may be required.\n",
      "The course may be taken as 2 or 4 credits. 2 credit students need only attend the first 8 weeks. 4 credit students will attend the entire semester and develop a significant document and presentation, such as a grant application or budget request. This course will identify the varieties of means and media used in professional communication, analyze the qualities that make those means successful and offer many opportunities to practice using them. The majority of job postings in libraries and other information organizations list amongst their required qualifications excellent oral and written communication skills. How do we develop these skills and demonstrate them to potential employers as well as deploy them in our working lives? The course will touch briefly on the forms usually associated with business communication such as the resume and the effective email message. It will also discuss visual means of communication such as the slide deck, the poster and the data visualisation and Variety of newly developed and special topics courses on different aspects of the information sciences intended to augment the existing curriculum, offered as sections of IS 590. Course Information: Additional fees may apply. See Class Schedule. 1 to 4 graduate hours. No professional credit. May be repeated. Class Schedule Information: Class materials fee or field trip fee may be required.\n",
      "All other students need department approval. Email ischool-advising@illinois.edu. Building on the fundamentals introduced in LIS 452, this course adds skills, data structures, tools, and patterns needed for developing and modifying software to solve more complex problems and to improve code maintainability and reliability. These skills are relevant to many types of programming, but many scenarios used will involve data analysis, conversion, validation, and processing pipelines. The course helps prepare students for work on larger projects with multiple developers. Includes test-driven design, more OOP design concepts, refactoring, profiling, introductory parallel processing, and more. Primarily uses the Python language. Prerequisite: LIS452; or equivalent programming knowledge, with consent of instructor. Variety of newly developed and special topics courses on different aspects of the information sciences intended to augment the existing curriculum, offered as sections of IS 590. Course Information: Additional fees may apply. See Class Schedule. 1 to 4 graduate hours. No professional credit. May be repeated. Class Schedule Information: Class materials fee or field trip fee may be required.\n",
      "All students need instructor approval, obtained by going through the Programming Skills Assessment here: https://courses.ischool.illinois.edu/course/view.php?id=3176\n",
      "\n",
      "[Programming for Analytics and Data Processing]\n",
      "Building on the fundamentals introduced in LIS 452, this course adds skills, data structures, tools, and patterns needed for developing and modifying software to solve more complex problems and to improve code maintainability and reliability. These skills are relevant to many types of programming, but many scenarios used will involve data analysis, conversion, validation, and processing pipelines. The course helps prepare students for work on larger projects with multiple developers. Includes test-driven design, more OOP design concepts, refactoring, profiling, introductory parallel processing, and more. Primarily uses the Python language.\n",
      "\n",
      "Prerequisite: LIS452; or equivalent programming knowledge\n",
      "Building on the fundamentals introduced in LIS 452, this course adds skills, data structures, tools, and patterns needed for developing and modifying software to solve more complex problems and to improve code maintainability and reliability. These skills are relevant to many types of programming, but many scenarios used will involve data analysis, conversion, validation, and processing pipelines. The course helps prepare students for work on larger projects with multiple developers. Includes test-driven design, more OOP design concepts, refactoring, profiling, introductory parallel processing, and more. Primarily uses the Python language.\n",
      "Survey of strategies of qualitative inquiry, considering methods of collecting, analyzing, interpreting, and reporting data. Variety of newly developed and special topics courses on different aspects of the information sciences intended to augment the existing curriculum, offered as sections of IS 590. Course Information: Additional fees may apply. See Class Schedule. 1 to 4 graduate hours. No professional credit. May be repeated. Class Schedule Information: Class materials fee or field trip fee may be required.\n",
      "[Expanded Title: Topics in Self-Organizing Information Systems.] Variety of newly developed and special topics courses on different aspects of the information sciences intended to augment the existing curriculum, offered as sections of IS 590. Course Information: Additional fees may apply. See Class Schedule. 1 to 4 graduate hours. No professional credit. May be repeated. Class Schedule Information: Class materials fee or field trip fee may be required.\n",
      "[Expanded Title: Collection Development for Special Collections] Focuses on the issues and practices related to collection development for special collections libraries. The selection and acquisition of printed, manuscript, and digital materials for special collections libraries is a large subject, but it is a subject that is treated only sparsely in the professional literature. Students will gain an understanding of the nature and makeup of a collection in a rare books and manuscripts library, as well as an overview of the practices and procedures used by acquisitions librarians and development officers involved in the purchase or solicitation of materials for the collection. Attention will also be paid to the legal and ethical considerations that arise in making collection decisions in a special collections library. Variety of newly developed and special topics courses on different aspects of the information sciences intended to augment the existing curriculum, offered as sections of IS 590. Course Information: Additional fees may apply. See Class Schedule. 1 to 4 graduate hours. No professional credit. May be repeated. Class Schedule Information: Class materials fee or field trip fee may be required.\n",
      "Supervised field experience of professional-level duties in an approved library or information center. Course Information: 2 graduate hours. No professional credit. Approved for S/U grading only. A maximum of 2 hours may be applied toward a degree program. Prerequisite: Completion of 14 graduate hours of information sciences courses; submission of Practicum forms.\n",
      "This course introduces students to the knowledge discovery process and methods used to mine patterns from a collection of text. We will critically review text mining methods developed in the knowledge discovery and databases, information science, and computational linguistics communities. Students will develop proficiency with modeling text through individual projects. Variety of newly developed and special topics courses on different aspects of the information sciences intended to augment the existing curriculum, offered as sections of IS 590. Course Information: Additional fees may apply. See Class Schedule. 1 to 4 graduate hours. No professional credit. May be repeated. Class Schedule Information: Class materials fee or field trip fee may be required.\n",
      "Supervised field experience of professional-level duties in an approved library or information center. Course Information: 2 graduate hours. No professional credit. Approved for S/U grading only. A maximum of 2 hours may be applied toward a degree program. Prerequisite: Completion of 14 graduate hours of information sciences courses; submission of Practicum forms.\n",
      "Required core course for MS/LIS students. Explores major issues in the library and information science professions as they involve their communities of users and sponsors. Analyzes specific situations that reflect the professional agenda of these fields, including intellectual freedom, community service, professional ethics, social responsibilities, intellectual property, literacy, historical and international models, the socio-cultural role of libraries and information agencies and professionalism in general, focusing in particular on the interrelationships among these issues. Course Information: 2 or 4 graduate hours. No professional credit. Prerequisite: Required M.S. in library and information science degree core course.\n",
      "Required core course for MS/LIS students. Explores major issues in the library and information science professions as they involve their communities of users and sponsors. Analyzes specific situations that reflect the professional agenda of these fields, including intellectual freedom, community service, professional ethics, social responsibilities, intellectual property, literacy, historical and international models, the socio-cultural role of libraries and information agencies and professionalism in general, focusing in particular on the interrelationships among these issues. Course Information: 2 or 4 graduate hours. No professional credit. Prerequisite: Required M.S. in library and information science degree core course.\n",
      "Explores reference and information services in a variety of settings, introduces widely used print and online sources, and develops question negotiation skills and search strategies. Course Information: 4 graduate hours. No professional credit.\n",
      "Explores reference and information services in a variety of settings, introduces widely used print and online sources, and develops question negotiation skills and search strategies. Course Information: 4 graduate hours. No professional credit.\n",
      "Explores reference and information services in a variety of settings, introduces widely used print and online sources, and develops question negotiation skills and search strategies. Course Information: 4 graduate hours. No professional credit.\n",
      "Designed to explore the principles that govern how organizations and institutions work, this course provides a foundation for and introduction to the theories, practices and procedures involved in the management and administration of libraries and information centers. Course Information: 4 graduate hours. No professional credit.\n",
      "\n",
      "Designed to explore the principles that govern how organizations and institutions work, this course provides a foundation for and introduction to the theories, practices and procedures involved in the management and administration of libraries and information centers. Course Information: 4 graduate hours. No professional credit.\n",
      "Introduction to basic principles and concepts of descriptive and subject cataloging in the context of information service needs for various user communities. Explores principles, structures, standards, technologies and practices relating to organizing and creating access to print and non-print media. Includes coverage of subject analysis and descriptive practices. Introduces controlled vocabularies. Course Information: 4 graduate hours. No professional credit. Prerequisite: IS 501, or concurrent enrollment in IS 501 and IS 507.\n",
      "\n",
      "Introduction to basic principles and concepts of descriptive and subject cataloging in the context of information service needs for various user communities. Explores principles, structures, standards, technologies and practices relating to organizing and creating access to print and non-print media. Includes coverage of subject analysis and descriptive practices. Introduces controlled vocabularies. Course Information: 4 graduate hours. No professional credit. Prerequisite: IS 501, or concurrent enrollment in IS 501 and IS 507.\n",
      "Introduction to basic principles and concepts of descriptive and subject cataloging in the context of information service needs for various user communities. Explores principles, structures, standards, technologies and practices relating to organizing and creating access to print and non-print media. Includes coverage of subject analysis and descriptive practices. Introduces controlled vocabularies. Course Information: 4 graduate hours. No professional credit. Prerequisite: IS 501, or concurrent enrollment in IS 501 and IS 507.\n",
      "Examines issues affecting the development and management of collections for academic, public, special, and school libraries: collection development policies, collection assessment, the marketplace, publishing, legal issues, and budget allocation; document delivery; collaboration and cooperation. Course Information: 4 graduate hours. No professional credit. Prerequisite: IS 501, or concurrent enrollment in IS 501 and IS 508.\n",
      "\n",
      "Examines issues affecting the development and management of collections for academic, public, special, and school libraries: collection development policies, collection assessment, the marketplace, publishing, legal issues, and budget allocation; document delivery; collaboration and cooperation. Course Information: 4 graduate hours. No professional credit. Prerequisite: IS 501, or concurrent enrollment in IS 501 and IS 508.\n",
      "\n",
      "Provides students with theoretical knowledge and practical methods useful to librarians and other professionals working with young people and media. Building on traditional understandings of literacy, media literacy explores the consumption and production of diverse types of texts including print, images, games, and music. Topics for this course may include the role of race in media, media literacy as a catalyst for social change, and intellectual property issues related to media education. Course Information: 2 or 4 graduate hours. No professional credit.\n",
      "Provides students with theoretical knowledge and practical methods useful to librarians and other professionals working with young people and media. Building on traditional understandings of literacy, media literacy explores the consumption and production of diverse types of texts including print, images, games, and music. Topics for this course may include the role of race in media, media literacy as a catalyst for social change, and intellectual property issues related to media education. Course Information: 2 or 4 graduate hours. No professional credit.\n",
      "School Library Information Specialists serve children and young adults (ages 5-18) in K-12 school library media centers. Students will acquire specific knowledge, skills and competencies needed to design, develop, integrate and assess curriculum and instruction with an emphasis on the information needs of K-12 students. Readings and projects provide students with opportunities to apply the practical knowledge and skills they have learned about building reading literacy, teaching information literacy skills, collaborating with teachers and integrating resources into teaching and learning. Course Information: 2 or 4 graduate hours. No professional credit.\n",
      "School Library Information Specialists serve children and young adults (ages 5-18) in K-12 school library media centers. Students will acquire specific knowledge, skills and competencies needed to design, develop, integrate and assess curriculum and instruction with an emphasis on the information needs of K-12 students. Readings and projects provide students with opportunities to apply the practical knowledge and skills they have learned about building reading literacy, teaching information literacy skills, collaborating with teachers and integrating resources into teaching and learning. Course Information: 2 or 4 graduate hours. No professional credit.\n",
      "Survey of an emerging field that studies how local, historical communities use information and communication technologies or otherwise access, create, organize, and share information. Covers key principles for working in libraries or the wider non-profit/public sectors as individuals, organizations, and communities harness new technologies and media. Prepares both professionals and researchers, whatever their technology background. Especially useful for those interested in public or community libraries, youth services, university public engagement, social work, education, and anyone interested in working with or studying underserved communities. Course Information: 4 graduate hours. No professional credit.\n",
      "\n",
      "Aims to acquaint students with government publications, their variety, interest, value, acquisition, and bibliographic control, and to develop proficiency in their reference and research use; considers publications of all types and all governments (local, national, international) with special emphasis on U. S., state and federal governments, and on the United Nations and its related specialized agencies. Course Information: 4 graduate hours. No professional credit. Prerequisite: IS 504 or consent of instructor.\n",
      "Reading and literacy play a central role in all areas of LIS, as well as in education, communication, literature, and writing studies. This course considers reading as a physical, social, and educational activity that is historically and culturally situated. It provides a multidisciplinary investigation into different forms of literacy and how people acquire them. Drawing upon scholarship in LIS, education, literature, history, sociology, psychology, and anthropology, and with special consideration given to age, gender, class, religion, and culture, we will expand upon traditional notions of literacy and explore the range of scholarly approaches to the study of literacy, reading, and readers. For assignments, students choose between an experiential track, which offers practical experience through volunteer work in a literacy tutoring position, or a scholarship track, which features a research project without a volunteer component. All students have the same weekly readings and share kn\n",
      "Restricted to graduate students in the School of Information Sciences, all other students need department approval. Email ischool-advising@illinois.edu A survey of genre fiction, readers' advisory services, the promotion of fiction, narrative nonfiction & media collections in libraries, the social effects of reading, and publishing as a business. Course objectives include: understanding why adults read for pleasure; gaining familiarity with popular fiction genres and their authors; understanding principles and tools of readers' advisory services; examining the issues of popular fiction publishing including the impact of technology in creating new formats; and the process of acquisition, maintenance, and marketing of popular fiction in libraries. Course Information: 2 or 4 graduate hours. No professional credit.\n",
      "\n",
      "[Expanded title: Russian, East European & Eurasian Bibliography and Research Methods]. The IS 504 prerequisite is WAIVED for this 530 section. Description: This course is designed to provide graduate students in both area and information studies with a comprehensive introduction to research techniques in the Russian & East European field. Depending on enrollment, course content is designed to cover a broad range of interests--for example, Central Asia as well as Russia--while demonstrating that many tools serve more than one specialty. The course will also discuss the resources and skills required for digital scholarship, as well as traditional approaches. It will draw on specialists for various sessions, and will include readings, assignments and a final paper. Special topics sections for in-depth study of the characteristics and information needs of specialist users of libraries; goals and objectives, policies, and services; reference and bibliographical aids; and effective services that satisfy these special needs. Course Information: 2 or 4 graduate hours. No professional credit. May be repeated. Prerequisite: IS 504 or consent of instructor.\n",
      "This course introduces Information Science as an engine of exploration and discovery for Biology. Students will learn: historical origins of bioinformatics; biological organisms and processes as information phenomena; central problems of biology that are addressible with informatics techniques; information representations for biological structures and processes; common information modeling, organization, and analysis tools used in bioinformatics such as databases, networks, ontologies, and simulations; complex sociotechnical dilemmas that arise in the practice of bioinformatics work; and bioinformatics as an important example of data science. Lecture, discussion, and hands-on components. Special topics sections for in-depth study of the characteristics and information needs of specialist users of libraries; goals and objectives, policies, and services; reference and bibliographical aids; and effective services that satisfy these special needs. Course Information: 2 or 4 graduate hours. No professional credit. May be repeated. Prerequisite: IS 504 or consent of instructor.\n",
      "\n",
      "2 or 4 credits. Special topics sections for in-depth study of the characteristics and information needs of specialist users of libraries; goals and objectives, policies, and services; reference and bibliographical aids; and effective services that satisfy these special needs. Course Information: 2 or 4 graduate hours. No professional credit. May be repeated. Prerequisite: IS 504 or consent of instructor.\n",
      "\n",
      "Data curation is the active and on-going management of data through its lifecycle of interest and usefulness to scholarship, science, and education; curation activities and policies enable data discovery and retrieval, maintain data quality and add value, and provide for re-use over time. This course provides an overview of a broad range of theoretical and practical problems in the emerging field, examining issues related to appraisal and selection, long-lived data collections, research lifecycles, workflows, metadata, and legal and intellectual property issues. Data curation is the active and on-going management of data through its lifecycle of interest and usefulness to scholarship, science, and education; curation activities and policies enable data discovery and retrieval, maintain data quality and add value, and provide for re-use over time. This course provides an overview of a broad range of theoretical and practical problems in the emerging field, examining issues related to appraisal and selection, long-lived data collections, research lifecycles, workflows, metadata, and legal and intellectual property issues. Course Information: 4 graduate hours. No professional credit.\n",
      "This is a hybrid course that meets with IS 532 AO. Data cleaning (also: cleansing) is the process of assessing and improving data quality for later analysis and use, and is a crucial part of data curation and analysis. This course identifies data quality issues throughout the data lifecycle, and reviews specific techniques and approaches for checking and improving data quality. Techniques are drawn primarily from the database community, using schema-level and instance-level information, and from different scientific communities, which are developing practical tools for data pre-processing and cleaning. Course Information: Same as CS 513. 4 graduate hours. No professional credit.\n",
      "\n",
      "This is a hybrid course that meets with IS 532 A. Data cleaning (also: cleansing) is the process of assessing and improving data quality for later analysis and use, and is a crucial part of data curation and analysis. This course identifies data quality issues throughout the data lifecycle, and reviews specific techniques and approaches for checking and improving data quality. Techniques are drawn primarily from the database community, using schema-level and instance-level information, and from different scientific communities, which are developing practical tools for data pre-processing and cleaning. Course Information: Same as CS 513. 4 graduate hours. No professional credit\n",
      "This course is designed to provide fundamental knowledge in providing research services and also introduce the latest trends and innovative approaches in research services. Information professionals are increasingly being challenged to provide not just data but insights and recommendations that are critical for strategic decision making. Using methodologies widely adopted by professional firms and researchers, this course will cover basics of research consulting including framing research problems, developing deliverables, and presenting professionally. Course Information: 4 graduate hours. No professional credit.\n",
      "\n",
      "This course is designed to provide fundamental knowledge in providing research services and also introduce the latest trends and innovative approaches in research services. Information professionals are increasingly being challenged to provide not just data but insights and recommendations that are critical for strategic decision making. Using methodologies widely adopted by professional firms and researchers, this course will cover basics of research consulting including framing research problems, developing deliverables, and presenting professionally. Course Information: 4 graduate hours. No professional credit.\n",
      "\n",
      "Students must contact Professor Yoo-Seong Song at Yoosong@illinois.edu for approval to register. As an experiential learning class, this course covers advanced techniques of business research with an emphasis on managing real-world client projects. Students will be assigned to teams and work with clients to identify research requirements and construct recommendations. Students will acquire critical skills in creating professional deliverables through client engagements. Students will build professional research portfolios at the conclusion of their projects. Course Information: 4 graduate hours. No professional credit. May be repeated in separate terms up to 8 hours if topics vary. Prerequisite: Instructor approval required.\n",
      "\n",
      "This is a required course for the MSIM degree. An introduction to statistical and probabilistic models as they pertain to quantifying information, assessing information quality, and principled application of information to decision making, with focus on model selection and gauging model quality. The course reviews relevant results from probability theory, parametric and non-parametric predictive models, as well as extensions of these models for unsupervised learning. Applications of statistical and probabilistic models to tasks in information management (e.g. prediction, ranking, and data reduction) are emphasized. Course Information: 4 graduate hours. No professional credit. Prerequisite: Graduate standing.\n",
      "\n",
      "This is a required course for the MSIM degree. An introduction to statistical and probabilistic models as they pertain to quantifying information, assessing information quality, and principled application of information to decision making, with focus on model selection and gauging model quality. The course reviews relevant results from probability theory, parametric and non-parametric predictive models, as well as extensions of these models for unsupervised learning. Applications of statistical and probabilistic models to tasks in information management (e.g. prediction, ranking, and data reduction) are emphasized. Course Information: 4 graduate hours. No professional credit. Prerequisite: Graduate standing.\n",
      "\n",
      "This is a required course for the MSIM degree. The character, success, and costs/benefits of information technologies are socio-technical matters. Because of this, best practice for IT design and integration relies on participants' ability to understand and create for the totality of those settings, including social and technical dimensions. This course provides students with analytic tools for examining socio-technical settings and experience in applying that knowledge in IT modeling, design and management. Course Information: 4 graduate hours. No professional credit.\n",
      "\n",
      "This is a required course for the MSIM degree. The character, success, and costs/benefits of information technologies are socio-technical matters. Because of this, best practice for IT design and integration relies on participants' ability to understand and create for the totality of those settings, including social and technical dimensions. This course provides students with analytic tools for examining socio-technical settings and experience in applying that knowledge in IT modeling, design and management. Course Information: 4 graduate hours. No professional credit.\n",
      "\n",
      "This is a required course for the MSIM degree. The character, success, and costs/benefits of information technologies are socio-technical matters. Because of this, best practice for IT design and integration relies on participants' ability to understand and create for the totality of those settings, including social and technical dimensions. This course provides students with analytic tools for examining socio-technical settings and experience in applying that knowledge in IT modeling, design and management. Course Information: 4 graduate hours. No professional credit.\n",
      "\n",
      "This course is intended to provide a historic and contemporary overview of social justice and advocacy work in librarianship. The course will be primarily focused on activities in the United States, though international movements and perspectives will be addressed. Topics include: desegregation of libraries and professional associations; recruitment and retention of library workers from traditionally underrepresented populations; library outreach; intellectual freedom; and emerging critical theories and issues in the field. Course Information: 2 graduate hours. No professional credit. Prerequisite: Graduate student.\n",
      "\n",
      "This course is designed to prepare future information professionals to develop and provide inclusive services to underrepresented populations, and to analyze and evaluate services to ensure equality of access to information in a range of institutional settings. Through readings, discussion, guest lectures, and site visits, students will explore diversity issues that impact information services and develop skills for planning, implementing, and evaluating programs and services for addressing these issues. Specific diversity issues include race and ethnicity; education; language; literacy; disability; gender and sexual orientation; social class; national origin; physical, psychological, and learning ability; and age. Course Information: 2 or 4 graduate hours. No professional credit.\n",
      "\n",
      "Required overnight field trip (Dates to be provided). A non-waived field trip fee of $100 will be assessed to tuition and fees bill. The students will also be responsible for the cost of their meals and one night's lodging. Questions may be directed to the instructor Professor Schlipf at fschlipf@illinois.edu. Studies the library's physical plant in the light of changing concepts and patterns of library service; analyzes present-day library buildings (both new and remodeled), and their comparison with each other as well as with buildings of the past; examines the interrelationship of staff, collections, users, and physical plant; discussion supplemented by visits to new libraries and conference with their staffs. A two-day field trip is required. Course Information: Additional fees may apply. See Class Schedule. 2 or 4 graduate hours. No professional credit.\n",
      "\n",
      "Network Analysis has become a widely adopted method for studying the interactions between social agents, information and infrastructures. The strong demand for expertise in network analysis has been fueled by the widespread acknowledgement that everything is connected and the popularity of social networking services. This interdisciplinary course introduces students to fundamental theories, concepts, methods and applications of network analysis in a practical manner. Students learn and practice hands-on skills in collecting, analyzing and visualizing network data. Course Information: 4 graduate hours. No professional credit.\n",
      "\n",
      "A comprehensive examination of the history and state-of-the-art in digital library research and practice. Focuses upon the theoretical, technological, human factors and evaluative components of digital library research and practice. Course includes an intensive reading of the literature, review of existing technologies and proof-of-concepts implementation projects. Students should have access to a personal computer on which they can experiment on their own with downloaded software tools. Students must be competent in basic computing including the installation and configuration of software packages. Course Information: 4 graduate hours. No professional credit. Prerequisite: IS 501 or consent of instructor; previous or concurrent enrollment in IS 452 (either the 2 credit hours or the 4 credit hours of IS 452 are acceptable), or proof of competency in programming.\n",
      "\n",
      "This is a required course for the MSIM degree. For MSLIS students IS 501, or concurrent enrollment in IS 501 and IS 561 is required. An introduction to the foundations of information modeling methods used in current digital library applications. The specific methods considered include relational database design, conceptual modeling, markup systems, and ontologies. The basic concepts underlying these methods are, respectively, relations, entities, grammars, and logic. Implementations include relational database design, ER/EER/UML diagrams, XML markup languages, and RDF/OWL semantic web languages. First order logic is emphasized throughout as the foundational framework for information modeling in general, and for contemporary web-based information management and delivery systems (including semantic web technologies) in particular. Course Information: 4 graduate hours. No professional credit.\n",
      "\n",
      "This is a required course for the MSIM degree. For MSLIS students IS 501, or concurrent enrollment in IS 501 and IS 561 is required. An introduction to the foundations of information modeling methods used in current digital library applications. The specific methods considered include relational database design, conceptual modeling, markup systems, and ontologies. The basic concepts underlying these methods are, respectively, relations, entities, grammars, and logic. Implementations include relational database design, ER/EER/UML diagrams, XML markup languages, and RDF/OWL semantic web languages. First order logic is emphasized throughout as the foundational framework for information modeling in general, and for contemporary web-based information management and delivery systems (including semantic web technologies) in particular. Course Information: 4 graduate hours. No professional credit.\n",
      "\n",
      "This is a required course for the MSIM degree. For MSLIS students IS 501, or concurrent enrollment in IS 501 and IS 561 is required. An introduction to the foundations of information modeling methods used in current digital library applications. The specific methods considered include relational database design, conceptual modeling, markup systems, and ontologies. The basic concepts underlying these methods are, respectively, relations, entities, grammars, and logic. Implementations include relational database design, ER/EER/UML diagrams, XML markup languages, and RDF/OWL semantic web languages. First order logic is emphasized throughout as the foundational framework for information modeling in general, and for contemporary web-based information management and delivery systems (including semantic web technologies) in particular. Course Information: 4 graduate hours. No professional credit.\n",
      "\n",
      "Combines theoretical examination of the design of metadata schema with their practical application in a variety of settings. Hands-on experience in the creation of descriptive, administrative, and structural metadata, along with their application in systems such as OAI harvesting, OpenURL resolution systems, metasearch systems and digital repositories, will help students develop a thorough understanding of current metadata standards as well as such issues as crosswalking, metadata schema, metadata's use in information retrieval and data management applications, and the role of standards bodies in metadata schema development. Course Information: 4 graduate hours. No professional credit. Prerequisite: IS 501 or consent of instructor.\n",
      "\n",
      "Introduces the higher education environment in which academic librarians and other information professionals operate in order to prepare students for leadership roles both within academic libraries and in their parent institutions. This course explores academic librarianship through a variety of lenses including: history and organization of higher education; accreditation; characteristics of students; roles of faculty and other campus professionals; and current issues and challenges. Course Information: 4 graduate hours. No professional credit.\n",
      "\n",
      "Provides an overview of the contexts, materials, services, and issues characterizing theological librarianship. Students interact with a number of librarians currently working in the field. Course Information: 2 or 4 graduate hours. No professional credit.\n",
      "\n",
      "Designed as a practical introduction to Rare Book and Special Collections Librarianship, to cover for the neophyte as well as the experienced librarian the many issues of these departments' responsibilities, including selection, acquisition, receiving, cataloging, processing, shelving, circulation, inter-library loan, reference, preservation and conservation, security, exhibition, publication, and so forth, including the uses of information technology. Course Information: 2 graduate hours. No professional credit.\n",
      "\n",
      "Administration of archives and manuscript collections in various types of institutions. Theoretical principles and archival practices of appraisal, acquisition, accessioning, arrangement, description, preservation, and reference services. Topics will include: records management programs, collecting archives programs/special collections, legal and ethical issues, public programming and advocacy, and the impact of new information technologies for preservation and access. Lectures, discussion, internet demonstration, and field trips to the Special Collections Department and University Archives. Course Information: 4 graduate hours. No professional credit.\n",
      "\n",
      "Covers the broad range of library preservation and conservation for book and nonbook materials relating these efforts to the total library environment; emphasizes how the preservation of collections affects collection management and development, technical services, access to materials and service to users. Course Information: 4 graduate hours. No professional credit.\n",
      "\n",
      "This seminar series focuses on research in the field of bioinformatics and computational biology. Course Information: Same as CPSC 591 and INFO 591. See INFO 591.\n",
      "Examines current problems with and approaches to digital preservation that are fundamental to the long-term accessibility of digital materials. Examines the range of current research problems, along with emerging methods and tools, and assesses a variety of organizational scenarios to plan and implement a preservation plan. Topics include basic information theory, preservation of complex digital objects; standards and specifications; sustainability and risk assessment; authenticity, integrity, quality control, and certification; and management of preservation activities. Course Information: 4 graduate hours. No professional credit.\n",
      "\n",
      "Examines current problems with and approaches to digital preservation that are fundamental to the long-term accessibility of digital materials. Examines the range of current research problems, along with emerging methods and tools, and assesses a variety of organizational scenarios to plan and implement a preservation plan. Topics include basic information theory, preservation of complex digital objects; standards and specifications; sustainability and risk assessment; authenticity, integrity, quality control, and certification; and management of preservation activities. Course Information: 4 graduate hours. No professional credit.\n",
      "This required course for all first-semester library and information science (LIS) doctoral students introduces students to the historical foundations of LIS. Examinations of the interactions of socio-cultural, technological and professional factors underlying the emergence of LIS provide a basis for exploring more recent developments in theory and practice. Course Information: 4 graduate hours. No professional credit. Prerequisite: LIS doctoral student in their first semester.\n",
      "\n",
      "Description: A basic level of scholarly communication literacy and sophistication is an increasing requirement of academic librarians, both to inform their work and to make those librarians effective partners in the scholarly enterprise. This course is designed to cultivate and develop that literacy. It will address topics such as: the established modes of scholarly communication and the emergence of alternatives influenced by the growth of social media and other forms of networked communication; the divide between formal and informal modes of scholarly communication and the current state of flux as that divide begins to collapse; the varying economies of scholarship (the reputation and prestige economy, the financial economy both in the market and in the mission-driven research academy, and the economic impact of scholarly communication decisions upon library budgets); modes of credentialing scholarship and their impact upon professional advancement, with special attention to peer rev Variety of newly developed and special topics courses on different aspects of the information sciences intended to augment the existing curriculum, offered as sections of IS 590. Course Information: Additional fees may apply. See Class Schedule. 1 to 4 graduate hours. No professional credit. May be repeated. Class Schedule Information: Class materials fee or field trip fee may be required.\n",
      "\n",
      "A foundational course in practical data analytics for the beginner. Students will be introduced to current data analysis tools and techniques for the querying, transformation, summarization, visualization, and modeling of data. Concurrently, the course will explore the terminology and theory behind data analysis and delve into the soft skills required to become an analytics advocate in the workplace. Tools used will include R, MySQL, and Tableau. No prior experience is assumed. Variety of newly developed and special topics courses on different aspects of the information sciences intended to augment the existing curriculum, offered as sections of IS 590. Course Information: Additional fees may apply. See Class Schedule. 1 to 4 graduate hours. No professional credit. May be repeated. Class Schedule Information: Class materials fee or field trip fee may be required.\n",
      "\n",
      "A hands-on exploration of multiple styles of bookbinding. Students will acquire fundamental technical knowledge by creating a variety of book structures using traditional tools and materials. An appreciation of the history of bindings will be gained through readings, visits to the Rare Book and Manuscript Library, the Conservation Lab and other field trips. Variety of newly developed and special topics courses on different aspects of the information sciences intended to augment the existing curriculum, offered as sections of IS 590. Course Information: Additional fees may apply. See Class Schedule. 1 to 4 graduate hours. No professional credit. May be repeated. Class Schedule Information: Class materials fee or field trip fee may be required.\n",
      "\n",
      "Prerequisites LIS 581, or consent of instructor. Community Archives are a collection of material that documents one or many aspects of a community's heritage, collected and preserved by that community and its members. These materials tell the story of groups of people who have often been excluded from mainstream archives, which have tended to focus on official documents and the lives of elites. We will investigate the role community archives play in supporting a sense of heritage and identity amongst members of a community and how they serve to raise awareness of these neglected stories in the wider public. Will work with local organizations that have agreed to take part, and students will contribute to the work of their archives by assisting in identifying records of long term value, documenting the experience of its members, providing the organization with practical and affordable solutions within a framework of best practice of archives and records management, and working collaborat Variety of newly developed and special topics courses on different aspects of the information sciences intended to augment the existing curriculum, offered as sections of IS 590. Course Information: Additional fees may apply. See Class Schedule. 1 to 4 graduate hours. No professional credit. May be repeated. Class Schedule Information: Class materials fee or field trip fee may be required.\n",
      "\n",
      "[Expanded title: Comics: Advising Child and Adult Readers] Comics--in forms including comic strips, comic books, graphic novels, webcomics, and manga--represent an important cultural medium, which appeals to persons of all ages and is collected by many school, public, and academic libraries. This course introduces students to the comics medium, its history, and its cultural influences. Students will read a variety of comics and learn about materials and techniques key to providing reader's advisory in this medium. Although this course focuses on American comics, some readings and discussions will touch on this medium's international dimensions. Variety of newly developed and special topics courses on different aspects of the information sciences intended to augment the existing curriculum, offered as sections of IS 590. Course Information: Additional fees may apply. See Class Schedule. 1 to 4 graduate hours. No professional credit. May be repeated. Class Schedule Information: Class materials fee or field trip fee may be required.\n",
      "\n",
      "Will look at some of the history of digital humanities, examine some case studies of digital tools and methods applied to humanities material in the context of research, and consider the implications of such projects for libraries, both in terms of providing support to their creators and in terms of collecting the results. This course considers fundamental concepts and common technologies to understand how they enable and constrain digital scholarship in the humanities, and to explore the abundant opportunities and challenges that digital projects pose for libraries. Through lectures, discussion, and hands-on use of digital tools and humanities data, students will gain familiarity with the shape and prominent features of the extensive landscape of digital humanities research, along with some of the basic skills required to navigate it. Variety of newly developed and special topics courses on different aspects of the information sciences intended to augment the existing curriculum, offered as sections of IS 590. Course Information: Additional fees may apply. See Class Schedule. 1 to 4 graduate hours. No professional credit. May be repeated. Class Schedule Information: Class materials fee or field trip fee may be required.\n",
      "\n",
      "Variety of newly developed and special topics courses on different aspects of the information sciences intended to augment the existing curriculum, offered as sections of IS 590. Course Information: Additional fees may apply. See Class Schedule. 1 to 4 graduate hours. No professional credit. May be repeated. Class Schedule Information: Class materials fee or field trip fee may be required.\n",
      "\n",
      "Data mining refers to the process of exploring large datasets with the goal of uncovering interesting patterns. This process usually involves a number of tasks such as data collection, pre-processing, and characterization; model fitting, selection, and evaluation; classification, clustering, and prediction. Although data mining has its roots in database management, it has grown into a discipline that focuses on algorithm design (to ensure computational feasibility) and statistical modeling (to separate the signal from the noise). It draws heavily upon a variety of other disciplines including statistics, machine learning, operations research, and information retrieval. Will cover the major data mining concepts, principles, and techniques that *every information scientist should know about.* Lectures will introduce and discuss the major approaches to data mining; computer lab sessions coupled with assignments will provide hands-on experience with these approaches; term projects offer the Variety of newly developed and special topics courses on different aspects of the information sciences intended to augment the existing curriculum, offered as sections of IS 590. Course Information: Additional fees may apply. See Class Schedule. 1 to 4 graduate hours. No professional credit. May be repeated. Class Schedule Information: Class materials fee or field trip fee may be required.\n",
      "\n",
      "Student Teaching Seminar\n",
      "nan\n",
      "Metacourse for all on campus 501\n",
      "Course Information: Same as INFO 202 and MACS 202. See INFO 202\n",
      "Course Information: Same as INFO 202 and MACS 202. See INFO 202\n",
      "Course Information: Same as INFO 202 and MACS 202. See INFO 202\n",
      "Course Information: Same as INFO 202 and MACS 202. See INFO 202\n",
      "Course Information: Same as INFO 202 and MACS 202. See INFO 202\n",
      "Course Information: Same as INFO 202 and MACS 202. See INFO 202\n",
      "Course Information: Same as INFO 202 and MACS 202. See INFO 202\n",
      " Explores cultural ideas about computers, including hopes and fears about the effects of computers on our lives. Will analyze images of computers in fiction and movies. The course will also examine hackers, online subcultures, and other computer-related subcultures, and the integration of computers into various cultural practices. Directed and supervised investigation of selected topics in information studies that may include among others computers and culture; information policy; community information systems; production, retrieval and evaluation of scientific or social science knowledge; computer-mediated communication; and computer-supported cooperative work\n",
      "Critically examine the ways in which information and communication technologies (ICTs) are shaped by -- and help to shape -- social relations of race and gender; and we will extend our review to other categories of identity and exclusion as well, such as age, ability, geography and ethnicity. We will also explore the various benefits and burdens of the information society and how these are socially distributed, and conduct case-studies of policies, practices, and programs designed to enhance opportunities and/or mitigate disadvantages through the creative or disruptive use of ICTs. Directed and supervised investigation of selected topics in information studies that may include among others computers and culture; information policy; community information systems; production, retrieval and evaluation of scientific or social science knowledge; computer-mediated communication; and computer-supported cooperative work.\n",
      "This course provides an introduction to the technologies behind the Web. Topics covered include: hypertext, hypermedia, the history of the Web, the role of Web standards and their impact on the development of Web resources. The course introduces principles of Web design and usability. Students will gain an understanding how the Web works and how to design, construct, evaluate, and maintain Web-based materials. Directed and supervised investigation of selected topics in information studies that may include among others computers and culture; information policy; community information systems; production, retrieval and evaluation of scientific or social science knowledge; computer-mediated communication; and computer-supported cooperative work\n",
      "This course provides an introduction to the technologies behind the Web. Topics covered include: hypertext, hypermedia, the history of the Web, the role of Web standards and their impact on the development of Web resources. The course introduces principles of Web design and usability. Students will gain an understanding how the Web works and how to design, construct, evaluate, and maintain Web-based materials. Directed and supervised investigation of selected topics in information studies that may include among others computers and culture; information policy; community information systems; production, retrieval and evaluation of scientific or social science knowledge; computer-mediated communication; and computer-supported cooperative work\n",
      "Meets with IS 404 AU. Evaluation, selection and use of books and other resources for young adults (ages 12-18) in public libraries and school media centers; explores standard selection criteria for print and nonprint materials in all formats and develops the ability to evaluate and promote materials according to their various uses (personal and curricular) and according to young adults' various needs (intellectual, emotional, social and physical). Course Information: 3 undergraduate hours. 2 or 4 graduate hours. Prerequisite: For undergraduates, junior or senior standing and consent of instructo\n",
      "Restricted to graduate students in the School of Information Sciences. Evaluation, selection and use of books and other resources for young adults (ages 12-18) in public libraries and school media centers; explores standard selection criteria for print and nonprint materials in all formats and develops the ability to evaluate and promote materials according to their various uses (personal and curricular) and according to young adults' various needs (intellectual, emotional, social and physical). Course Information: 3 undergraduate hours. 2 or 4 graduate hours. Prerequisite: For undergraduates, junior or senior standing and consent of instructor.\n",
      "For undergraduates, junior or senior standing. Meets with IS 404 AG. Evaluation, selection and use of books and other resources for young adults (ages 12-18) in public libraries and school media centers; explores standard selection criteria for print and nonprint materials in all formats and develops the ability to evaluate and promote materials according to their various uses (personal and curricular) and according to young adults' various needs (intellectual, emotional, social and physical). Course Information: 3 undergraduate hours. 2 or 4 graduate hours. Prerequisite: For undergraduates, junior or senior standing and consent of instructor.\n",
      "2 or 4 hours; Meets with IS 409 AU. Fundamental principles of the art of storytelling including techniques of adaptation and presentation; content and sources of materials; methods of learning; practice in storytelling; planning the story hour for school and public libraries and other public information settings; and audio, video, and digital media. Course Information: 3 undergraduate hours. 2 or 4 graduate hours. Prerequisite: For undergraduates, junior or senior standing and consent of instructor.\n",
      "2 or 4 credits. Restricted to graduate students in the School of Information Sciences. Fundamental principles of the art of storytelling including techniques of adaptation and presentation; content and sources of materials; methods of learning; practice in storytelling; planning the story hour for school and public libraries and other public information settings; and audio, video, and digital media. Course Information: 3 undergraduate hours. 2 or 4 graduate hours. Prerequisite: For undergraduates, junior o\n",
      "2 or 4 hours; Meets with IS 409 AU. Fundamental principles of the art of storytelling including techniques of adaptation and presentation; content and sources of materials; methods of learning; practice in storytelling; planning the story hour for school and public libraries and other public information settings; and audio, video, and digital media. Course Information: 3 undergraduate hours. 2 or 4 graduate hours. Prerequisite: For undergraduates, junior or senior standing and consent of instructor.\n",
      "2 or 4 hours; Meets with IS 409 AU. Fundamental principles of the art of storytelling including techniques of adaptation and presentation; content and sources of materials; methods of learning; practice in storytelling; planning the story hour for school and public libraries and other public information settings; and audio, video, and digital media. Course Information: 3 undergraduate hours. 2 or 4 graduate hours. Prerequisite: For undergraduates, junior or senior standing and consent of instructor.\n",
      "Meets with IS418AU. Location: Room 109\n",
      "Community engagement refers to the multiple ways that information professionals in libraries and other settings learn about, collaborate with, and provide service and outreach to community members. Provides an introduction to, and overview of, community engagement theory and practice. A significant portion of coursework will take the form of service learning or community-based research via approved projects that match students' interests. Course Information: 3 undergraduate hours. 4 graduate hours.\n",
      "Meets with IS 418 AG. Community engagement refers to the multiple ways that information professionals in libraries and other settings learn about, collaborate with, and provide service and outreach to community members. Provides an introduction to, and overview of, community engagement theory and practice. A significant portion of coursework will take the form of service learning or community-based research via approved projects that match students' interests. Course Information: 3 undergraduate hours. 4 graduate hours.\n",
      "2 or 4 credits. This is a hybrid course that meets with IS 445 AU and IS 445 AO. Evaluation, selection and use of information books and other resources for young people (ages 0-18) in public libraries and school media centers; explores standard selection criteria for factual print and nonprint materials in all formats and develops the ability to evaluate and promote nonfiction books and resources according to their various uses (personal and curricular) and according to young people's various needs (intellectual, emotional, social and physical). Course Information: 3 undergraduate hours. 2 or 4 graduate hours.\n",
      "2 or 4 credits. This is a hybrid course that meets with IS 445 AU and IS 445 AO. Evaluation, selection and use of information books and other resources for young people (ages 0-18) in public libraries and school media centers; explores standard selection criteria for factual print and nonprint materials in all formats and develops the ability to evaluate and promote nonfiction books and resources according to their various uses (personal and curricular) and according to young people's various needs (intellectual, emotional, social and physical). Course Information: 3 undergraduate hours. 2 or 4 graduate hours.\n",
      "2 or 4 credits. This is a hybrid course that meets with IS 445 AU and IS 445 AO. Evaluation, selection and use of information books and other resources for young people (ages 0-18) in public libraries and school media centers; explores standard selection criteria for factual print and nonprint materials in all formats and develops the ability to evaluate and promote nonfiction books and resources according to their various uses (personal and curricular) and according to young people's various needs (intellectual, emotional, social and physical). Course Information: 3 undergraduate hours. 2 or 4 graduate hours.\n",
      "This is a hybrid course that meets with IS 451 AO. Hands-on introduction to technology systems for use in information environments. The course steps students through choosing, installing, and managing computer hardware and operating systems, as well as networking hardware and software. The course also explores alternatives for administering IT and how to assess emerging technologies and their applicability to library settings. While students are expected to have basic computer competencies per the School of Information Sciences admissions requirements, the goal of the course is to provide practical detailed knowledge of the technology for all levels of competency. The primary objective is to provide a conceptual understanding of the topics of the day through concrete hands-on examples of implementation. By learning the underlying concepts, students will be better prepared to help design networked systems that not only work well today, but also develop systems that can be easily adapted for the needs and technologies of tomorrow. Course.\n",
      "This is a hybrid course that meets with IS 451 AO. Hands-on introduction to technology systems for use in information environments. The course steps students through choosing, installing, and managing computer hardware and operating systems, as well as networking hardware and software. The course also explores alternatives for administering IT and how to assess emerging technologies and their applicability to library settings. While students are expected to have basic computer competencies per the School of Information Sciences admissions requirements, the goal of the course is to provide practical detailed knowledge of the technology for all levels of competency. The primary objective is to provide a conceptual understanding of the topics of the day through concrete hands-on examples of implementation. By learning the underlying concepts, students will be better prepared to help design networked systems that not only work well today, but also develop systems that can be easily adapted for the needs and technologies of tomorrow. Course.\n",
      "2 or 4 credits. Laptop Required. Covers common data, document processing, and programming constructs and concepts. Focuses on problem solving and abstraction with a programming language. By the end of the course students will be able to design, develop and test a moderately complex computer program to manage full text, bibliographic records or multimedia. The course prepares students for working with applications in data analytics, data science, digital libraries, text mining and knowledge management. No prior programming background is assumed. Course Information: 4 undergraduate hours. 2 or 4 graduate hours.\n",
      "2 or 4 credits. Covers common data, document processing, and programming constructs and concepts. Focuses on problem solving and abstraction with a programming language. By the end of the course students will be able to design, develop and test a moderately complex computer program to manage full text, bibliographic records or multimedia. The course prepares students for working with applications in data analytics, data science, digital libraries, text mining and knowledge management. No prior programming background is assumed. Course Information: 4 undergraduate hours. 2 or 4 graduate hours.\n",
      "Laptop Required. Covers common data, document processing, and programming constructs and concepts. Focuses on problem solving and abstraction with a programming language. By the end of the course students will be able to design, develop and test a moderately complex computer program to manage full text, bibliographic records or multimedia. The course prepares students for working with applications in data analytics, data science, digital libraries, text mining and knowledge management. No prior programming background is assumed. Course Information: 4 undergraduate hours. 2 or 4 graduate hours.\n",
      "2 or 4 credits. Laptop Required. Covers common data, document processing, and programming constructs and concepts. Focuses on problem solving and abstraction with a programming language. By the end of the course students will be able to design, develop and test a moderately complex computer program to manage full text, bibliographic records or multimedia. The course prepares students for working with applications in data analytics, data science, digital libraries, text mining and knowledge management. No prior programming background is assumed. Course Information: 4 undergraduate hours. 2 or 4 graduate hours.\n",
      "Laptop Required. Covers common data, document processing, and programming constructs and concepts. Focuses on problem solving and abstraction with a programming language. By the end of the course students will be able to design, develop and test a moderately complex computer program to manage full text, bibliographic records or multimedia. The course prepares students for working with applications in data analytics, data science, digital libraries, text mining and knowledge management. No prior programming background is assumed. Course Information: 4 undergraduate hours. 2 or 4 graduate hours.\n",
      "2 or 4 credits. Covers common data, document processing, and programming constructs and concepts. Focuses on problem solving and abstraction with a programming language. By the end of the course students will be able to design, develop and test a moderately complex computer program to manage full text, bibliographic records or multimedia. The course prepares students for working with applications in data analytics, data science, digital libraries, text mining and knowledge management. No prior programming background is assumed. Course Information: 4 undergraduate hours. 2 or 4 graduate hours.\n",
      "\n",
      "4 Credit Hours. Meets with IS 457 IDU This course introduces students to data science approaches that have emerged from recent advances in programming and computing technology. They will learn to collect and use data from a variety of sources, including the web, in a modern statistical inference and visualization paradigm. The course will be based in the programming language R, but will also use HTML, regular expressions, basic unix tools, XML, and SQL. Supervised and unsupervised statistical learning techniques made possible by recent advances in computing power will also be covered. Course Information: 4 undergraduate hours. 4 graduate hours.\n",
      "\n",
      "2 or 4 credits. Provides an introduction to learning theories and instructional methods used in a variety of information settings, including libraries, archives, museums, online, and educational environments. Includes an overview of theoretical and applied research and discusses relevant issues and concepts. Students will have an opportunity to design and present an instructional program. Course Information: 3 undergraduate hours. 2 or 4 graduate hours.\n",
      "\n",
      "This is a hybrid course that meets with IS 461AU and IS 461AO. Covers information organization and access in museums, exploring the relationship between information technology and modern museum environments. Students learn about classification systems for museums, computer systems for information storage and retrieval, universal access to shared electronic data, copyright in the digital world, virtual museums, interactive exhibits, and information management in museums, through lectures, computer-based activities, and interactive discussions. The final project involves design of an electronic portfolio of virtual museum resources. Students are encouraged to approach class topics from their individual backgrounds in the humanities, sciences, or social sciences. The course examines various ways that information technologies are and might be used in museums and other cultural heritage settings. Museum websites, visitor apps, interactive exhibits, and uses of digitized and federated collections are explored. Students gain an introduction to Design Thinking by working on a final project that involves the development of a novel computational resource. Students are encouraged to approach class topics from their individual backgrounds in the humanities, sciences, or social sciences. Course Information: 4 undergraduate hours. 4 graduate hours. Prerequisite: Junior or senior standing and consent of instructor for undergraduates; consent of instructor for non-iSchool graduate students for on-campus sections.\n",
      "\n",
      "This is a hybrid course that meets with IS 461AU and IS 461AO. Covers information organization and access in museums, exploring the relationship between information technology and modern museum environments. Students learn about classification systems for museums, computer systems for information storage and retrieval, universal access to shared electronic data, copyright in the digital world, virtual museums, interactive exhibits, and information management in museums, through lectures, computer-based activities, and interactive discussions. The final project involves design of an electronic portfolio of virtual museum resources. Students are encouraged to approach class topics from their individual backgrounds in the humanities, sciences, or social sciences. The course examines various ways that information technologies are and might be used in museums and other cultural heritage settings. Museum websites, visitor apps, interactive exhibits, and uses of digitized and federated collections are explored. Students gain an introduction to Design Thinking by working on a final project that involves the development of a novel computational resource. Students are encouraged to approach class topics from their individual backgrounds in the humanities, sciences, or social sciences. Course Information: 4 undergraduate hours. 4 graduate hours. Prerequisite: Junior or senior standing and consent of instructor for undergraduates; consent of instructor for non-iSchool graduate students for on-campus sections.\n",
      "\n",
      "This is a hybrid course that meets with IS 461AU and IS 461AO. Covers information organization and access in museums, exploring the relationship between information technology and modern museum environments. Students learn about classification systems for museums, computer systems for information storage and retrieval, universal access to shared electronic data, copyright in the digital world, virtual museums, interactive exhibits, and information management in museums, through lectures, computer-based activities, and interactive discussions. The final project involves design of an electronic portfolio of virtual museum resources. Students are encouraged to approach class topics from their individual backgrounds in the humanities, sciences, or social sciences. The course examines various ways that information technologies are and might be used in museums and other cultural heritage settings. Museum websites, visitor apps, interactive exhibits, and uses of digitized and federated collections are explored. Students gain an introduction to Design Thinking by working on a final project that involves the development of a novel computational resource. Students are encouraged to approach class topics from their individual backgrounds in the humanities, sciences, or social sciences. Course Information: 4 undergraduate hours. 4 graduate hours. Prerequisite: Junior or senior standing and consent of instructor for undergraduates; consent of instructor for non-iSchool graduate students for on-campus sections.\n",
      "\n",
      "Meets with IS 462 UG3. The course provides an introduction to the concepts, technologies, practices and challenges of Information Assurance. It takes a broad view of Information Security and Privacy and covers the essential principles for the protection of information systems; the relevant technologies; organizational concerns; policies, human aspects; legal approaches; criminology; and ethical issues. Students will gain an appreciation for the difficulty of designing, developing, deploying and maintaining information systems, services and software products that are secure and comply with expectations of security and privacy. Course Information: 3 undergraduate hours. 4 graduate hours.\n",
      "\n",
      "Meets with IS 462 G4. The course provides an introduction to the concepts, technologies, practices and challenges of Information Assurance. It takes a broad view of Information Security and Privacy and covers the essential principles for the protection of information systems; the relevant technologies; organizational concerns; policies, human aspects; legal approaches; criminology; and ethical issues. Students will gain an appreciation for the difficulty of designing, developing, deploying and maintaining information systems, services and software products that are secure and comply with expectations of security and privacy. Course Information: 3 undergraduate hours. 4 graduate hours.\n"
     ]
    },
    {
     "name": "stdout",
     "output_type": "stream",
     "text": [
      "Course Information: Same as CPSC 491 and INFO 491. See INFO 491.\n",
      "The course provides students with both theoretical and practical training in good database design. By the end of the course students will create a conceptual data model using entity-relationship diagrams, understand the importance of referential integrity and how to enforce data integrity constraints when creating a database. Students will be proficient in writing basic queries in the structured query language (SQL) and have a general understanding of relational database theory including normalization. Directed and supervised investigation of selected topics in information studies that may include among others the social, political, and historical contexts of information creation and dissemination; computers and culture; information policy; community information systems; production, retrieval and evaluation of knowledge; computer-mediated communication. Course Information: Additional fees may apply. See Class Schedule. 2 to 4 undergraduate hours. 2 to 4 graduate hours. May be repeated. Prerequisite: For undergraduates, junior standing and IS 202, or consent of instructor. Class Schedule Information: Class materials fee or field trip fee may be required.\n",
      "\n",
      "Directed and supervised investigation of selected topics in information studies that may include among others the social, political, and historical contexts of information creation and dissemination; computers and culture; information policy; community information systems; production, retrieval and evaluation of knowledge; computer-mediated communication. Course Information: Additional fees may apply. See Class Schedule. 2 to 4 undergraduate hours. 2 to 4 graduate hours. May be repeated. Prerequisite: For undergraduates, junior standing and IS 202, or consent of instructor. Class Schedule Information: Class materials fee or field trip fee may be required.\n",
      "The course will examine the current state of global health informatics from both a local and global perspective, including opportunities and challenges. Focus will be placed on the transition from paper-based records to electronic systems, with a particular emphasis on large international open-source initiatives and use of mobile devices. Guest speakers will share their experiences with WHO, international education based on mobile devices, and regulatory issues. Meets with IS 590 GHG. Directed and supervised investigation of selected topics in information studies that may include among others the social, political, and historical contexts of information creation and dissemination; computers and culture; information policy; community information systems; production, retrieval and evaluation of knowledge; computer-mediated communication. Course Information: Additional fees may apply. See Class Schedule. 2 to 4 undergraduate hours. 2 to 4 graduate hours. May be repeated. Prerequisite: For undergraduates, junior standing and IS 202, or consent of instructor. Class Schedule Information: Class materials fee or field trip fee may be required.\n",
      "\n",
      "This course introduces geographic information systems in the broader context of information management in business, government, and civil society. It highlights the importance of location and information about location across these realms. In addition to substantial hands-on work with traditional geographic information systems software, the course will provide exposure to other systems of people, processes, hardware, and software for collecting, managing, analyzing, and visualizing information about locations on the surface of the earth. Directed and supervised investigation of selected topics in information studies that may include among others the social, political, and historical contexts of information creation and dissemination; computers and culture; information policy; community information systems; production, retrieval and evaluation of knowledge; computer-mediated communication. Course Information: Additional fees may apply. See Class Schedule. 2 to 4 undergraduate hours. 2 to 4 graduate hours. May be repeated. Prerequisite: For undergraduates, junior standing and IS 202, or consent of instructor. Class Schedule Information: Class materials fee or field trip fee may be required.\n",
      "\n",
      "This course introduces geographic information systems in the broader context of information management in business, government, and civil society. It highlights the importance of location and information about location across these realms. In addition to substantial hands-on work with traditional geographic information systems software, the course will provide exposure to other systems of people, processes, hardware, and software for collecting, managing, analyzing, and visualizing information about locations on the surface of the earth. Directed and supervised investigation of selected topics in information studies that may include among others the social, political, and historical contexts of information creation and dissemination; computers and culture; information policy; community information systems; production, retrieval and evaluation of knowledge; computer-mediated communication. Course Information: Additional fees may apply. See Class Schedule. 2 to 4 undergraduate hours. 2 to 4 graduate hours. May be repeated. Prerequisite: For undergraduates, junior standing and IS 202, or consent of instructor. Class Schedule Information: Class materials fee or field trip fee may be required.\n",
      "\n",
      "Introduces students to a range of rapid prototyping techniques and methods to analyze needs, opportunities and design spaces. Students will work in teams to develop ideas for novel computational devices or applications to meet identified needs. Covers the interlinked entrepreneurial skills of identifying an unmet need, exploiting technological opportunities, exploring a design space to refine an idea, and communicating a design vision through demonstrations with prototypes and proofs of concept. This enables developers to show how their envisaged working interactive technology will be used productively in a particular real-life context. Communicating the vision of computational devices is a challenge because dynamic use in context is hard for people other than the device's developers to imagine. The ability to produce convincing, clear, powerful demonstrations even at the early stages of a project is a highly valuable entrepreneurial skill, and also highly applicable within an organiza Directed and supervised investigation of selected topics in information studies that may include among others the social, political, and historical contexts of information creation and dissemination; computers and culture; information policy; community information systems; production, retrieval and evaluation of knowledge; computer-mediated communication. Course Information: Additional fees may apply. See Class Schedule. 2 to 4 undergraduate hours. 2 to 4 graduate hours. May be repeated. Prerequisite: For undergraduates, junior standing and IS 202, or consent of instructor. Class Schedule Information: Class materials fee or field trip fee may be required.\n",
      "\n",
      "2 or 4 credits. This course covers the impact of global and national computer networks on politics, culture, and social relations during a time of upheaval and revolutionary change. Topics may include the new social media, the politics and culture of the internet, hacktivism, cyber warfare, and mobile telephony and their role in the formation, dissemination, manipulation, and suppression of public opinion in Russia/Eurasia, the China/Pacific region, Central/South America, as well as Africa, Iran, and the Middle East. Directed and supervised investigation of selected topics in information studies that may include among others the social, political, and historical contexts of information creation and dissemination; computers and culture; information policy; community information systems; production, retrieval and evaluation of knowledge; computer-mediated communication. Course Information: Additional fees may apply. See Class Schedule. 2 to 4 undergraduate hours. 2 to 4 graduate hours. May be repeated. Prerequisite: For undergraduates, junior standing and IS 202, or consent of instructor. Class Schedule Information: Class materials fee or field trip fee may be required.\n",
      "\n",
      "2 or 4 credits. This course covers the impact of global and national computer networks on politics, culture, and social relations during a time of upheaval and revolutionary change. Topics may include the new social media, the politics and culture of the internet, hacktivism, cyber warfare, and mobile telephony and their role in the formation, dissemination, manipulation, and suppression of public opinion in Russia/Eurasia, the China/Pacific region, Central/South America, as well as Africa, Iran, and the Middle East. Directed and supervised investigation of selected topics in information studies that may include among others the social, political, and historical contexts of information creation and dissemination; computers and culture; information policy; community information systems; production, retrieval and evaluation of knowledge; computer-mediated communication. Course Information: Additional fees may apply. See Class Schedule. 2 to 4 undergraduate hours. 2 to 4 graduate hours. May be repeated. Prerequisite: For undergraduates, junior standing and IS 202, or consent of instructor. Class Schedule Information: Class materials fee or field trip fee may be required.\n",
      "\n",
      "2 or 4 credits. This is an introductory course in the fundamentals of technology in LIS. Following an overview of information system concepts, terminology and usage in organizations, there will be discussions covering a wide variety of topics including hardware and software, systems development (traditional and modern methods), programming languages, databases and the internet. Special attention will be paid to the knowledge and skills needed to succeed at the iSchool (servers, file access and management, office software, markup languages, website design and development, etc.) and LIS professional settings. Application of concepts is key. Readings will be supplemented with hands-on exercises and collaborative projects. Directed and supervised investigation of selected topics in information studies that may include among others the social, political, and historical contexts of information creation and dissemination; computers and culture; information policy; community information systems; production, retrieval and evaluation of knowledge; computer-mediated communication. Course Information: Additional fees may apply. See Class Schedule. 2 to 4 undergraduate hours. 2 to 4 graduate hours. May be repeated. Prerequisite: For undergraduates, junior standing and IS 202, or consent of instructor. Class Schedule Information: Class materials fee or field trip fee may be required.\n",
      "\n",
      "This is a 10 week course ending March 30, 2018. Meets with IS 501 B (Lecture). All other students must contact Professor Jodi Schneider at jodi@illinois.edu for approval. Emphasizes information organization and access in settings and systems of different kinds. Traces the information transfer process from the generation of knowledge through its storage and use in both print and non-print formats. Consideration will be given to the creation of information systems: the principles and practice of selection and preservation, methods of organizing information for retrieval and display, the operation of organizations that provide information services, and the information service needs of various user communities. Course Information: 4 graduate hours. No professional credit. Required M.S. in library and information science degree core course.\n",
      "\n",
      "Required core course for MS/LIS students. Emphasizes information organization and access in settings and systems of different kinds. Traces the information transfer process from the generation of knowledge through its storage and use in both print and non-print formats. Consideration will be given to the creation of information systems: the principles and practice of selection and preservation, methods of organizing information for retrieval and display, the operation of organizations that provide information services, and the information service needs of various user communities. Course Information: 4 graduate hours. No professional credit. Required M.S. in library and information science degree core course.\n",
      "Required core course for MS/LIS students. Emphasizes information organization and access in settings and systems of different kinds. Traces the information transfer process from the generation of knowledge through its storage and use in both print and non-print formats. Consideration will be given to the creation of information systems: the principles and practice of selection and preservation, methods of organizing information for retrieval and display, the operation of organizations that provide information services, and the information service needs of various user communities. Course Information: 4 graduate hours. No professional credit. Required M.S. in library and information science degree core course.\n",
      "This is a 10 week course ending March 30, 2018. Meets with IS 501 B (Lecture). All other students must contact Professor Jodi Schneider at jodi@illinois.edu for approval. Emphasizes information organization and access in settings and systems of different kinds. Traces the information transfer process from the generation of knowledge through its storage and use in both print and non-print formats. Consideration will be given to the creation of information systems: the principles and practice of selection and preservation, methods of organizing information for retrieval and display, the operation of organizations that provide information services, and the information service needs of various user communities. Course Information: 4 graduate hours. No professional credit. Required M.S. in library and information science degree core course.\n",
      "\n",
      "Required core course for MS/LIS students. Explores major issues in the library and information science professions as they involve their communities of users and sponsors. Analyzes specific situations that reflect the professional agenda of these fields, including intellectual freedom, community service, professional ethics, social responsibilities, intellectual property, literacy, historical and international models, the socio-cultural role of libraries and information agencies and professionalism in general, focusing in particular on the interrelationships among these issues. Course Information: 2 or 4 graduate hours. No professional credit. Prerequisite: Required M.S. in library and information science degree core course.\n",
      "Required core course for MS/LIS students. Explores major issues in the library and information science professions as they involve their communities of users and sponsors. Analyzes specific situations that reflect the professional agenda of these fields, including intellectual freedom, community service, professional ethics, social responsibilities, intellectual property, literacy, historical and international models, the socio-cultural role of libraries and information agencies and professionalism in general, focusing in particular on the interrelationships among these issues. Course Information: 2 or 4 graduate hours. No professional credit. Prerequisite: Required M.S. in library and information science degree core course.\n",
      "Required core course for MS/LIS students. Explores major issues in the library and information science professions as they involve their communities of users and sponsors. Analyzes specific situations that reflect the professional agenda of these fields, including intellectual freedom, community service, professional ethics, social responsibilities, intellectual property, literacy, historical and international models, the socio-cultural role of libraries and information agencies and professionalism in general, focusing in particular on the interrelationships among these issues. Course Information: 2 or 4 graduate hours. No professional credit. Prerequisite: Required M.S. in library and information science degree core course.\n",
      "Required core course for MS/LIS students. Explores major issues in the library and information science professions as they involve their communities of users and sponsors. Analyzes specific situations that reflect the professional agenda of these fields, including intellectual freedom, community service, professional ethics, social responsibilities, intellectual property, literacy, historical and international models, the socio-cultural role of libraries and information agencies and professionalism in general, focusing in particular on the interrelationships among these issues. Course Information: 2 or 4 graduate hours. No professional credit. Prerequisite: Required M.S. in library and information science degree core course.\n"
     ]
    }
   ],
   "source": [
    "for text in dataset['Description'][:no_of_nodes]:\n",
    "    print(text)"
   ]
  },
  {
   "cell_type": "markdown",
   "metadata": {},
   "source": [
    "Extract the text for each of the rows from the data frame.\n",
    "\n",
    "once done generate the list of words from that. \n",
    "\n",
    "store the words corresponding to the course description into a list of list structure. \n"
   ]
  },
  {
   "cell_type": "code",
   "execution_count": 79,
   "metadata": {
    "collapsed": true
   },
   "outputs": [],
   "source": [
    "### The above earlier two steps are done in one go in this code\n",
    "gen_word_token_docs = [[ w.lower() for w in word_tokenize(str(text))] for text in dataset['Description'][:no_of_nodes]]"
   ]
  },
  {
   "cell_type": "code",
   "execution_count": 80,
   "metadata": {
    "collapsed": true
   },
   "outputs": [],
   "source": [
    "### The below code is generating the dictionary for us. \n",
    "### so for every word we have an index\n",
    "\n",
    "word_dictionary = gensim.corpora.Dictionary(gen_word_token_docs)"
   ]
  },
  {
   "cell_type": "code",
   "execution_count": 81,
   "metadata": {},
   "outputs": [
    {
     "name": "stdout",
     "output_type": "stream",
     "text": [
      "modelling\n",
      "100\n"
     ]
    }
   ],
   "source": [
    "print(word_dictionary[100])\n",
    "print(word_dictionary.token2id['modelling'])"
   ]
  },
  {
   "cell_type": "code",
   "execution_count": 82,
   "metadata": {},
   "outputs": [
    {
     "name": "stdout",
     "output_type": "stream",
     "text": [
      "Number of words in dictionary: 1736\n"
     ]
    }
   ],
   "source": [
    "print(\"Number of words in dictionary:\",len(word_dictionary))\n",
    "#for i in range(len(word_dictionary)):\n",
    "    #print(i, word_dictionary[i])"
   ]
  },
  {
   "cell_type": "code",
   "execution_count": 83,
   "metadata": {
    "collapsed": true
   },
   "outputs": [],
   "source": [
    "### In this case we are generating our corpus from the word dictionary \n",
    "### This gives us the frequency distribution of the words. \n",
    "### It will have the index of the word and the no of times it appeared in course description for the course. \n",
    "\n",
    "### For example word :course\" has index of 5 and it appeared 1 in the course 1, \n",
    "### whereas it also appeared 1 time in the second course too, but not in course 3. \n",
    "corpus = [word_dictionary.doc2bow(gen_doc) for gen_doc in gen_word_token_docs]\n",
    "\n",
    "#corpus"
   ]
  },
  {
   "cell_type": "code",
   "execution_count": 84,
   "metadata": {
    "collapsed": true
   },
   "outputs": [],
   "source": [
    "### This code generates the tf-idf for the corpus. \n",
    "### the value is calculated as a log of the term frequency and how rare is the word across documents. \n",
    "### tf-idf = tf * log(N/D)\n",
    "\n",
    "tf_idf = gensim.models.TfidfModel(corpus)"
   ]
  },
  {
   "cell_type": "code",
   "execution_count": 85,
   "metadata": {
    "collapsed": true
   },
   "outputs": [],
   "source": [
    "### This creates the similarities between the documents \n",
    "sims = gensim.similarities.Similarity('data/',tf_idf[corpus],\n",
    "                                      num_features=len(word_dictionary))\n",
    "sims.save(\"data/similarity_docs.index\")"
   ]
  },
  {
   "cell_type": "code",
   "execution_count": 86,
   "metadata": {},
   "outputs": [
    {
     "name": "stdout",
     "output_type": "stream",
     "text": [
      "['data', 'visualization', 'is', 'crucial', 'to', 'conveying', 'information', 'drawn', 'from', 'models', ',', 'observations', 'or', 'investigations', '.', 'this', 'course', 'will', 'provide', 'an', 'overview', 'of', 'historical', 'and', 'modern', 'techniques', 'for', 'visualizing', 'data', ',', 'drawing', 'on', 'quantitative', ',', 'statistical', ',', 'and', 'network-focused', 'datasets', '.', 'topics', 'will', 'include', 'construction', 'of', 'communicative', 'visualizations', ',', 'the', 'modern', 'software', 'ecosystem', 'of', 'visualization', ',', 'and', 'techniques', 'for', 'aggregation', 'and', 'interpretation', 'of', 'data', 'through', 'visualization.particular', 'attention', 'will', 'be', 'paid', 'to', 'the', 'python', 'ecosystem', 'and', 'multi-dimensional', 'quantitative', 'datasets', '.', 'variety', 'of', 'newly', 'developed', 'and', 'special', 'topics', 'courses', 'on', 'different', 'aspects', 'of', 'the', 'information', 'sciences', 'intended', 'to', 'augment', 'the', 'existing', 'curriculum', ',', 'offered', 'as', 'sections', 'of', 'is', '590', '.', 'course', 'information', ':', 'additional', 'fees', 'may', 'apply', '.', 'see', 'class', 'schedule', '.', '1', 'to', '4', 'graduate', 'hours', '.', 'no', 'professional', 'credit', '.', 'may', 'be', 'repeated', '.', 'class', 'schedule', 'information', ':', 'class', 'materials', 'fee', 'or', 'field', 'trip', 'fee', 'may', 'be', 'required', '.']\n"
     ]
    }
   ],
   "source": [
    "### Below code is for getting the similarity between the query and the stored documents\n",
    "\n",
    "### first we create the word tokes from the course description. \n",
    "### In this case I have chosen the first course from the data set\n",
    "### I expect the similarity of 1 between this query and the documents and rest less than 1. \n",
    "\n",
    "\n",
    "query_doc = [w.lower() for w in word_tokenize(dataset[\"Description\"][0])]\n",
    "print(query_doc)"
   ]
  },
  {
   "cell_type": "code",
   "execution_count": 87,
   "metadata": {},
   "outputs": [
    {
     "name": "stdout",
     "output_type": "stream",
     "text": [
      "[(0, 7), (1, 10), (2, 1), (3, 1), (4, 1), (5, 2), (6, 1), (7, 1), (8, 1), (9, 6), (10, 1), (11, 1), (12, 1), (13, 1), (14, 1), (15, 3), (16, 3), (17, 1), (18, 1), (19, 1), (20, 2), (21, 1), (22, 1), (23, 1), (24, 1), (25, 3), (26, 2), (27, 1), (28, 1), (29, 1), (30, 1), (31, 2), (32, 1), (33, 2), (34, 1), (35, 1), (36, 2), (37, 1), (38, 1), (39, 1), (40, 1), (41, 1), (42, 4), (43, 1), (44, 1), (45, 1), (46, 2), (47, 1), (48, 3), (49, 1), (50, 2), (51, 1), (52, 1), (53, 1), (54, 1), (55, 1), (56, 7), (57, 1), (58, 2), (59, 2), (60, 1), (61, 1), (62, 1), (63, 1), (64, 1), (65, 2), (66, 1), (67, 1), (68, 2), (69, 1), (70, 1), (71, 1), (72, 1), (73, 1), (74, 1), (75, 2), (76, 4), (77, 1), (78, 1), (79, 4), (80, 2), (81, 1), (82, 1), (83, 2), (84, 1), (85, 1), (86, 1), (87, 3)]\n"
     ]
    }
   ],
   "source": [
    "### we need to perform the same operation on the query as we did for the documents. \n",
    "\n",
    "query_doc_bow = word_dictionary.doc2bow(query_doc)\n",
    "print(query_doc_bow)"
   ]
  },
  {
   "cell_type": "code",
   "execution_count": 88,
   "metadata": {},
   "outputs": [
    {
     "name": "stdout",
     "output_type": "stream",
     "text": [
      "[(0, 0.026703463968177941), (1, 0.0068235513002321427), (2, 0.052006815696060721), (3, 0.0064454315011944641), (4, 0.050929158773245997), (5, 0.0041821922615659195), (6, 0.042551974216100762), (7, 0.16378917951040867), (8, 0.042551974216100762), (9, 0.0082750693555573799), (10, 0.040948456610461571), (11, 0.025112562869319215), (12, 0.049885719023243), (13, 0.11089405050840016), (14, 0.052006815696060721), (15, 0.081315080777429619), (16, 0.11387584592513514), (17, 0.16378917951040867), (18, 0.12768263679550237), (19, 0.16378917951040867), (20, 0.0022905168751988685), (21, 0.049885719023243), (22, 0.015537113578716531), (23, 0.12768263679550237), (24, 0.049885719023243), (25, 0.14367976490025705), (26, 0.28201697482595106), (27, 0.052006815696060721), (28, 0.045114226392078814), (29, 0.14100848741297553), (30, 0.12768263679550237), (31, 0.32757835902081733), (32, 0.050929158773245997), (33, 0.085103948432201523), (34, 0.042551974216100762), (35, 0.035882203335193333), (36, 0.024875074623050785), (37, 0.057998921506391653), (38, 0.0053677745783797326), (39, 0.065332666313533891), (40, 0.0053677745783797326), (41, 0.052006815696060721), (42, 0.0064590994916964434), (43, 0.050929158773245997), (44, 0.16378917951040867), (45, 0.16378917951040867), (46, 0.029645232116679392), (47, 0.032085803972099182), (48, 0.10178765241437379), (49, 0.084980932974107679), (50, 0.19967138284560201), (51, 0.16378917951040867), (52, 0.16378917951040867), (53, 0.052006815696060721), (54, 0.013779176308336702), (55, 0.16378917951040867), (56, 0.01973144130712727), (57, 0.052006815696060721), (58, 0.047387367807792367), (59, 0.026203022475520393), (60, 0.091576094080596082), (61, 0.11822779531554241), (62, 0.015537113578716531), (63, 0.062200240876674549), (64, 0.11822779531554241), (65, 0.32757835902081733), (66, 0.040175112894386647), (67, 0.026595472664315695), (68, 0.085103948432201523), (69, 0.042551974216100762), (70, 0.046014709885729803), (71, 0.035882203335193333), (72, 0.082121252600636102), (73, 0.042551974216100762), (74, 0.10490194469806924), (75, 0.14533282224135227), (76, 0.01832842198002416), (77, 0.025599469427022743), (78, 0.062200240876674549), (79, 0.038421025395968554), (80, 0.060680636295585011), (81, 0.042551974216100762), (82, 0.041740436897218451), (83, 0.25536527359100475), (84, 0.16378917951040867), (85, 0.16378917951040867), (86, 0.11822779531554241), (87, 0.073898294072715628)]\n"
     ]
    }
   ],
   "source": [
    "## calculate the tf-idf for the words in the query. \n",
    "\n",
    "query_doc_tf_idf = tf_idf[query_doc_bow]\n",
    "print(query_doc_tf_idf)"
   ]
  },
  {
   "cell_type": "code",
   "execution_count": 104,
   "metadata": {},
   "outputs": [],
   "source": [
    "### the sims object now returns an array of the similarity \n",
    "## between the query and the stored documents. \n",
    "### note that the  1st value of the array is 1, which is expected, since.\n",
    "### we queried the course description from the 1st row itself. \n",
    "\n",
    "#sims[query_doc_tf_idf]"
   ]
  },
  {
   "cell_type": "code",
   "execution_count": 90,
   "metadata": {
    "collapsed": true
   },
   "outputs": [],
   "source": [
    "## Creating the matrix of similarity values now. \n",
    "\n",
    "sim_matrix = []\n",
    "for query in dataset[\"Description\"][:no_of_nodes]:\n",
    "    #print(query)\n",
    "    query_doc = [w.lower() for w in word_tokenize(str(query))]\n",
    "    query_doc_bow = word_dictionary.doc2bow(query_doc)\n",
    "    query_doc_tf_idf = tf_idf[query_doc_bow]\n",
    "    sim_matrix.append(sims[query_doc_tf_idf])"
   ]
  },
  {
   "cell_type": "code",
   "execution_count": null,
   "metadata": {
    "collapsed": true
   },
   "outputs": [],
   "source": []
  },
  {
   "cell_type": "code",
   "execution_count": 91,
   "metadata": {
    "collapsed": true
   },
   "outputs": [],
   "source": [
    "df = pd.DataFrame(sim_matrix )\n",
    "course_id = np.array(dataset[\"ID\"][:no_of_nodes])\n",
    "df.columns = course_id\n",
    "df[\"CourseID\"] =dataset[\"ID\"]\n",
    "#df.set_index(\"CourseID\")\n",
    "df.to_csv(\"sim_matrix.csv\")\n"
   ]
  },
  {
   "cell_type": "code",
   "execution_count": 92,
   "metadata": {
    "collapsed": true
   },
   "outputs": [],
   "source": [
    "\n",
    "df.set_index(\"CourseID\", inplace=True)\n",
    "#df.reindex(\"CourseID\")\n"
   ]
  },
  {
   "cell_type": "code",
   "execution_count": 93,
   "metadata": {},
   "outputs": [
    {
     "data": {
      "text/html": [
       "<div>\n",
       "<style>\n",
       "    .dataframe thead tr:only-child th {\n",
       "        text-align: right;\n",
       "    }\n",
       "\n",
       "    .dataframe thead th {\n",
       "        text-align: left;\n",
       "    }\n",
       "\n",
       "    .dataframe tbody tr th {\n",
       "        vertical-align: top;\n",
       "    }\n",
       "</style>\n",
       "<table border=\"1\" class=\"dataframe\">\n",
       "  <thead>\n",
       "    <tr style=\"text-align: right;\">\n",
       "      <th></th>\n",
       "      <th>590DV</th>\n",
       "      <th>590DW</th>\n",
       "      <th>590ED1</th>\n",
       "      <th>590ED2</th>\n",
       "      <th>590ELO</th>\n",
       "      <th>590ET</th>\n",
       "      <th>590GE</th>\n",
       "      <th>590GEO</th>\n",
       "      <th>590GHG</th>\n",
       "      <th>590GLO</th>\n",
       "      <th>...</th>\n",
       "      <th>490SMU</th>\n",
       "      <th>490TEO</th>\n",
       "      <th>501A</th>\n",
       "      <th>501AO</th>\n",
       "      <th>501AO2</th>\n",
       "      <th>501B</th>\n",
       "      <th>502A</th>\n",
       "      <th>502AO</th>\n",
       "      <th>502AO2</th>\n",
       "      <th>502AO3</th>\n",
       "    </tr>\n",
       "    <tr>\n",
       "      <th>CourseID</th>\n",
       "      <th></th>\n",
       "      <th></th>\n",
       "      <th></th>\n",
       "      <th></th>\n",
       "      <th></th>\n",
       "      <th></th>\n",
       "      <th></th>\n",
       "      <th></th>\n",
       "      <th></th>\n",
       "      <th></th>\n",
       "      <th></th>\n",
       "      <th></th>\n",
       "      <th></th>\n",
       "      <th></th>\n",
       "      <th></th>\n",
       "      <th></th>\n",
       "      <th></th>\n",
       "      <th></th>\n",
       "      <th></th>\n",
       "      <th></th>\n",
       "      <th></th>\n",
       "    </tr>\n",
       "  </thead>\n",
       "  <tbody>\n",
       "    <tr>\n",
       "      <th>590DV</th>\n",
       "      <td>1.000000</td>\n",
       "      <td>0.145262</td>\n",
       "      <td>0.074886</td>\n",
       "      <td>0.074755</td>\n",
       "      <td>0.157270</td>\n",
       "      <td>0.229005</td>\n",
       "      <td>0.104568</td>\n",
       "      <td>0.104565</td>\n",
       "      <td>0.132972</td>\n",
       "      <td>0.120941</td>\n",
       "      <td>...</td>\n",
       "      <td>0.084159</td>\n",
       "      <td>0.151935</td>\n",
       "      <td>0.027279</td>\n",
       "      <td>0.036173</td>\n",
       "      <td>0.036173</td>\n",
       "      <td>0.027279</td>\n",
       "      <td>0.028772</td>\n",
       "      <td>0.028772</td>\n",
       "      <td>0.028772</td>\n",
       "      <td>0.028772</td>\n",
       "    </tr>\n",
       "    <tr>\n",
       "      <th>590DW</th>\n",
       "      <td>0.145262</td>\n",
       "      <td>1.000000</td>\n",
       "      <td>0.084667</td>\n",
       "      <td>0.084520</td>\n",
       "      <td>0.148458</td>\n",
       "      <td>0.226181</td>\n",
       "      <td>0.113408</td>\n",
       "      <td>0.113405</td>\n",
       "      <td>0.122644</td>\n",
       "      <td>0.117963</td>\n",
       "      <td>...</td>\n",
       "      <td>0.075511</td>\n",
       "      <td>0.124987</td>\n",
       "      <td>0.013540</td>\n",
       "      <td>0.014875</td>\n",
       "      <td>0.014875</td>\n",
       "      <td>0.013540</td>\n",
       "      <td>0.011189</td>\n",
       "      <td>0.011189</td>\n",
       "      <td>0.011189</td>\n",
       "      <td>0.011189</td>\n",
       "    </tr>\n",
       "    <tr>\n",
       "      <th>590ED1</th>\n",
       "      <td>0.074886</td>\n",
       "      <td>0.084667</td>\n",
       "      <td>1.000000</td>\n",
       "      <td>0.985337</td>\n",
       "      <td>0.094939</td>\n",
       "      <td>0.133305</td>\n",
       "      <td>0.102169</td>\n",
       "      <td>0.102167</td>\n",
       "      <td>0.095415</td>\n",
       "      <td>0.082315</td>\n",
       "      <td>...</td>\n",
       "      <td>0.050769</td>\n",
       "      <td>0.061170</td>\n",
       "      <td>0.036454</td>\n",
       "      <td>0.034942</td>\n",
       "      <td>0.034942</td>\n",
       "      <td>0.036454</td>\n",
       "      <td>0.027865</td>\n",
       "      <td>0.027865</td>\n",
       "      <td>0.027865</td>\n",
       "      <td>0.027865</td>\n",
       "    </tr>\n",
       "    <tr>\n",
       "      <th>590ED2</th>\n",
       "      <td>0.074755</td>\n",
       "      <td>0.084520</td>\n",
       "      <td>0.985337</td>\n",
       "      <td>1.000000</td>\n",
       "      <td>0.094774</td>\n",
       "      <td>0.133073</td>\n",
       "      <td>0.101991</td>\n",
       "      <td>0.101989</td>\n",
       "      <td>0.095248</td>\n",
       "      <td>0.082172</td>\n",
       "      <td>...</td>\n",
       "      <td>0.050680</td>\n",
       "      <td>0.061064</td>\n",
       "      <td>0.036390</td>\n",
       "      <td>0.034881</td>\n",
       "      <td>0.034881</td>\n",
       "      <td>0.036390</td>\n",
       "      <td>0.027817</td>\n",
       "      <td>0.027817</td>\n",
       "      <td>0.027817</td>\n",
       "      <td>0.027817</td>\n",
       "    </tr>\n",
       "    <tr>\n",
       "      <th>590ELO</th>\n",
       "      <td>0.157270</td>\n",
       "      <td>0.148458</td>\n",
       "      <td>0.094939</td>\n",
       "      <td>0.094774</td>\n",
       "      <td>1.000000</td>\n",
       "      <td>0.291297</td>\n",
       "      <td>0.173073</td>\n",
       "      <td>0.173069</td>\n",
       "      <td>0.193372</td>\n",
       "      <td>0.159812</td>\n",
       "      <td>...</td>\n",
       "      <td>0.104642</td>\n",
       "      <td>0.171763</td>\n",
       "      <td>0.033031</td>\n",
       "      <td>0.032983</td>\n",
       "      <td>0.032983</td>\n",
       "      <td>0.033031</td>\n",
       "      <td>0.045739</td>\n",
       "      <td>0.045739</td>\n",
       "      <td>0.045739</td>\n",
       "      <td>0.045739</td>\n",
       "    </tr>\n",
       "  </tbody>\n",
       "</table>\n",
       "<p>5 rows × 146 columns</p>\n",
       "</div>"
      ],
      "text/plain": [
       "             590DV     590DW    590ED1    590ED2    590ELO     590ET  \\\n",
       "CourseID                                                               \n",
       "590DV     1.000000  0.145262  0.074886  0.074755  0.157270  0.229005   \n",
       "590DW     0.145262  1.000000  0.084667  0.084520  0.148458  0.226181   \n",
       "590ED1    0.074886  0.084667  1.000000  0.985337  0.094939  0.133305   \n",
       "590ED2    0.074755  0.084520  0.985337  1.000000  0.094774  0.133073   \n",
       "590ELO    0.157270  0.148458  0.094939  0.094774  1.000000  0.291297   \n",
       "\n",
       "             590GE    590GEO    590GHG    590GLO    ...       490SMU  \\\n",
       "CourseID                                            ...                \n",
       "590DV     0.104568  0.104565  0.132972  0.120941    ...     0.084159   \n",
       "590DW     0.113408  0.113405  0.122644  0.117963    ...     0.075511   \n",
       "590ED1    0.102169  0.102167  0.095415  0.082315    ...     0.050769   \n",
       "590ED2    0.101991  0.101989  0.095248  0.082172    ...     0.050680   \n",
       "590ELO    0.173073  0.173069  0.193372  0.159812    ...     0.104642   \n",
       "\n",
       "            490TEO      501A     501AO    501AO2      501B      502A  \\\n",
       "CourseID                                                               \n",
       "590DV     0.151935  0.027279  0.036173  0.036173  0.027279  0.028772   \n",
       "590DW     0.124987  0.013540  0.014875  0.014875  0.013540  0.011189   \n",
       "590ED1    0.061170  0.036454  0.034942  0.034942  0.036454  0.027865   \n",
       "590ED2    0.061064  0.036390  0.034881  0.034881  0.036390  0.027817   \n",
       "590ELO    0.171763  0.033031  0.032983  0.032983  0.033031  0.045739   \n",
       "\n",
       "             502AO    502AO2    502AO3  \n",
       "CourseID                                \n",
       "590DV     0.028772  0.028772  0.028772  \n",
       "590DW     0.011189  0.011189  0.011189  \n",
       "590ED1    0.027865  0.027865  0.027865  \n",
       "590ED2    0.027817  0.027817  0.027817  \n",
       "590ELO    0.045739  0.045739  0.045739  \n",
       "\n",
       "[5 rows x 146 columns]"
      ]
     },
     "execution_count": 93,
     "metadata": {},
     "output_type": "execute_result"
    }
   ],
   "source": [
    "df.head()"
   ]
  },
  {
   "cell_type": "code",
   "execution_count": 94,
   "metadata": {
    "collapsed": true
   },
   "outputs": [],
   "source": [
    "import networkx as nx\n",
    "G=nx.Graph()"
   ]
  },
  {
   "cell_type": "code",
   "execution_count": 95,
   "metadata": {
    "collapsed": true
   },
   "outputs": [],
   "source": [
    "### The below code gets us the upper triangular matrix \n",
    "### which removes the duplicates\n"
   ]
  },
  {
   "cell_type": "code",
   "execution_count": 96,
   "metadata": {},
   "outputs": [
    {
     "data": {
      "text/html": [
       "<div>\n",
       "<style>\n",
       "    .dataframe thead tr:only-child th {\n",
       "        text-align: right;\n",
       "    }\n",
       "\n",
       "    .dataframe thead th {\n",
       "        text-align: left;\n",
       "    }\n",
       "\n",
       "    .dataframe tbody tr th {\n",
       "        vertical-align: top;\n",
       "    }\n",
       "</style>\n",
       "<table border=\"1\" class=\"dataframe\">\n",
       "  <thead>\n",
       "    <tr style=\"text-align: right;\">\n",
       "      <th></th>\n",
       "      <th>Row</th>\n",
       "      <th>Column</th>\n",
       "      <th>Value</th>\n",
       "    </tr>\n",
       "  </thead>\n",
       "  <tbody>\n",
       "    <tr>\n",
       "      <th>0</th>\n",
       "      <td>590DV</td>\n",
       "      <td>590DV</td>\n",
       "      <td>1.000000</td>\n",
       "    </tr>\n",
       "    <tr>\n",
       "      <th>1</th>\n",
       "      <td>590DV</td>\n",
       "      <td>590DW</td>\n",
       "      <td>0.145262</td>\n",
       "    </tr>\n",
       "    <tr>\n",
       "      <th>2</th>\n",
       "      <td>590DV</td>\n",
       "      <td>590ED1</td>\n",
       "      <td>0.074886</td>\n",
       "    </tr>\n",
       "    <tr>\n",
       "      <th>3</th>\n",
       "      <td>590DV</td>\n",
       "      <td>590ED2</td>\n",
       "      <td>0.074755</td>\n",
       "    </tr>\n",
       "    <tr>\n",
       "      <th>4</th>\n",
       "      <td>590DV</td>\n",
       "      <td>590ELO</td>\n",
       "      <td>0.157270</td>\n",
       "    </tr>\n",
       "  </tbody>\n",
       "</table>\n",
       "</div>"
      ],
      "text/plain": [
       "     Row  Column     Value\n",
       "0  590DV   590DV  1.000000\n",
       "1  590DV   590DW  0.145262\n",
       "2  590DV  590ED1  0.074886\n",
       "3  590DV  590ED2  0.074755\n",
       "4  590DV  590ELO  0.157270"
      ]
     },
     "execution_count": 96,
     "metadata": {},
     "output_type": "execute_result"
    }
   ],
   "source": [
    "#print(np.triu(np.ones(df.shape)).astype(np.bool))\n",
    "df_triu = df.where(np.triu(np.ones(df.shape)).astype(np.bool))\n",
    "#print (df)\n",
    "\n",
    "df_triu = df_triu.stack().reset_index()\n",
    "df_triu.columns = ['Row','Column','Value']\n",
    "\n",
    "df_triu.head()"
   ]
  },
  {
   "cell_type": "code",
   "execution_count": 97,
   "metadata": {
    "collapsed": true
   },
   "outputs": [],
   "source": [
    "### The below code sets 'Value column to 1 or 0 based \n",
    "### on the cut-off "
   ]
  },
  {
   "cell_type": "code",
   "execution_count": 98,
   "metadata": {},
   "outputs": [
    {
     "data": {
      "text/html": [
       "<div>\n",
       "<style>\n",
       "    .dataframe thead tr:only-child th {\n",
       "        text-align: right;\n",
       "    }\n",
       "\n",
       "    .dataframe thead th {\n",
       "        text-align: left;\n",
       "    }\n",
       "\n",
       "    .dataframe tbody tr th {\n",
       "        vertical-align: top;\n",
       "    }\n",
       "</style>\n",
       "<table border=\"1\" class=\"dataframe\">\n",
       "  <thead>\n",
       "    <tr style=\"text-align: right;\">\n",
       "      <th></th>\n",
       "      <th>Row</th>\n",
       "      <th>Column</th>\n",
       "      <th>Value</th>\n",
       "    </tr>\n",
       "  </thead>\n",
       "  <tbody>\n",
       "    <tr>\n",
       "      <th>1</th>\n",
       "      <td>590DV</td>\n",
       "      <td>590DW</td>\n",
       "      <td>1.0</td>\n",
       "    </tr>\n",
       "    <tr>\n",
       "      <th>2</th>\n",
       "      <td>590DV</td>\n",
       "      <td>590ED1</td>\n",
       "      <td>1.0</td>\n",
       "    </tr>\n",
       "    <tr>\n",
       "      <th>3</th>\n",
       "      <td>590DV</td>\n",
       "      <td>590ED2</td>\n",
       "      <td>1.0</td>\n",
       "    </tr>\n",
       "    <tr>\n",
       "      <th>4</th>\n",
       "      <td>590DV</td>\n",
       "      <td>590ELO</td>\n",
       "      <td>1.0</td>\n",
       "    </tr>\n",
       "    <tr>\n",
       "      <th>5</th>\n",
       "      <td>590DV</td>\n",
       "      <td>590ET</td>\n",
       "      <td>1.0</td>\n",
       "    </tr>\n",
       "  </tbody>\n",
       "</table>\n",
       "</div>"
      ],
      "text/plain": [
       "     Row  Column  Value\n",
       "1  590DV   590DW    1.0\n",
       "2  590DV  590ED1    1.0\n",
       "3  590DV  590ED2    1.0\n",
       "4  590DV  590ELO    1.0\n",
       "5  590DV   590ET    1.0"
      ]
     },
     "execution_count": 98,
     "metadata": {},
     "output_type": "execute_result"
    }
   ],
   "source": [
    "cutoff= 0.04\n",
    "df_triu = df_triu[df_triu['Row'] !=df_triu['Column']]\n",
    "df_triu.loc[df_triu['Value'] > cutoff, 'Value']= 1\n",
    "df_triu.loc[df_triu['Value'] < cutoff, 'Value']= 0\n",
    "\n",
    "df_triu.head()"
   ]
  },
  {
   "cell_type": "code",
   "execution_count": 99,
   "metadata": {
    "collapsed": true
   },
   "outputs": [],
   "source": [
    "G = nx.from_pandas_dataframe(df_triu[df_triu['Value']==1],'Row','Column')\n",
    "\n"
   ]
  },
  {
   "cell_type": "markdown",
   "metadata": {
    "collapsed": true
   },
   "source": [
    "\n",
    "### Below code is not needed now.\n",
    "\n",
    "node_edges_dict={}\n",
    "\n",
    "for rows in df:\n",
    "    for cols in df.columns:\n",
    "        print(rows, cols, df.loc[rows][cols])\n",
    "        G.add_node(rows)\n",
    "        #print(df[rows][cols])\n",
    "        #if df.loc[rows][cols] == 1 :\n",
    "         #   G.add_edge(rows,cols)\n",
    "        #print(df.loc[rows][cols])"
   ]
  },
  {
   "cell_type": "code",
   "execution_count": 100,
   "metadata": {},
   "outputs": [
    {
     "name": "stdout",
     "output_type": "stream",
     "text": [
      "145\n",
      "4412\n"
     ]
    }
   ],
   "source": [
    "print(len(G.nodes))\n",
    "print(len(G.edges))\n"
   ]
  },
  {
   "cell_type": "code",
   "execution_count": 101,
   "metadata": {
    "collapsed": true
   },
   "outputs": [],
   "source": [
    "def dict_to_values(G, dict_data):\n",
    "    return [dict_data[n] for n in G.nodes]"
   ]
  },
  {
   "cell_type": "code",
   "execution_count": 102,
   "metadata": {
    "collapsed": true
   },
   "outputs": [],
   "source": [
    "def plot_network(G, node_size_dict, factor=10, **kwargs):\n",
    "    nx.draw(\n",
    "        G, \n",
    "        pos=nx.spring_layout(G),\n",
    "        with_labels=True,\n",
    "        node_size=[v*factor for v in dict_to_values(G, node_size_dict)],\n",
    "        **kwargs\n",
    "    )"
   ]
  },
  {
   "cell_type": "code",
   "execution_count": 103,
   "metadata": {},
   "outputs": [
    {
     "data": {
      "image/png": "[encoded data removed]",
      "text/plain": [
       "<matplotlib.figure.Figure at 0x1a1d8cd128>"
      ]
     },
     "metadata": {},
     "output_type": "display_data"
    }
   ],
   "source": [
    "plot_network(G,nx.degree(G),factor=100,font_size=10, node_color=\"r\", width=.25)"
   ]
  },
  {
   "cell_type": "code",
   "execution_count": 73,
   "metadata": {},
   "outputs": [
    {
     "data": {
      "image/png": "[encoded data removed]",
      "text/plain": [
       "<matplotlib.figure.Figure at 0x1a1da76c88>"
      ]
     },
     "metadata": {},
     "output_type": "display_data"
    }
   ],
   "source": [
    "nx.draw(G,pos=nx.spring_layout(G),with_labels=True)"
   ]
  },
  {
   "cell_type": "code",
   "execution_count": 74,
   "metadata": {},
   "outputs": [],
   "source": [
    "### Centrality Measure\n",
    "from utilities import get_all_node_metrics\n",
    "\n",
    "cent_measure= {'degree': nx.degree(G),\n",
    "               'betweenness': nx.betweenness_centrality(G),\n",
    "               'closeness'  : nx.closeness_centrality(G),\n",
    "               'eigen_vector': nx.eigenvector_centrality(G)\n",
    "              }\n",
    "\n",
    "df_cm = get_all_node_metrics(G)"
   ]
  },
  {
   "cell_type": "code",
   "execution_count": 41,
   "metadata": {},
   "outputs": [
    {
     "data": {
      "text/plain": [
       "(20, 5)"
      ]
     },
     "execution_count": 41,
     "metadata": {},
     "output_type": "execute_result"
    }
   ],
   "source": [
    "df_cm.shape"
   ]
  },
  {
   "cell_type": "code",
   "execution_count": 40,
   "metadata": {},
   "outputs": [
    {
     "data": {
      "text/html": [
       "<div>\n",
       "<style>\n",
       "    .dataframe thead tr:only-child th {\n",
       "        text-align: right;\n",
       "    }\n",
       "\n",
       "    .dataframe thead th {\n",
       "        text-align: left;\n",
       "    }\n",
       "\n",
       "    .dataframe tbody tr th {\n",
       "        vertical-align: top;\n",
       "    }\n",
       "</style>\n",
       "<table border=\"1\" class=\"dataframe\">\n",
       "  <thead>\n",
       "    <tr style=\"text-align: right;\">\n",
       "      <th></th>\n",
       "      <th>degree</th>\n",
       "      <th>betweenness</th>\n",
       "      <th>closeness</th>\n",
       "      <th>eigenvector</th>\n",
       "      <th>clustering</th>\n",
       "    </tr>\n",
       "  </thead>\n",
       "  <tbody>\n",
       "    <tr>\n",
       "      <th>590DV</th>\n",
       "      <td>0.684211</td>\n",
       "      <td>0.001685</td>\n",
       "      <td>0.760000</td>\n",
       "      <td>0.175029</td>\n",
       "      <td>0.948718</td>\n",
       "    </tr>\n",
       "    <tr>\n",
       "      <th>590DW</th>\n",
       "      <td>0.947368</td>\n",
       "      <td>0.006232</td>\n",
       "      <td>0.950000</td>\n",
       "      <td>0.237139</td>\n",
       "      <td>0.908497</td>\n",
       "    </tr>\n",
       "    <tr>\n",
       "      <th>590ELO</th>\n",
       "      <td>0.894737</td>\n",
       "      <td>0.007293</td>\n",
       "      <td>0.904762</td>\n",
       "      <td>0.222340</td>\n",
       "      <td>0.889706</td>\n",
       "    </tr>\n",
       "    <tr>\n",
       "      <th>590ET</th>\n",
       "      <td>0.789474</td>\n",
       "      <td>0.005191</td>\n",
       "      <td>0.826087</td>\n",
       "      <td>0.198467</td>\n",
       "      <td>0.904762</td>\n",
       "    </tr>\n",
       "    <tr>\n",
       "      <th>590GLO</th>\n",
       "      <td>0.789474</td>\n",
       "      <td>0.006015</td>\n",
       "      <td>0.826087</td>\n",
       "      <td>0.196960</td>\n",
       "      <td>0.885714</td>\n",
       "    </tr>\n",
       "    <tr>\n",
       "      <th>590IK</th>\n",
       "      <td>0.947368</td>\n",
       "      <td>0.008323</td>\n",
       "      <td>0.950000</td>\n",
       "      <td>0.234994</td>\n",
       "      <td>0.888889</td>\n",
       "    </tr>\n",
       "    <tr>\n",
       "      <th>590ISO</th>\n",
       "      <td>0.894737</td>\n",
       "      <td>0.004520</td>\n",
       "      <td>0.904762</td>\n",
       "      <td>0.226252</td>\n",
       "      <td>0.926471</td>\n",
       "    </tr>\n",
       "    <tr>\n",
       "      <th>590MD</th>\n",
       "      <td>1.000000</td>\n",
       "      <td>0.010036</td>\n",
       "      <td>1.000000</td>\n",
       "      <td>0.245882</td>\n",
       "      <td>0.877193</td>\n",
       "    </tr>\n",
       "    <tr>\n",
       "      <th>590OH</th>\n",
       "      <td>0.947368</td>\n",
       "      <td>0.006232</td>\n",
       "      <td>0.950000</td>\n",
       "      <td>0.237139</td>\n",
       "      <td>0.908497</td>\n",
       "    </tr>\n",
       "    <tr>\n",
       "      <th>590PBO</th>\n",
       "      <td>0.947368</td>\n",
       "      <td>0.008259</td>\n",
       "      <td>0.950000</td>\n",
       "      <td>0.234911</td>\n",
       "      <td>0.888889</td>\n",
       "    </tr>\n",
       "    <tr>\n",
       "      <th>590PC</th>\n",
       "      <td>1.000000</td>\n",
       "      <td>0.010036</td>\n",
       "      <td>1.000000</td>\n",
       "      <td>0.245882</td>\n",
       "      <td>0.877193</td>\n",
       "    </tr>\n",
       "    <tr>\n",
       "      <th>590PR</th>\n",
       "      <td>0.947368</td>\n",
       "      <td>0.006232</td>\n",
       "      <td>0.950000</td>\n",
       "      <td>0.237139</td>\n",
       "      <td>0.908497</td>\n",
       "    </tr>\n",
       "    <tr>\n",
       "      <th>590PR2</th>\n",
       "      <td>0.947368</td>\n",
       "      <td>0.006232</td>\n",
       "      <td>0.950000</td>\n",
       "      <td>0.237139</td>\n",
       "      <td>0.908497</td>\n",
       "    </tr>\n",
       "    <tr>\n",
       "      <th>590QM</th>\n",
       "      <td>0.947368</td>\n",
       "      <td>0.006232</td>\n",
       "      <td>0.950000</td>\n",
       "      <td>0.237139</td>\n",
       "      <td>0.908497</td>\n",
       "    </tr>\n",
       "    <tr>\n",
       "      <th>590ED1</th>\n",
       "      <td>0.842105</td>\n",
       "      <td>0.004194</td>\n",
       "      <td>0.863636</td>\n",
       "      <td>0.212946</td>\n",
       "      <td>0.925000</td>\n",
       "    </tr>\n",
       "    <tr>\n",
       "      <th>590ED2</th>\n",
       "      <td>0.842105</td>\n",
       "      <td>0.004194</td>\n",
       "      <td>0.863636</td>\n",
       "      <td>0.212946</td>\n",
       "      <td>0.925000</td>\n",
       "    </tr>\n",
       "    <tr>\n",
       "      <th>590GE</th>\n",
       "      <td>0.947368</td>\n",
       "      <td>0.006750</td>\n",
       "      <td>0.950000</td>\n",
       "      <td>0.236207</td>\n",
       "      <td>0.901961</td>\n",
       "    </tr>\n",
       "    <tr>\n",
       "      <th>590GEO</th>\n",
       "      <td>0.947368</td>\n",
       "      <td>0.006750</td>\n",
       "      <td>0.950000</td>\n",
       "      <td>0.236207</td>\n",
       "      <td>0.901961</td>\n",
       "    </tr>\n",
       "    <tr>\n",
       "      <th>590PP</th>\n",
       "      <td>0.894737</td>\n",
       "      <td>0.005038</td>\n",
       "      <td>0.904762</td>\n",
       "      <td>0.225319</td>\n",
       "      <td>0.919118</td>\n",
       "    </tr>\n",
       "    <tr>\n",
       "      <th>590GHG</th>\n",
       "      <td>0.631579</td>\n",
       "      <td>0.003364</td>\n",
       "      <td>0.730769</td>\n",
       "      <td>0.158159</td>\n",
       "      <td>0.878788</td>\n",
       "    </tr>\n",
       "  </tbody>\n",
       "</table>\n",
       "</div>"
      ],
      "text/plain": [
       "          degree  betweenness  closeness  eigenvector  clustering\n",
       "590DV   0.684211     0.001685   0.760000     0.175029    0.948718\n",
       "590DW   0.947368     0.006232   0.950000     0.237139    0.908497\n",
       "590ELO  0.894737     0.007293   0.904762     0.222340    0.889706\n",
       "590ET   0.789474     0.005191   0.826087     0.198467    0.904762\n",
       "590GLO  0.789474     0.006015   0.826087     0.196960    0.885714\n",
       "590IK   0.947368     0.008323   0.950000     0.234994    0.888889\n",
       "590ISO  0.894737     0.004520   0.904762     0.226252    0.926471\n",
       "590MD   1.000000     0.010036   1.000000     0.245882    0.877193\n",
       "590OH   0.947368     0.006232   0.950000     0.237139    0.908497\n",
       "590PBO  0.947368     0.008259   0.950000     0.234911    0.888889\n",
       "590PC   1.000000     0.010036   1.000000     0.245882    0.877193\n",
       "590PR   0.947368     0.006232   0.950000     0.237139    0.908497\n",
       "590PR2  0.947368     0.006232   0.950000     0.237139    0.908497\n",
       "590QM   0.947368     0.006232   0.950000     0.237139    0.908497\n",
       "590ED1  0.842105     0.004194   0.863636     0.212946    0.925000\n",
       "590ED2  0.842105     0.004194   0.863636     0.212946    0.925000\n",
       "590GE   0.947368     0.006750   0.950000     0.236207    0.901961\n",
       "590GEO  0.947368     0.006750   0.950000     0.236207    0.901961\n",
       "590PP   0.894737     0.005038   0.904762     0.225319    0.919118\n",
       "590GHG  0.631579     0.003364   0.730769     0.158159    0.878788"
      ]
     },
     "execution_count": 40,
     "metadata": {},
     "output_type": "execute_result"
    }
   ],
   "source": [
    "df_cm"
   ]
  },
  {
   "cell_type": "code",
   "execution_count": 105,
   "metadata": {
    "collapsed": true
   },
   "outputs": [],
   "source": [
    "all_sims = sum(map(list, sim_matrix), [])"
   ]
  },
  {
   "cell_type": "code",
   "execution_count": 108,
   "metadata": {},
   "outputs": [
    {
     "data": {
      "text/plain": [
       "(array([  1.89980000e+04,   1.57000000e+03,   2.76000000e+02,\n",
       "          6.20000000e+01,   1.80000000e+01,   1.40000000e+01,\n",
       "          1.60000000e+01,   1.40000000e+01,   1.40000000e+01,\n",
       "          2.41000000e+02]),\n",
       " array([ 0. ,  0.1,  0.2,  0.3,  0.4,  0.5,  0.6,  0.7,  0.8,  0.9,  1. ]),\n",
       " <a list of 10 Patch objects>)"
      ]
     },
     "execution_count": 108,
     "metadata": {},
     "output_type": "execute_result"
    },
    {
     "data": {
      "image/png": "[encoded data removed]",
      "text/plain": [
       "<matplotlib.figure.Figure at 0x1a1e44f8d0>"
      ]
     },
     "metadata": {},
     "output_type": "display_data"
    }
   ],
   "source": [
    "plt.hist(all_sims, bins=np.arange(0,1.1, 0.1))"
   ]
  },
  {
   "cell_type": "code",
   "execution_count": 109,
   "metadata": {},
   "outputs": [
    {
     "data": {
      "text/plain": [
       "21316"
      ]
     },
     "execution_count": 109,
     "metadata": {},
     "output_type": "execute_result"
    }
   ],
   "source": [
    "146*146"
   ]
  },
  {
   "cell_type": "code",
   "execution_count": null,
   "metadata": {
    "collapsed": true
   },
   "outputs": [],
   "source": []
  }
 ],
 "metadata": {
  "kernelspec": {
   "display_name": "Python 3",
   "language": "python",
   "name": "python3"
  },
  "language_info": {
   "codemirror_mode": {
    "name": "ipython",
    "version": 3
   },
   "file_extension": ".py",
   "mimetype": "text/x-python",
   "name": "python",
   "nbconvert_exporter": "python",
   "pygments_lexer": "ipython3",
   "version": "3.6.3"
  }
 },
 "nbformat": 4,
 "nbformat_minor": 2
}
